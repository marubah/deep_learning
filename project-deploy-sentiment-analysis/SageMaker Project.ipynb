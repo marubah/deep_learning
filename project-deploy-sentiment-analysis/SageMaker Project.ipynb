{
 "cells": [
  {
   "cell_type": "markdown",
   "metadata": {},
   "source": [
    "# Creating a Sentiment Analysis Web App\n",
    "## Using PyTorch and SageMaker\n",
    "\n",
    "_Deep Learning Nanodegree Program | Deployment_\n",
    "\n",
    "---\n",
    "\n",
    "Now that we have a basic understanding of how SageMaker works we will try to use it to construct a complete project from end to end. Our goal will be to have a simple web page which a user can use to enter a movie review. The web page will then send the review off to our deployed model which will predict the sentiment of the entered review.\n",
    "\n",
    "## Instructions\n",
    "\n",
    "Some template code has already been provided for you, and you will need to implement additional functionality to successfully complete this notebook. You will not need to modify the included code beyond what is requested. Sections that begin with '**TODO**' in the header indicate that you need to complete or implement some portion within them. Instructions will be provided for each section and the specifics of the implementation are marked in the code block with a `# TODO: ...` comment. Please be sure to read the instructions carefully!\n",
    "\n",
    "In addition to implementing code, there will be questions for you to answer which relate to the task and your implementation. Each section where you will answer a question is preceded by a '**Question:**' header. Carefully read each question and provide your answer below the '**Answer:**' header by editing the Markdown cell.\n",
    "\n",
    "> **Note**: Code and Markdown cells can be executed using the **Shift+Enter** keyboard shortcut. In addition, a cell can be edited by typically clicking it (double-click for Markdown cells) or by pressing **Enter** while it is highlighted.\n",
    "\n",
    "## General Outline\n",
    "\n",
    "Recall the general outline for SageMaker projects using a notebook instance.\n",
    "\n",
    "1. Download or otherwise retrieve the data.\n",
    "2. Process / Prepare the data.\n",
    "3. Upload the processed data to S3.\n",
    "4. Train a chosen model.\n",
    "5. Test the trained model (typically using a batch transform job).\n",
    "6. Deploy the trained model.\n",
    "7. Use the deployed model.\n",
    "\n",
    "For this project, you will be following the steps in the general outline with some modifications. \n",
    "\n",
    "First, you will not be testing the model in its own step. You will still be testing the model, however, you will do it by deploying your model and then using the deployed model by sending the test data to it. One of the reasons for doing this is so that you can make sure that your deployed model is working correctly before moving forward.\n",
    "\n",
    "In addition, you will deploy and use your trained model a second time. In the second iteration you will customize the way that your trained model is deployed by including some of your own code. In addition, your newly deployed model will be used in the sentiment analysis web app."
   ]
  },
  {
   "cell_type": "markdown",
   "metadata": {},
   "source": [
    "## Step 1: Downloading the data\n",
    "\n",
    "As in the XGBoost in SageMaker notebook, we will be using the [IMDb dataset](http://ai.stanford.edu/~amaas/data/sentiment/)\n",
    "\n",
    "> Maas, Andrew L., et al. [Learning Word Vectors for Sentiment Analysis](http://ai.stanford.edu/~amaas/data/sentiment/). In _Proceedings of the 49th Annual Meeting of the Association for Computational Linguistics: Human Language Technologies_. Association for Computational Linguistics, 2011."
   ]
  },
  {
   "cell_type": "code",
   "execution_count": 1,
   "metadata": {},
   "outputs": [
    {
     "name": "stdout",
     "output_type": "stream",
     "text": [
      "mkdir: cannot create directory ‘../data’: File exists\n",
      "--2019-05-17 21:40:47--  http://ai.stanford.edu/~amaas/data/sentiment/aclImdb_v1.tar.gz\n",
      "Resolving ai.stanford.edu (ai.stanford.edu)... 171.64.68.10\n",
      "Connecting to ai.stanford.edu (ai.stanford.edu)|171.64.68.10|:80... connected.\n",
      "HTTP request sent, awaiting response... 200 OK\n",
      "Length: 84125825 (80M) [application/x-gzip]\n",
      "Saving to: ‘../data/aclImdb_v1.tar.gz’\n",
      "\n",
      "../data/aclImdb_v1. 100%[===================>]  80.23M  51.8MB/s    in 1.5s    \n",
      "\n",
      "2019-05-17 21:40:48 (51.8 MB/s) - ‘../data/aclImdb_v1.tar.gz’ saved [84125825/84125825]\n",
      "\n"
     ]
    }
   ],
   "source": [
    "%mkdir ../data\n",
    "!wget -O ../data/aclImdb_v1.tar.gz http://ai.stanford.edu/~amaas/data/sentiment/aclImdb_v1.tar.gz\n",
    "!tar -zxf ../data/aclImdb_v1.tar.gz -C ../data"
   ]
  },
  {
   "cell_type": "markdown",
   "metadata": {},
   "source": [
    "## Step 2: Preparing and Processing the data\n",
    "\n",
    "Also, as in the XGBoost notebook, we will be doing some initial data processing. The first few steps are the same as in the XGBoost example. To begin with, we will read in each of the reviews and combine them into a single input structure. Then, we will split the dataset into a training set and a testing set."
   ]
  },
  {
   "cell_type": "code",
   "execution_count": 2,
   "metadata": {},
   "outputs": [],
   "source": [
    "import os\n",
    "import glob\n",
    "\n",
    "def read_imdb_data(data_dir='../data/aclImdb'):\n",
    "    data = {}\n",
    "    labels = {}\n",
    "    \n",
    "    for data_type in ['train', 'test']:\n",
    "        data[data_type] = {}\n",
    "        labels[data_type] = {}\n",
    "        \n",
    "        for sentiment in ['pos', 'neg']:\n",
    "            data[data_type][sentiment] = []\n",
    "            labels[data_type][sentiment] = []\n",
    "            \n",
    "            path = os.path.join(data_dir, data_type, sentiment, '*.txt')\n",
    "            files = glob.glob(path)\n",
    "            \n",
    "            for f in files:\n",
    "                with open(f) as review:\n",
    "                    data[data_type][sentiment].append(review.read())\n",
    "                    # Here we represent a positive review by '1' and a negative review by '0'\n",
    "                    labels[data_type][sentiment].append(1 if sentiment == 'pos' else 0)\n",
    "                    \n",
    "            assert len(data[data_type][sentiment]) == len(labels[data_type][sentiment]), \\\n",
    "                    \"{}/{} data size does not match labels size\".format(data_type, sentiment)\n",
    "                \n",
    "    return data, labels"
   ]
  },
  {
   "cell_type": "code",
   "execution_count": 3,
   "metadata": {},
   "outputs": [
    {
     "name": "stdout",
     "output_type": "stream",
     "text": [
      "IMDB reviews: train = 12500 pos / 12500 neg, test = 12500 pos / 12500 neg\n"
     ]
    }
   ],
   "source": [
    "data, labels = read_imdb_data()\n",
    "print(\"IMDB reviews: train = {} pos / {} neg, test = {} pos / {} neg\".format(\n",
    "            len(data['train']['pos']), len(data['train']['neg']),\n",
    "            len(data['test']['pos']), len(data['test']['neg'])))"
   ]
  },
  {
   "cell_type": "markdown",
   "metadata": {},
   "source": [
    "Now that we've read the raw training and testing data from the downloaded dataset, we will combine the positive and negative reviews and shuffle the resulting records."
   ]
  },
  {
   "cell_type": "code",
   "execution_count": 4,
   "metadata": {},
   "outputs": [],
   "source": [
    "from sklearn.utils import shuffle\n",
    "\n",
    "def prepare_imdb_data(data, labels):\n",
    "    \"\"\"Prepare training and test sets from IMDb movie reviews.\"\"\"\n",
    "    \n",
    "    #Combine positive and negative reviews and labels\n",
    "    data_train = data['train']['pos'] + data['train']['neg']\n",
    "    data_test = data['test']['pos'] + data['test']['neg']\n",
    "    labels_train = labels['train']['pos'] + labels['train']['neg']\n",
    "    labels_test = labels['test']['pos'] + labels['test']['neg']\n",
    "    \n",
    "    #Shuffle reviews and corresponding labels within training and test sets\n",
    "    data_train, labels_train = shuffle(data_train, labels_train)\n",
    "    data_test, labels_test = shuffle(data_test, labels_test)\n",
    "    \n",
    "    # Return a unified training data, test data, training labels, test labets\n",
    "    return data_train, data_test, labels_train, labels_test"
   ]
  },
  {
   "cell_type": "code",
   "execution_count": 5,
   "metadata": {},
   "outputs": [
    {
     "name": "stdout",
     "output_type": "stream",
     "text": [
      "IMDb reviews (combined): train = 25000, test = 25000\n"
     ]
    }
   ],
   "source": [
    "train_X, test_X, train_y, test_y = prepare_imdb_data(data, labels)\n",
    "print(\"IMDb reviews (combined): train = {}, test = {}\".format(len(train_X), len(test_X)))"
   ]
  },
  {
   "cell_type": "markdown",
   "metadata": {},
   "source": [
    "Now that we have our training and testing sets unified and prepared, we should do a quick check and see an example of the data our model will be trained on. This is generally a good idea as it allows you to see how each of the further processing steps affects the reviews and it also ensures that the data has been loaded correctly."
   ]
  },
  {
   "cell_type": "code",
   "execution_count": 6,
   "metadata": {},
   "outputs": [
    {
     "name": "stdout",
     "output_type": "stream",
     "text": [
      "I guess I am coming late to the party. I just saw this 1995 version of Bye Bye Birdy on Sky TV. I didn't know it existed and was fully prepared to see the 1963 film version when I turned it on.<br /><br />I played Albert a long time ago and I am thinking of putting on an amateur production of the show because I remembered it as being so much fun to do. I was not impressed with this newer version. It just wasn't enough fun. It was not colorful. It lacked the exuberance of youth. The lighting was bad. No one seemed to mention this fact. This is not a moody musical, it is bright and up beat. The lighting decision was a poor creative choice.<br /><br />Bye Bye Birdy is a farce, a comedy of errors. I got no sense of that in this version. The lighting was awful and it dulled the overall performances. The dance numbers seemed anemic as well. We do have music videos these day. At least the dance numbers should have measured up to some of the best of those, or how about some of the best of Broadway. The choreographer was asleep at the wheel it seemed.<br /><br />Although all the actors were supremely talented, there were some really bad casting choices. Vanessa Williams is not Latin, and with so many talented Latin performers out there, wouldn't it have been more correct to cast one of them in the role of Rosie. Vanessa is African American, lovely and talented, but bad casting. Jason Alexander's effort was astounding, he always does intelligent work, but he just wasn't Albert. He was miscast and I think that is obvious to most people who see this version.<br /><br />The medium of film is not the medium of stage. There needs to be translation from one medium to another. The exuberance and the flash of stage musical must be TRANSLATED to film. There is no merit being faithful to a stage script when it is being filmed. The spirit, the essence of the production must be brought forth. To me the 1963 film production of Bye Bye Birdy was bright and lively, while the 1995 production was as gloomy as the lighting and as lackluster as the dance numbers. It turned out to be an unfortunate waste of effort by many really talented people.\n",
      "0\n"
     ]
    }
   ],
   "source": [
    "print(train_X[100])\n",
    "print(train_y[100])"
   ]
  },
  {
   "cell_type": "markdown",
   "metadata": {},
   "source": [
    "The first step in processing the reviews is to make sure that any html tags that appear should be removed. In addition we wish to tokenize our input, that way words such as *entertained* and *entertaining* are considered the same with regard to sentiment analysis."
   ]
  },
  {
   "cell_type": "code",
   "execution_count": 7,
   "metadata": {},
   "outputs": [],
   "source": [
    "import nltk\n",
    "from nltk.corpus import stopwords\n",
    "from nltk.stem.porter import *\n",
    "\n",
    "import re\n",
    "from bs4 import BeautifulSoup\n",
    "\n",
    "def review_to_words(review):\n",
    "    nltk.download(\"stopwords\", quiet=True)\n",
    "    stemmer = PorterStemmer()\n",
    "    \n",
    "    text = BeautifulSoup(review, \"html.parser\").get_text() # Remove HTML tags\n",
    "    text = re.sub(r\"[^a-zA-Z0-9]\", \" \", text.lower()) # Convert to lower case\n",
    "    words = text.split() # Split string into words\n",
    "    words = [w for w in words if w not in stopwords.words(\"english\")] # Remove stopwords\n",
    "    words = [PorterStemmer().stem(w) for w in words] # stem\n",
    "    \n",
    "    return words"
   ]
  },
  {
   "cell_type": "markdown",
   "metadata": {},
   "source": [
    "The `review_to_words` method defined above uses `BeautifulSoup` to remove any html tags that appear and uses the `nltk` package to tokenize the reviews. As a check to ensure we know how everything is working, try applying `review_to_words` to one of the reviews in the training set."
   ]
  },
  {
   "cell_type": "code",
   "execution_count": 8,
   "metadata": {},
   "outputs": [
    {
     "name": "stdout",
     "output_type": "stream",
     "text": [
      "['critic', 'like', 'film', 'bomb', 'state', 'result', 'receiv', 'limit', 'show', 'britain', 'great', 'shame', 'repres', 'british', 'rather', 'american', 'humour', 'shown', 'britain', 'first', 'nicol', 'kidman', 'look', 'stun', 'total', 'convinc', 'russian', 'ben', 'chaplin', 'dustin', 'hoffman', 'charact', 'graduat', 'birthday', 'girl', 'least', '4', 'scene', 'remind', 'viewer', '1960', 'classic', 'despit', 'total', 'differ', 'stori', 'sure', 'chang', 'tack', 'number', 'time', 'comedi', 'black', 'comedi', 'thriller', 'adventur', 'memor', 'move', 'weclom', 'breath', 'fresh', 'air', 'compar', 'averag', 'mega', 'budget', 'blockbust', 'see', 'open', 'mind']\n"
     ]
    }
   ],
   "source": [
    "# TODO: Apply review_to_words to a review (train_X[100] or any other review)\n",
    "print(review_to_words(train_X[0]))"
   ]
  },
  {
   "cell_type": "markdown",
   "metadata": {},
   "source": [
    "**Question:** Above we mentioned that `review_to_words` method removes html formatting and allows us to tokenize the words found in a review, for example, converting *entertained* and *entertaining* into *entertain* so that they are treated as though they are the same word. What else, if anything, does this method do to the input?"
   ]
  },
  {
   "cell_type": "markdown",
   "metadata": {},
   "source": [
    "**Answer:** It also converts everything to lower case and removes stopwords."
   ]
  },
  {
   "cell_type": "markdown",
   "metadata": {},
   "source": [
    "The method below applies the `review_to_words` method to each of the reviews in the training and testing datasets. In addition it caches the results. This is because performing this processing step can take a long time. This way if you are unable to complete the notebook in the current session, you can come back without needing to process the data a second time."
   ]
  },
  {
   "cell_type": "code",
   "execution_count": 9,
   "metadata": {},
   "outputs": [],
   "source": [
    "import pickle\n",
    "\n",
    "cache_dir = os.path.join(\"../cache\", \"sentiment_analysis\")  # where to store cache files\n",
    "os.makedirs(cache_dir, exist_ok=True)  # ensure cache directory exists\n",
    "\n",
    "def preprocess_data(data_train, data_test, labels_train, labels_test,\n",
    "                    cache_dir=cache_dir, cache_file=\"preprocessed_data.pkl\"):\n",
    "    \"\"\"Convert each review to words; read from cache if available.\"\"\"\n",
    "\n",
    "    # If cache_file is not None, try to read from it first\n",
    "    cache_data = None\n",
    "    if cache_file is not None:\n",
    "        try:\n",
    "            with open(os.path.join(cache_dir, cache_file), \"rb\") as f:\n",
    "                cache_data = pickle.load(f)\n",
    "            print(\"Read preprocessed data from cache file:\", cache_file)\n",
    "        except:\n",
    "            pass  # unable to read from cache, but that's okay\n",
    "    \n",
    "    # If cache is missing, then do the heavy lifting\n",
    "    if cache_data is None:\n",
    "        # Preprocess training and test data to obtain words for each review\n",
    "        #words_train = list(map(review_to_words, data_train))\n",
    "        #words_test = list(map(review_to_words, data_test))\n",
    "        words_train = [review_to_words(review) for review in data_train]\n",
    "        words_test = [review_to_words(review) for review in data_test]\n",
    "        \n",
    "        # Write to cache file for future runs\n",
    "        if cache_file is not None:\n",
    "            cache_data = dict(words_train=words_train, words_test=words_test,\n",
    "                              labels_train=labels_train, labels_test=labels_test)\n",
    "            with open(os.path.join(cache_dir, cache_file), \"wb\") as f:\n",
    "                pickle.dump(cache_data, f)\n",
    "            print(\"Wrote preprocessed data to cache file:\", cache_file)\n",
    "    else:\n",
    "        # Unpack data loaded from cache file\n",
    "        words_train, words_test, labels_train, labels_test = (cache_data['words_train'],\n",
    "                cache_data['words_test'], cache_data['labels_train'], cache_data['labels_test'])\n",
    "    \n",
    "    return words_train, words_test, labels_train, labels_test"
   ]
  },
  {
   "cell_type": "code",
   "execution_count": 10,
   "metadata": {},
   "outputs": [
    {
     "name": "stdout",
     "output_type": "stream",
     "text": [
      "Read preprocessed data from cache file: preprocessed_data.pkl\n"
     ]
    }
   ],
   "source": [
    "# Preprocess data\n",
    "train_X, test_X, train_y, test_y = preprocess_data(train_X, test_X, train_y, test_y)"
   ]
  },
  {
   "cell_type": "code",
   "execution_count": 11,
   "metadata": {},
   "outputs": [
    {
     "name": "stdout",
     "output_type": "stream",
     "text": [
      "['der', 'todesk', 'exactli', 'type', 'film', 'make', 'merri', 'j', 'rg', 'buttgereit', 'second', 'cult', 'monument', 'row', 'actual', 'lot', 'better', 'infam', 'nekromantik', 'exist', 'seven', 'short', 'episod', 'one', 'day', 'week', 'revolv', 'unrel', 'peopl', 'suicid', 'alreadi', 'disturb', 'episod', 'buttgereit', 'insert', 'truli', 'horrifi', 'imag', 'sever', 'decompos', 'male', 'corps', 'episod', 'equal', 'power', 'wholesom', 'der', 'todesk', 'rank', 'quit', 'high', 'list', 'time', 'depress', 'art', 'hous', 'film', 'particularli', 'episod', 'wednesday', 'involv', 'man', 'explain', 'sexual', 'frustrat', 'total', 'stranger', 'park', 'one', 'sunday', 'focus', 'younger', 'man', 'molest', 'dead', 'extrem', 'intens', 'devast', 'observ', 'ad', 'valu', 'film', 'shockumenari', 'like', 'debat', 'even', 'sure', 'whether', 'buttgereit', 'type', 'messag', 'commun', 'vagu', 'mention', 'eeri', 'chain', 'letter', 'encourag', 'reader', 'commit', 'suicid', 'mostli', 'remain', 'uninform', 'peopl', 'motiv', 'end', 'live', 'dramat', 'entir', 'unlik', 'expect', 'der', 'todesk', 'exploit', 'repuls', 'graphic', 'contrari', 'actual', 'never', 'could', 'hope', 'buttgereit', 'would', 'subtl', 'thought', 'regard', 'portray', 'pure', 'human', 'miseri', 'thursday', 'episod', 'perfect', 'exampl', 'stylishli', 'show', 'differ', 'viewpoint', 'famou', 'german', 'bridg', 'name', 'age', 'occup', 'person', 'jump', 'appear', 'screen', 'product', 'valu', 'inescap', 'poor', 'edit', 'often', 'lack', 'profession', 'realli', 'count', 'type', 'cinema', 'subject', 'matter', 'strong', 'forc', 'us', 'contempl', 'less', 'cheer', 'also', 'indispens', 'aspect', 'life', 'great', 'use', 'tragic', 'music']\n",
      "['peopl', 'make', 'bad', 'movi', 'anyon', 'work', 'pictur', 'know', 'make', 'point', 'someth', 'pictur', 'threw', 'besid', 'fact', 'found', 'movi', 'unrealist', 'pathet', 'poorli', 'act', 'admir', 'tri', 'actor', 'movi', 'time', 'seem', 'tri', 'hard', 'singl', 'charact', 'substanc', 'say', 'anyth', 'mildli', 'intellig', 'movi', 'deserv', 'zero', 'star', 'option', 'get', '1']\n",
      "1\n",
      "0\n"
     ]
    }
   ],
   "source": [
    "print(train_X[0])\n",
    "print(test_X[0])\n",
    "print(train_y[0])\n",
    "print(test_y[0])"
   ]
  },
  {
   "cell_type": "markdown",
   "metadata": {},
   "source": [
    "## Transform the data\n",
    "\n",
    "In the XGBoost notebook we transformed the data from its word representation to a bag-of-words feature representation. For the model we are going to construct in this notebook we will construct a feature representation which is very similar. To start, we will represent each word as an integer. Of course, some of the words that appear in the reviews occur very infrequently and so likely don't contain much information for the purposes of sentiment analysis. The way we will deal with this problem is that we will fix the size of our working vocabulary and we will only include the words that appear most frequently. We will then combine all of the infrequent words into a single category and, in our case, we will label it as `1`.\n",
    "\n",
    "Since we will be using a recurrent neural network, it will be convenient if the length of each review is the same. To do this, we will fix a size for our reviews and then pad short reviews with the category 'no word' (which we will label `0`) and truncate long reviews."
   ]
  },
  {
   "cell_type": "markdown",
   "metadata": {},
   "source": [
    "### (TODO) Create a word dictionary\n",
    "\n",
    "To begin with, we need to construct a way to map words that appear in the reviews to integers. Here we fix the size of our vocabulary (including the 'no word' and 'infrequent' categories) to be `5000` but you may wish to change this to see how it affects the model.\n",
    "\n",
    "> **TODO:** Complete the implementation for the `build_dict()` method below. Note that even though the vocab_size is set to `5000`, we only want to construct a mapping for the most frequently appearing `4998` words. This is because we want to reserve the special labels `0` for 'no word' and `1` for 'infrequent word'."
   ]
  },
  {
   "cell_type": "code",
   "execution_count": 12,
   "metadata": {},
   "outputs": [],
   "source": [
    "import numpy as np\n",
    "\n",
    "def build_dict(data, vocab_size = 5000):\n",
    "    \"\"\"Construct and return a dictionary mapping each of the most frequently appearing words to a unique integer.\"\"\"\n",
    "    \n",
    "    # TODO: Determine how often each word appears in `data`. Note that `data` is a list of sentences and that a\n",
    "    #       sentence is a list of words.\n",
    "    \n",
    "    word_count = {} # A dict storing the words that appear in the reviews along with how often they occur\n",
    "    \n",
    "    for i in range(len(data)):\n",
    "        for word in data[i]:\n",
    "            if word in word_count:\n",
    "                word_count[word] += 1\n",
    "            else:\n",
    "                word_count[word] = 1\n",
    "            \n",
    "    # TODO: Sort the words found in `data` so that sorted_words[0] is the most frequently appearing word and\n",
    "    #       sorted_words[-1] is the least frequently appearing word.\n",
    "    \n",
    "    sorted_words = []\n",
    "    for word in sorted(word_count, key=word_count.get, reverse = True):\n",
    "        sorted_words.append(word)\n",
    "    \n",
    "    word_dict = {} # This is what we are building, a dictionary that translates words into integers\n",
    "    for idx, word in enumerate(sorted_words[:vocab_size - 2]): # The -2 is so that we save room for the 'no word'\n",
    "        word_dict[word] = idx + 2                              # 'infrequent' labels\n",
    "        \n",
    "    return word_dict"
   ]
  },
  {
   "cell_type": "code",
   "execution_count": 13,
   "metadata": {},
   "outputs": [
    {
     "name": "stdout",
     "output_type": "stream",
     "text": [
      "{'movi': 2, 'film': 3, 'one': 4, 'like': 5, 'time': 6, 'good': 7, 'make': 8, 'charact': 9, 'get': 10, 'see': 11, 'watch': 12, 'stori': 13, 'even': 14, 'would': 15, 'realli': 16, 'well': 17, 'scene': 18, 'look': 19, 'show': 20, 'much': 21, 'end': 22, 'peopl': 23, 'bad': 24, 'go': 25, 'great': 26, 'also': 27, 'first': 28, 'love': 29, 'think': 30, 'way': 31, 'act': 32, 'play': 33, 'made': 34, 'thing': 35, 'could': 36, 'know': 37, 'say': 38, 'seem': 39, 'work': 40, 'plot': 41, 'two': 42, 'actor': 43, 'year': 44, 'come': 45, 'mani': 46, 'seen': 47, 'take': 48, 'life': 49, 'want': 50, 'never': 51, 'littl': 52, 'best': 53, 'tri': 54, 'man': 55, 'ever': 56, 'give': 57, 'better': 58, 'still': 59, 'perform': 60, 'find': 61, 'feel': 62, 'part': 63, 'back': 64, 'use': 65, 'someth': 66, 'director': 67, 'actual': 68, 'interest': 69, 'lot': 70, 'real': 71, 'old': 72, 'cast': 73, 'though': 74, 'live': 75, 'star': 76, 'enjoy': 77, 'guy': 78, 'anoth': 79, 'new': 80, 'role': 81, 'noth': 82, '10': 83, 'funni': 84, 'music': 85, 'point': 86, 'start': 87, 'set': 88, 'girl': 89, 'origin': 90, 'day': 91, 'world': 92, 'everi': 93, 'believ': 94, 'turn': 95, 'quit': 96, 'us': 97, 'direct': 98, 'thought': 99, 'fact': 100, 'minut': 101, 'horror': 102, 'kill': 103, 'action': 104, 'comedi': 105, 'pretti': 106, 'young': 107, 'wonder': 108, 'happen': 109, 'around': 110, 'got': 111, 'effect': 112, 'right': 113, 'long': 114, 'howev': 115, 'big': 116, 'line': 117, 'famili': 118, 'enough': 119, 'seri': 120, 'may': 121, 'need': 122, 'fan': 123, 'bit': 124, 'script': 125, 'beauti': 126, 'person': 127, 'becom': 128, 'without': 129, 'must': 130, 'alway': 131, 'friend': 132, 'tell': 133, 'reason': 134, 'saw': 135, 'last': 136, 'final': 137, 'kid': 138, 'almost': 139, 'put': 140, 'least': 141, 'sure': 142, 'done': 143, 'whole': 144, 'place': 145, 'complet': 146, 'kind': 147, 'expect': 148, 'differ': 149, 'shot': 150, 'far': 151, 'mean': 152, 'anyth': 153, 'book': 154, 'laugh': 155, 'might': 156, 'name': 157, 'sinc': 158, 'begin': 159, '2': 160, 'probabl': 161, 'woman': 162, 'help': 163, 'entertain': 164, 'let': 165, 'screen': 166, 'call': 167, 'tv': 168, 'moment': 169, 'away': 170, 'read': 171, 'yet': 172, 'rather': 173, 'worst': 174, 'run': 175, 'fun': 176, 'lead': 177, 'hard': 178, 'audienc': 179, 'idea': 180, 'anyon': 181, 'episod': 182, 'american': 183, 'found': 184, 'appear': 185, 'bore': 186, 'especi': 187, 'although': 188, 'hope': 189, 'cours': 190, 'keep': 191, 'anim': 192, 'job': 193, 'goe': 194, 'move': 195, 'sens': 196, 'dvd': 197, 'version': 198, 'war': 199, 'money': 200, 'someon': 201, 'mind': 202, 'mayb': 203, 'problem': 204, 'true': 205, 'hous': 206, 'everyth': 207, 'nice': 208, 'second': 209, 'rate': 210, 'three': 211, 'night': 212, 'face': 213, 'follow': 214, 'recommend': 215, 'product': 216, 'main': 217, 'worth': 218, 'leav': 219, 'human': 220, 'special': 221, 'excel': 222, 'togeth': 223, 'wast': 224, 'everyon': 225, 'sound': 226, 'john': 227, 'hand': 228, '1': 229, 'father': 230, 'later': 231, 'eye': 232, 'said': 233, 'view': 234, 'instead': 235, 'review': 236, 'boy': 237, 'high': 238, 'hour': 239, 'miss': 240, 'classic': 241, 'talk': 242, 'wife': 243, 'understand': 244, 'left': 245, 'care': 246, 'black': 247, 'death': 248, 'open': 249, 'murder': 250, 'write': 251, 'half': 252, 'head': 253, 'rememb': 254, 'chang': 255, 'viewer': 256, 'fight': 257, 'gener': 258, 'surpris': 259, 'short': 260, 'includ': 261, 'die': 262, 'fall': 263, 'less': 264, 'els': 265, 'entir': 266, 'piec': 267, 'involv': 268, 'pictur': 269, 'simpli': 270, 'power': 271, 'top': 272, 'home': 273, 'total': 274, 'usual': 275, 'budget': 276, 'attempt': 277, 'suppos': 278, 'releas': 279, 'hollywood': 280, 'terribl': 281, 'song': 282, 'men': 283, 'possibl': 284, 'featur': 285, 'portray': 286, 'disappoint': 287, 'poor': 288, '3': 289, 'coupl': 290, 'camera': 291, 'stupid': 292, 'dead': 293, 'wrong': 294, 'low': 295, 'produc': 296, 'either': 297, 'video': 298, 'aw': 299, 'definit': 300, 'except': 301, 'rest': 302, 'given': 303, 'absolut': 304, 'women': 305, 'lack': 306, 'word': 307, 'writer': 308, 'titl': 309, 'talent': 310, 'decid': 311, 'full': 312, 'perfect': 313, 'along': 314, 'style': 315, 'close': 316, 'truli': 317, 'school': 318, 'emot': 319, 'save': 320, 'age': 321, 'sex': 322, 'next': 323, 'bring': 324, 'mr': 325, 'case': 326, 'killer': 327, 'heart': 328, 'comment': 329, 'sort': 330, 'creat': 331, 'perhap': 332, 'came': 333, 'brother': 334, 'sever': 335, 'joke': 336, 'art': 337, 'dialogu': 338, 'game': 339, 'small': 340, 'base': 341, 'flick': 342, 'written': 343, 'sequenc': 344, 'meet': 345, 'earli': 346, 'often': 347, 'other': 348, 'mother': 349, 'develop': 350, 'humor': 351, 'actress': 352, 'consid': 353, 'dark': 354, 'guess': 355, 'amaz': 356, 'unfortun': 357, 'lost': 358, 'light': 359, 'exampl': 360, 'cinema': 361, 'drama': 362, 'white': 363, 'ye': 364, 'experi': 365, 'imagin': 366, 'mention': 367, 'stop': 368, 'natur': 369, 'forc': 370, 'manag': 371, 'felt': 372, 'cut': 373, 'present': 374, 'children': 375, 'fail': 376, 'son': 377, 'support': 378, 'car': 379, 'qualiti': 380, 'ask': 381, 'hit': 382, 'side': 383, 'voic': 384, 'extrem': 385, 'impress': 386, 'evil': 387, 'wors': 388, 'stand': 389, 'went': 390, 'certainli': 391, 'basic': 392, 'oh': 393, 'overal': 394, 'favorit': 395, 'horribl': 396, 'mysteri': 397, 'number': 398, 'type': 399, 'danc': 400, 'wait': 401, 'hero': 402, 'alreadi': 403, '5': 404, 'learn': 405, 'matter': 406, '4': 407, 'michael': 408, 'genr': 409, 'fine': 410, 'despit': 411, 'throughout': 412, 'walk': 413, 'success': 414, 'histori': 415, 'question': 416, 'zombi': 417, 'town': 418, 'realiz': 419, 'relationship': 420, 'child': 421, 'past': 422, 'daughter': 423, 'late': 424, 'b': 425, 'wish': 426, 'credit': 427, 'hate': 428, 'event': 429, 'theme': 430, 'touch': 431, 'citi': 432, 'today': 433, 'sometim': 434, 'behind': 435, 'god': 436, 'twist': 437, 'sit': 438, 'deal': 439, 'annoy': 440, 'stay': 441, 'abl': 442, 'rent': 443, 'pleas': 444, 'edit': 445, 'blood': 446, 'deserv': 447, 'anyway': 448, 'comic': 449, 'appar': 450, 'soon': 451, 'gave': 452, 'etc': 453, 'level': 454, 'slow': 455, 'chanc': 456, 'score': 457, 'bodi': 458, 'brilliant': 459, 'incred': 460, 'figur': 461, 'situat': 462, 'self': 463, 'major': 464, 'stuff': 465, 'decent': 466, 'element': 467, 'dream': 468, 'return': 469, 'obvious': 470, 'continu': 471, 'order': 472, 'pace': 473, 'ridicul': 474, 'happi': 475, 'highli': 476, 'add': 477, 'group': 478, 'thank': 479, 'ladi': 480, 'novel': 481, 'pain': 482, 'speak': 483, 'career': 484, 'shoot': 485, 'strang': 486, 'heard': 487, 'sad': 488, 'husband': 489, 'polic': 490, 'import': 491, 'break': 492, 'took': 493, 'strong': 494, 'cannot': 495, 'robert': 496, 'predict': 497, 'violenc': 498, 'hilari': 499, 'recent': 500, 'countri': 501, 'known': 502, 'particularli': 503, 'pick': 504, 'documentari': 505, 'season': 506, 'critic': 507, 'jame': 508, 'compar': 509, 'alon': 510, 'obviou': 511, 'told': 512, 'state': 513, 'visual': 514, 'rock': 515, 'exist': 516, 'theater': 517, 'offer': 518, 'opinion': 519, 'gore': 520, 'hold': 521, 'crap': 522, 'result': 523, 'realiti': 524, 'room': 525, 'hear': 526, 'effort': 527, 'clich': 528, 'thriller': 529, 'caus': 530, 'explain': 531, 'sequel': 532, 'serious': 533, 'king': 534, 'local': 535, 'ago': 536, 'hell': 537, 'none': 538, 'note': 539, 'allow': 540, 'david': 541, 'sister': 542, 'simpl': 543, 'femal': 544, 'deliv': 545, 'ok': 546, 'convinc': 547, 'class': 548, 'check': 549, 'suspens': 550, 'win': 551, 'buy': 552, 'oscar': 553, 'huge': 554, 'valu': 555, 'sexual': 556, 'scari': 557, 'cool': 558, 'excit': 559, 'similar': 560, 'exactli': 561, 'apart': 562, 'provid': 563, 'shown': 564, 'avoid': 565, 'seriou': 566, 'english': 567, 'whose': 568, 'taken': 569, 'cinematographi': 570, 'shock': 571, 'polit': 572, 'spoiler': 573, 'offic': 574, 'across': 575, 'middl': 576, 'street': 577, 'pass': 578, 'messag': 579, 'silli': 580, 'charm': 581, 'somewhat': 582, 'modern': 583, 'filmmak': 584, 'confus': 585, 'form': 586, 'tale': 587, 'singl': 588, 'jack': 589, 'mostli': 590, 'william': 591, 'carri': 592, 'attent': 593, 'sing': 594, 'subject': 595, 'five': 596, 'prove': 597, 'richard': 598, 'stage': 599, 'team': 600, 'unlik': 601, 'cop': 602, 'georg': 603, 'televis': 604, 'monster': 605, 'earth': 606, 'cover': 607, 'villain': 608, 'pay': 609, 'marri': 610, 'toward': 611, 'build': 612, 'pull': 613, 'parent': 614, 'due': 615, 'fill': 616, 'respect': 617, 'dialog': 618, 'four': 619, 'remind': 620, 'futur': 621, 'weak': 622, 'typic': 623, '7': 624, 'cheap': 625, 'intellig': 626, 'atmospher': 627, 'british': 628, '80': 629, 'clearli': 630, 'paul': 631, 'non': 632, 'dog': 633, 'artist': 634, 'knew': 635, 'fast': 636, '8': 637, 'crime': 638, 'easili': 639, 'escap': 640, 'adult': 641, 'doubt': 642, 'detail': 643, 'date': 644, 'member': 645, 'romant': 646, 'fire': 647, 'gun': 648, 'drive': 649, 'straight': 650, 'fit': 651, 'beyond': 652, 'attack': 653, 'imag': 654, 'upon': 655, 'posit': 656, 'whether': 657, 'fantast': 658, 'peter': 659, 'aspect': 660, 'captur': 661, 'appreci': 662, 'ten': 663, 'plan': 664, 'discov': 665, 'remain': 666, 'near': 667, 'period': 668, 'air': 669, 'realist': 670, 'mark': 671, 'red': 672, 'dull': 673, 'adapt': 674, 'within': 675, 'lose': 676, 'spend': 677, 'color': 678, 'materi': 679, 'chase': 680, 'mari': 681, 'storylin': 682, 'forget': 683, 'bunch': 684, 'clear': 685, 'lee': 686, 'victim': 687, 'nearli': 688, 'box': 689, 'york': 690, 'match': 691, 'inspir': 692, 'mess': 693, 'finish': 694, 'standard': 695, 'easi': 696, 'truth': 697, 'busi': 698, 'suffer': 699, 'dramat': 700, 'bill': 701, 'space': 702, 'western': 703, 'e': 704, 'list': 705, 'battl': 706, 'notic': 707, 'de': 708, 'french': 709, 'ad': 710, '9': 711, 'tom': 712, 'larg': 713, 'among': 714, 'eventu': 715, 'train': 716, 'accept': 717, 'agre': 718, 'spirit': 719, 'soundtrack': 720, 'third': 721, 'teenag': 722, 'soldier': 723, 'adventur': 724, 'famou': 725, 'suggest': 726, 'sorri': 727, 'drug': 728, 'cri': 729, 'normal': 730, 'babi': 731, 'troubl': 732, 'ultim': 733, 'contain': 734, 'certain': 735, 'cultur': 736, 'romanc': 737, 'rare': 738, 'lame': 739, 'somehow': 740, 'mix': 741, 'disney': 742, 'gone': 743, 'cartoon': 744, 'student': 745, 'reveal': 746, 'fear': 747, 'suck': 748, 'kept': 749, 'attract': 750, 'appeal': 751, 'premis': 752, 'secret': 753, 'design': 754, 'greatest': 755, 'shame': 756, 'throw': 757, 'scare': 758, 'copi': 759, 'wit': 760, 'admit': 761, 'america': 762, 'particular': 763, 'relat': 764, 'brought': 765, 'screenplay': 766, 'whatev': 767, 'pure': 768, '70': 769, 'harri': 770, 'averag': 771, 'master': 772, 'describ': 773, 'male': 774, 'treat': 775, '20': 776, 'issu': 777, 'fantasi': 778, 'warn': 779, 'inde': 780, 'background': 781, 'forward': 782, 'project': 783, 'free': 784, 'japanes': 785, 'memor': 786, 'poorli': 787, 'award': 788, 'locat': 789, 'amus': 790, 'potenti': 791, 'struggl': 792, 'weird': 793, 'magic': 794, 'societi': 795, 'okay': 796, 'imdb': 797, 'doctor': 798, 'accent': 799, 'hot': 800, 'water': 801, 'express': 802, 'alien': 803, '30': 804, 'dr': 805, 'odd': 806, 'crazi': 807, 'choic': 808, 'studio': 809, 'fiction': 810, 'control': 811, 'becam': 812, 'masterpiec': 813, 'difficult': 814, 'fli': 815, 'joe': 816, 'scream': 817, 'costum': 818, 'lover': 819, 'uniqu': 820, 'refer': 821, 'remak': 822, 'vampir': 823, 'girlfriend': 824, 'prison': 825, 'execut': 826, 'wear': 827, 'jump': 828, 'wood': 829, 'unless': 830, 'creepi': 831, 'cheesi': 832, 'superb': 833, 'otherwis': 834, 'parti': 835, 'roll': 836, 'ghost': 837, 'public': 838, 'mad': 839, 'depict': 840, 'week': 841, 'moral': 842, 'earlier': 843, 'badli': 844, 'jane': 845, 'fi': 846, 'dumb': 847, 'flaw': 848, 'grow': 849, 'sci': 850, 'deep': 851, 'cat': 852, 'maker': 853, 'older': 854, 'connect': 855, 'footag': 856, 'bother': 857, 'plenti': 858, 'outsid': 859, 'stick': 860, 'gay': 861, 'catch': 862, 'co': 863, 'plu': 864, 'popular': 865, 'equal': 866, 'social': 867, 'disturb': 868, 'quickli': 869, 'perfectli': 870, 'dress': 871, 'era': 872, '90': 873, 'mistak': 874, 'lie': 875, 'ride': 876, 'previou': 877, 'combin': 878, 'band': 879, 'concept': 880, 'answer': 881, 'rich': 882, 'surviv': 883, 'front': 884, 'sweet': 885, 'christma': 886, 'insid': 887, 'eat': 888, 'concern': 889, 'bare': 890, 'ben': 891, 'listen': 892, 'beat': 893, 'c': 894, 'serv': 895, 'term': 896, 'german': 897, 'la': 898, 'meant': 899, 'stereotyp': 900, 'hardli': 901, 'law': 902, 'innoc': 903, 'desper': 904, 'memori': 905, 'promis': 906, 'cute': 907, 'intent': 908, 'inform': 909, 'steal': 910, 'variou': 911, 'brain': 912, 'post': 913, 'tone': 914, 'island': 915, 'amount': 916, 'compani': 917, 'track': 918, 'nuditi': 919, 'claim': 920, 'store': 921, 'hair': 922, 'flat': 923, '50': 924, 'univers': 925, 'land': 926, 'danger': 927, 'fairli': 928, 'scott': 929, 'kick': 930, 'player': 931, 'step': 932, 'crew': 933, 'plain': 934, 'toni': 935, 'share': 936, 'centuri': 937, 'tast': 938, 'engag': 939, 'achiev': 940, 'cold': 941, 'travel': 942, 'rip': 943, 'record': 944, 'suit': 945, 'manner': 946, 'sadli': 947, 'tension': 948, 'wrote': 949, 'spot': 950, 'intens': 951, 'fascin': 952, 'familiar': 953, 'remark': 954, 'burn': 955, 'depth': 956, 'histor': 957, 'destroy': 958, 'sleep': 959, 'purpos': 960, 'languag': 961, 'ignor': 962, 'ruin': 963, 'delight': 964, 'italian': 965, 'unbeliev': 966, 'soul': 967, 'collect': 968, 'abil': 969, 'detect': 970, 'clever': 971, 'violent': 972, 'rape': 973, 'reach': 974, 'door': 975, 'trash': 976, 'scienc': 977, 'liter': 978, 'commun': 979, 'reveng': 980, 'caught': 981, 'creatur': 982, 'approach': 983, 'trip': 984, 'intrigu': 985, 'fashion': 986, 'paint': 987, 'skill': 988, 'introduc': 989, 'channel': 990, 'complex': 991, 'camp': 992, 'christian': 993, 'hole': 994, 'extra': 995, 'ann': 996, 'limit': 997, 'mental': 998, 'immedi': 999, 'slightli': 1000, 'comput': 1001, 'million': 1002, 'mere': 1003, '6': 1004, 'conclus': 1005, 'slasher': 1006, 'imposs': 1007, 'suddenli': 1008, 'crimin': 1009, 'neither': 1010, 'teen': 1011, 'spent': 1012, 'physic': 1013, 'nation': 1014, 'respons': 1015, 'planet': 1016, 'receiv': 1017, 'fake': 1018, 'sick': 1019, 'blue': 1020, 'bizarr': 1021, 'embarrass': 1022, 'indian': 1023, '15': 1024, 'ring': 1025, 'pop': 1026, 'drop': 1027, 'drag': 1028, 'haunt': 1029, 'pointless': 1030, 'suspect': 1031, 'edg': 1032, 'search': 1033, 'handl': 1034, 'common': 1035, 'biggest': 1036, 'arriv': 1037, 'faith': 1038, 'hurt': 1039, 'technic': 1040, 'angel': 1041, 'genuin': 1042, 'dad': 1043, 'solid': 1044, 'f': 1045, 'awesom': 1046, 'former': 1047, 'focu': 1048, 'colleg': 1049, 'van': 1050, 'count': 1051, 'tear': 1052, 'heavi': 1053, 'rais': 1054, 'wall': 1055, 'younger': 1056, 'laughabl': 1057, 'visit': 1058, 'excus': 1059, 'sign': 1060, 'fair': 1061, 'cult': 1062, 'motion': 1063, 'tough': 1064, 'key': 1065, 'desir': 1066, 'super': 1067, 'stun': 1068, 'addit': 1069, 'exploit': 1070, 'cloth': 1071, 'smith': 1072, 'tortur': 1073, 'race': 1074, 'davi': 1075, 'cross': 1076, 'author': 1077, 'jim': 1078, 'focus': 1079, 'consist': 1080, 'minor': 1081, 'compel': 1082, 'commit': 1083, 'pathet': 1084, 'chemistri': 1085, 'park': 1086, 'obsess': 1087, 'frank': 1088, 'tradit': 1089, 'grade': 1090, '60': 1091, 'asid': 1092, 'brutal': 1093, 'steve': 1094, 'somewher': 1095, 'depress': 1096, 'grant': 1097, 'u': 1098, 'opportun': 1099, 'rule': 1100, 'explor': 1101, 'besid': 1102, 'honest': 1103, 'anti': 1104, 'dub': 1105, 'intend': 1106, 'trailer': 1107, 'bar': 1108, 'regard': 1109, 'longer': 1110, 'west': 1111, 'scientist': 1112, 'judg': 1113, 'decad': 1114, 'silent': 1115, 'creativ': 1116, 'armi': 1117, 'wild': 1118, 'stewart': 1119, 'south': 1120, 'g': 1121, 'draw': 1122, 'road': 1123, 'govern': 1124, 'boss': 1125, 'ex': 1126, 'practic': 1127, 'motiv': 1128, 'gang': 1129, 'festiv': 1130, 'club': 1131, 'surprisingli': 1132, 'redeem': 1133, 'green': 1134, 'london': 1135, 'page': 1136, 'display': 1137, 'idiot': 1138, 'machin': 1139, 'militari': 1140, 'aliv': 1141, 'thrill': 1142, 'repeat': 1143, '100': 1144, 'nobodi': 1145, 'yeah': 1146, 'folk': 1147, '40': 1148, 'journey': 1149, 'garbag': 1150, 'smile': 1151, 'ground': 1152, 'tire': 1153, 'mood': 1154, 'bought': 1155, 'stone': 1156, 'sam': 1157, 'cost': 1158, 'noir': 1159, 'mouth': 1160, 'terrif': 1161, 'agent': 1162, 'utterli': 1163, 'requir': 1164, 'sexi': 1165, 'area': 1166, 'honestli': 1167, 'geniu': 1168, 'report': 1169, 'enter': 1170, 'investig': 1171, 'glad': 1172, 'humour': 1173, 'serial': 1174, 'passion': 1175, 'narr': 1176, 'occasion': 1177, 'marriag': 1178, 'climax': 1179, 'industri': 1180, 'studi': 1181, 'charli': 1182, 'center': 1183, 'nowher': 1184, 'demon': 1185, 'ship': 1186, 'hors': 1187, 'loos': 1188, 'bear': 1189, 'hang': 1190, 'wow': 1191, 'graphic': 1192, 'giant': 1193, 'admir': 1194, 'send': 1195, 'damn': 1196, 'loud': 1197, 'subtl': 1198, 'profession': 1199, 'rel': 1200, 'nake': 1201, 'blow': 1202, 'bottom': 1203, 'insult': 1204, 'batman': 1205, 'kelli': 1206, 'doubl': 1207, 'boyfriend': 1208, 'r': 1209, 'initi': 1210, 'frame': 1211, 'opera': 1212, 'gem': 1213, 'cinemat': 1214, 'affect': 1215, 'challeng': 1216, 'church': 1217, 'drawn': 1218, 'j': 1219, 'evid': 1220, 'l': 1221, 'nightmar': 1222, 'fulli': 1223, 'seek': 1224, 'essenti': 1225, 'arm': 1226, 'conflict': 1227, 'grace': 1228, 'christoph': 1229, 'wind': 1230, 'henri': 1231, 'witch': 1232, 'assum': 1233, 'narrat': 1234, 'hunt': 1235, 'push': 1236, 'wise': 1237, 'chri': 1238, 'repres': 1239, 'month': 1240, 'nomin': 1241, 'sceneri': 1242, 'avail': 1243, 'affair': 1244, 'hide': 1245, 'thu': 1246, 'justic': 1247, 'smart': 1248, 'bond': 1249, 'interview': 1250, 'outstand': 1251, 'flashback': 1252, 'presenc': 1253, 'satisfi': 1254, 'constantli': 1255, 'central': 1256, 'bed': 1257, 'content': 1258, 'sell': 1259, 'iron': 1260, 'everybodi': 1261, 'gag': 1262, 'hotel': 1263, 'slowli': 1264, 'hire': 1265, 'system': 1266, 'thrown': 1267, 'adam': 1268, 'hey': 1269, 'charl': 1270, 'individu': 1271, 'mediocr': 1272, 'jone': 1273, 'allen': 1274, 'ray': 1275, 'lesson': 1276, 'billi': 1277, 'photographi': 1278, 'cameo': 1279, 'fellow': 1280, 'pari': 1281, 'strike': 1282, 'independ': 1283, 'absurd': 1284, 'brief': 1285, 'rise': 1286, 'neg': 1287, 'impact': 1288, 'phone': 1289, 'born': 1290, 'model': 1291, 'ill': 1292, 'angl': 1293, 'spoil': 1294, 'fresh': 1295, 'likabl': 1296, 'abus': 1297, 'discuss': 1298, 'hill': 1299, 'ahead': 1300, 'sight': 1301, 'photograph': 1302, 'sent': 1303, 'shine': 1304, 'blame': 1305, 'logic': 1306, 'occur': 1307, 'mainli': 1308, 'bruce': 1309, 'forev': 1310, 'commerci': 1311, 'skip': 1312, 'surround': 1313, 'teacher': 1314, 'held': 1315, 'segment': 1316, 'blond': 1317, 'zero': 1318, 'resembl': 1319, 'summer': 1320, 'trap': 1321, 'satir': 1322, 'ball': 1323, 'fool': 1324, 'queen': 1325, 'six': 1326, 'tragedi': 1327, 'twice': 1328, 'sub': 1329, 'pack': 1330, 'reaction': 1331, 'bomb': 1332, 'protagonist': 1333, 'will': 1334, 'hospit': 1335, 'mile': 1336, 'sport': 1337, 'vote': 1338, 'mom': 1339, 'trust': 1340, 'jerri': 1341, 'drink': 1342, 'encount': 1343, 'plane': 1344, 'station': 1345, 'current': 1346, 'al': 1347, 'program': 1348, 'choos': 1349, 'martin': 1350, 'celebr': 1351, 'join': 1352, 'tragic': 1353, 'lord': 1354, 'favourit': 1355, 'round': 1356, 'field': 1357, 'vision': 1358, 'robot': 1359, 'jean': 1360, 'arthur': 1361, 'tie': 1362, 'random': 1363, 'fortun': 1364, 'roger': 1365, 'intern': 1366, 'dread': 1367, 'psycholog': 1368, 'improv': 1369, 'epic': 1370, 'prefer': 1371, 'nonsens': 1372, 'pleasur': 1373, 'legend': 1374, 'highlight': 1375, 'formula': 1376, 'tape': 1377, '11': 1378, 'dollar': 1379, 'wide': 1380, 'fox': 1381, 'gorgeou': 1382, 'object': 1383, 'thin': 1384, 'porn': 1385, 'influenc': 1386, 'buddi': 1387, 'ugli': 1388, 'prepar': 1389, 'ii': 1390, 'nasti': 1391, 'supposedli': 1392, 'reflect': 1393, 'warm': 1394, 'progress': 1395, 'worthi': 1396, 'youth': 1397, 'length': 1398, 'latter': 1399, 'unusu': 1400, 'crash': 1401, 'seven': 1402, 'childhood': 1403, 'superior': 1404, 'shop': 1405, 'theatr': 1406, 'remot': 1407, 'disgust': 1408, 'paid': 1409, 'pilot': 1410, 'funniest': 1411, 'convers': 1412, 'trick': 1413, 'castl': 1414, 'fell': 1415, 'disast': 1416, 'gangster': 1417, 'establish': 1418, 'rob': 1419, 'suicid': 1420, 'disappear': 1421, 'mine': 1422, 'ident': 1423, 'heaven': 1424, 'forgotten': 1425, 'heroin': 1426, 'singer': 1427, 'mask': 1428, 'tend': 1429, 'decis': 1430, 'partner': 1431, 'brian': 1432, 'alan': 1433, 'desert': 1434, 'recogn': 1435, 'ms': 1436, 'stuck': 1437, 'sky': 1438, 'p': 1439, 'thoroughli': 1440, 'replac': 1441, 'accur': 1442, 'market': 1443, 'commentari': 1444, 'danni': 1445, 'eddi': 1446, 'seemingli': 1447, 'clue': 1448, 'uncl': 1449, 'andi': 1450, 'devil': 1451, 'jackson': 1452, 'refus': 1453, 'that': 1454, 'pair': 1455, 'therefor': 1456, 'ed': 1457, 'river': 1458, 'fate': 1459, 'accid': 1460, 'fault': 1461, 'unit': 1462, 'tune': 1463, 'afraid': 1464, 'stephen': 1465, 'clean': 1466, 'hidden': 1467, 'russian': 1468, 'readi': 1469, 'irrit': 1470, 'test': 1471, 'convey': 1472, 'quick': 1473, 'captain': 1474, 'instanc': 1475, 'european': 1476, 'frustrat': 1477, 'daniel': 1478, 'insan': 1479, 'wed': 1480, 'chines': 1481, '1950': 1482, 'rescu': 1483, 'food': 1484, 'lock': 1485, 'dirti': 1486, 'angri': 1487, 'joy': 1488, 'price': 1489, 'steven': 1490, 'bland': 1491, 'cage': 1492, 'anymor': 1493, 'rang': 1494, 'wooden': 1495, 'jason': 1496, 'news': 1497, 'rush': 1498, 'n': 1499, 'martial': 1500, 'worri': 1501, '12': 1502, 'board': 1503, 'led': 1504, 'twenti': 1505, 'transform': 1506, 'hunter': 1507, 'symbol': 1508, 'cgi': 1509, 'piti': 1510, 'x': 1511, 'onto': 1512, 'invent': 1513, 'johnni': 1514, 'sentiment': 1515, 'explan': 1516, 'process': 1517, 'attitud': 1518, 'awar': 1519, 'owner': 1520, 'aim': 1521, 'floor': 1522, 'target': 1523, 'necessari': 1524, 'energi': 1525, 'favor': 1526, 'opposit': 1527, 'religi': 1528, 'window': 1529, 'insight': 1530, 'blind': 1531, 'chick': 1532, 'movement': 1533, 'possess': 1534, 'deepli': 1535, 'research': 1536, 'comparison': 1537, 'mountain': 1538, 'grand': 1539, 'rain': 1540, 'comed': 1541, 'whatsoev': 1542, 'shadow': 1543, 'mid': 1544, 'began': 1545, 'bank': 1546, 'princ': 1547, 'parodi': 1548, 'friendship': 1549, 'pre': 1550, 'taylor': 1551, 'credibl': 1552, 'weapon': 1553, 'dougla': 1554, 'teach': 1555, 'flesh': 1556, 'protect': 1557, 'terror': 1558, 'bloodi': 1559, 'hint': 1560, 'marvel': 1561, 'accord': 1562, 'leader': 1563, 'anybodi': 1564, 'load': 1565, 'drunk': 1566, 'watchabl': 1567, 'superman': 1568, 'freddi': 1569, 'brown': 1570, 'hitler': 1571, 'tim': 1572, 'appropri': 1573, 'seat': 1574, 'jeff': 1575, 'knock': 1576, 'unknown': 1577, 'keaton': 1578, 'villag': 1579, 'charg': 1580, 'empti': 1581, 'england': 1582, 'unnecessari': 1583, 'media': 1584, 'enemi': 1585, 'dare': 1586, 'craft': 1587, 'utter': 1588, 'perspect': 1589, 'strength': 1590, 'buck': 1591, 'wave': 1592, 'correct': 1593, 'kiss': 1594, 'contrast': 1595, 'nativ': 1596, 'ford': 1597, 'magnific': 1598, 'knowledg': 1599, 'speed': 1600, 'anywher': 1601, 'chill': 1602, 'distract': 1603, 'soap': 1604, 'nazi': 1605, 'breath': 1606, 'mission': 1607, 'fred': 1608, '1980': 1609, 'ice': 1610, 'jr': 1611, 'joan': 1612, 'crowd': 1613, 'moon': 1614, 'soft': 1615, 'frighten': 1616, '000': 1617, 'kate': 1618, 'hundr': 1619, 'dick': 1620, 'dan': 1621, 'nick': 1622, 'simon': 1623, 'somebodi': 1624, 'dozen': 1625, 'radio': 1626, 'loss': 1627, 'andrew': 1628, 'thousand': 1629, 'shakespear': 1630, 'academi': 1631, 'root': 1632, 'account': 1633, 'quot': 1634, 'vehicl': 1635, 'sum': 1636, 'behavior': 1637, 'convent': 1638, '1970': 1639, 'leg': 1640, 'gold': 1641, 'regular': 1642, 'pretenti': 1643, 'worker': 1644, 'compet': 1645, 'demand': 1646, 'notabl': 1647, 'lynch': 1648, 'explos': 1649, 'privat': 1650, 'stretch': 1651, 'japan': 1652, 'interpret': 1653, 'candi': 1654, 'constant': 1655, 'debut': 1656, 'tarzan': 1657, 'revolv': 1658, 'sea': 1659, 'prais': 1660, 'translat': 1661, 'spi': 1662, 'ass': 1663, 'threaten': 1664, 'jesu': 1665, 'sat': 1666, 'franc': 1667, 'failur': 1668, 'technolog': 1669, 'quiet': 1670, 'met': 1671, 'aid': 1672, 'kevin': 1673, 'punch': 1674, 'higher': 1675, 'toy': 1676, 'vh': 1677, 'interact': 1678, 'mike': 1679, 'abandon': 1680, 'separ': 1681, 'confront': 1682, 'command': 1683, 'bet': 1684, 'servic': 1685, 'recal': 1686, 'stunt': 1687, 'gotten': 1688, 'site': 1689, 'techniqu': 1690, 'belong': 1691, 'cabl': 1692, 'foot': 1693, 'bug': 1694, 'freak': 1695, 'jimmi': 1696, 'fu': 1697, 'bright': 1698, 'african': 1699, 'capabl': 1700, 'succeed': 1701, 'stock': 1702, 'fat': 1703, 'clark': 1704, 'boat': 1705, 'presid': 1706, 'structur': 1707, 'gene': 1708, 'spanish': 1709, 'kidnap': 1710, 'paper': 1711, 'factor': 1712, 'whilst': 1713, 'belief': 1714, 'realism': 1715, 'educ': 1716, 'witti': 1717, 'realis': 1718, 'tree': 1719, 'attend': 1720, 'complic': 1721, 'bob': 1722, 'assist': 1723, 'broken': 1724, 'finest': 1725, 'santa': 1726, 'observ': 1727, 'smoke': 1728, 'determin': 1729, 'v': 1730, 'depart': 1731, 'up': 1732, 'lewi': 1733, 'hat': 1734, 'oper': 1735, 'routin': 1736, 'domin': 1737, 'fame': 1738, 'rubbish': 1739, 'safe': 1740, 'kinda': 1741, 'advanc': 1742, 'lone': 1743, 'morgan': 1744, 'hook': 1745, 'foreign': 1746, 'rank': 1747, 'numer': 1748, 'shape': 1749, 'shallow': 1750, 'washington': 1751, 'civil': 1752, 'rose': 1753, 'werewolf': 1754, 'vs': 1755, 'gari': 1756, 'morn': 1757, 'accomplish': 1758, 'ordinari': 1759, 'winner': 1760, 'kong': 1761, 'peac': 1762, 'grab': 1763, 'virtual': 1764, 'whenev': 1765, 'luck': 1766, 'offens': 1767, 'h': 1768, 'bigger': 1769, 'contriv': 1770, 'activ': 1771, 'unfunni': 1772, 'complain': 1773, 'patient': 1774, 'welcom': 1775, 'dimension': 1776, 'trek': 1777, 'pretend': 1778, 'con': 1779, 'dri': 1780, 'flash': 1781, 'eric': 1782, 'code': 1783, 'wake': 1784, 'cain': 1785, 'lesbian': 1786, 'statu': 1787, 'manipul': 1788, 'corrupt': 1789, 'albert': 1790, 'guard': 1791, 'dancer': 1792, 'gain': 1793, 'sourc': 1794, 'context': 1795, 'signific': 1796, 'awkward': 1797, 'speech': 1798, '13': 1799, 'corni': 1800, 'anthoni': 1801, 'psycho': 1802, 'sean': 1803, 'clip': 1804, 'priest': 1805, 'theatric': 1806, 'advic': 1807, 'curiou': 1808, 'w': 1809, 'religion': 1810, 'reli': 1811, 'addict': 1812, 'flow': 1813, 'howard': 1814, 'specif': 1815, 'jennif': 1816, 'skin': 1817, 'secur': 1818, 'asian': 1819, 'core': 1820, 'luke': 1821, 'promot': 1822, 'organ': 1823, 'comfort': 1824, 'golden': 1825, 'cash': 1826, 'lucki': 1827, 'cheat': 1828, 'dislik': 1829, 'associ': 1830, 'lower': 1831, 'degre': 1832, 'frankli': 1833, 'wing': 1834, 'devic': 1835, 'balanc': 1836, 'spell': 1837, 'regret': 1838, 'frequent': 1839, 'contribut': 1840, 'print': 1841, 'lake': 1842, 'sake': 1843, 'forgiv': 1844, 'mass': 1845, 'betti': 1846, 'thoma': 1847, 'unexpect': 1848, 'gordon': 1849, 'crack': 1850, 'construct': 1851, 'unfold': 1852, 'amateur': 1853, 'depend': 1854, 'grown': 1855, 'categori': 1856, 'invit': 1857, 'matur': 1858, 'condit': 1859, 'grew': 1860, 'anna': 1861, 'intellectu': 1862, 'honor': 1863, 'walter': 1864, 'mirror': 1865, 'veteran': 1866, 'sudden': 1867, 'spectacular': 1868, 'sole': 1869, 'gift': 1870, 'experienc': 1871, 'grip': 1872, 'demonstr': 1873, 'freedom': 1874, 'meanwhil': 1875, 'liner': 1876, 'robin': 1877, 'card': 1878, 'overli': 1879, 'subtitl': 1880, 'circumst': 1881, 'theori': 1882, 'sheriff': 1883, 'unabl': 1884, 'colour': 1885, 'oliv': 1886, 'drew': 1887, 'section': 1888, 'crappi': 1889, 'brilliantli': 1890, 'pile': 1891, 'cook': 1892, 'altern': 1893, 'path': 1894, 'laughter': 1895, 'matt': 1896, 'parker': 1897, 'sheer': 1898, 'defin': 1899, 'accident': 1900, 'relief': 1901, 'hall': 1902, 'lawyer': 1903, 'wander': 1904, 'sinatra': 1905, 'treatment': 1906, 'dragon': 1907, 'captiv': 1908, 'hank': 1909, 'halloween': 1910, 'moor': 1911, 'gratuit': 1912, 'broadway': 1913, 'wound': 1914, 'barbara': 1915, 'k': 1916, 'cowboy': 1917, 'unintent': 1918, 'wayn': 1919, 'kung': 1920, 'jacki': 1921, 'statement': 1922, 'canadian': 1923, 'surreal': 1924, 'spoof': 1925, 'winter': 1926, 'cheer': 1927, 'compos': 1928, 'fare': 1929, 'treasur': 1930, 'gonna': 1931, 'fish': 1932, 'victor': 1933, 'unrealist': 1934, 'emerg': 1935, 'sensit': 1936, 'woodi': 1937, 'ran': 1938, 'driven': 1939, 'neighbor': 1940, 'sympathet': 1941, 'expos': 1942, 'authent': 1943, 'glass': 1944, 'topic': 1945, 'overlook': 1946, 'menac': 1947, 'ancient': 1948, 'michel': 1949, 'handsom': 1950, 'chief': 1951, 'gross': 1952, 'stranger': 1953, 'nevertheless': 1954, 'feet': 1955, 'contemporari': 1956, 'cinderella': 1957, 'pleasant': 1958, 'network': 1959, 'comedian': 1960, 'russel': 1961, 'built': 1962, 'letter': 1963, 'underr': 1964, 'earn': 1965, 'endless': 1966, 'consider': 1967, 'miser': 1968, 'gori': 1969, 'blockbust': 1970, 'brook': 1971, 'switch': 1972, 'solv': 1973, 'bullet': 1974, 'victoria': 1975, 'convict': 1976, 'edward': 1977, 'joseph': 1978, 'virgin': 1979, 'chosen': 1980, 'scale': 1981, '0': 1982, 'scenario': 1983, 'cynic': 1984, 'alex': 1985, 'curs': 1986, 'com': 1987, 'outrag': 1988, 'gut': 1989, 'sword': 1990, 'driver': 1991, 'screenwrit': 1992, 'substanc': 1993, 'proper': 1994, 'wrap': 1995, 'juli': 1996, 'uk': 1997, 'monkey': 1998, 'remov': 1999, 'court': 2000, 'indic': 2001, 'par': 2002, 'bird': 2003, 'roy': 2004, 'grave': 2005, 'inevit': 2006, 'naiv': 2007, 'loser': 2008, 'advertis': 2009, 'rental': 2010, 'consequ': 2011, 'nanci': 2012, 'bridg': 2013, 'slap': 2014, 'le': 2015, 'fatal': 2016, 'invis': 2017, 'brave': 2018, 'germani': 2019, 'loui': 2020, 'provok': 2021, 'ador': 2022, 'anger': 2023, 'footbal': 2024, 'anderson': 2025, 'alcohol': 2026, 'chan': 2027, 'ryan': 2028, 'willi': 2029, 'stumbl': 2030, 'professor': 2031, 'australian': 2032, '1930': 2033, 'bat': 2034, 'assassin': 2035, 'sharp': 2036, 'patrick': 2037, 'strongli': 2038, 'ape': 2039, 'deni': 2040, 'cell': 2041, 'eight': 2042, 'liber': 2043, 'trilog': 2044, 'saturday': 2045, 'heck': 2046, 'amateurish': 2047, 'lousi': 2048, 'refresh': 2049, 'sin': 2050, 'vagu': 2051, 'resid': 2052, 'justifi': 2053, 'san': 2054, 'reput': 2055, 'terrifi': 2056, 'creator': 2057, 'mini': 2058, 'defeat': 2059, 'indi': 2060, 'sympathi': 2061, 'endur': 2062, 'tabl': 2063, 'expert': 2064, 'tediou': 2065, 'prevent': 2066, 'task': 2067, 'trial': 2068, 'offend': 2069, 'che': 2070, 'imit': 2071, 'rival': 2072, 'employ': 2073, 'basebal': 2074, 'max': 2075, 'beach': 2076, 'pitch': 2077, 'europ': 2078, 'dig': 2079, 'complaint': 2080, 'weekend': 2081, 'fairi': 2082, 'purchas': 2083, 'risk': 2084, 'murphi': 2085, 'format': 2086, 'harsh': 2087, 'glimps': 2088, 'hype': 2089, 'bite': 2090, 'titan': 2091, 'nois': 2092, 'tini': 2093, 'reminisc': 2094, 'powel': 2095, 'fals': 2096, 'prime': 2097, 'asleep': 2098, 'till': 2099, '14': 2100, 'strip': 2101, 'north': 2102, 'revel': 2103, 'destruct': 2104, 'descript': 2105, 'texa': 2106, 'africa': 2107, 'excess': 2108, 'inner': 2109, 'sitcom': 2110, 'uninterest': 2111, 'surfac': 2112, 'spin': 2113, 'semi': 2114, 'arrest': 2115, 'maintain': 2116, 'makeup': 2117, 'massiv': 2118, 'hitchcock': 2119, 'argu': 2120, 'controversi': 2121, 'dinosaur': 2122, 'twin': 2123, 'melodrama': 2124, 'ideal': 2125, 'ludicr': 2126, 'expens': 2127, 'insist': 2128, 'reject': 2129, 'stare': 2130, 'kim': 2131, 'columbo': 2132, 'supernatur': 2133, 'subplot': 2134, 'nail': 2135, 'atroci': 2136, 'host': 2137, 'forest': 2138, 'ala': 2139, 'ga': 2140, 'erot': 2141, 'press': 2142, 'notch': 2143, 'dude': 2144, 'identifi': 2145, 'cant': 2146, 'presum': 2147, 'plagu': 2148, 'character': 2149, 'forgett': 2150, 'method': 2151, 'crude': 2152, 'guest': 2153, 'closer': 2154, 'landscap': 2155, 'princess': 2156, 'lion': 2157, 'border': 2158, 'beast': 2159, 'foster': 2160, 'ear': 2161, 'accus': 2162, 'bound': 2163, 'birth': 2164, 'previous': 2165, 'pacino': 2166, 'urban': 2167, 'aunt': 2168, 'damag': 2169, 'jungl': 2170, 'storytel': 2171, 'thirti': 2172, 'chose': 2173, 'guid': 2174, 'jess': 2175, 'nude': 2176, 'propaganda': 2177, 'doll': 2178, 'emma': 2179, 'mate': 2180, 'mainstream': 2181, '25': 2182, 'pet': 2183, 'warrior': 2184, 'whoever': 2185, 'merit': 2186, 'exact': 2187, 'gritti': 2188, 'deadli': 2189, 'upset': 2190, 'friday': 2191, 'poster': 2192, 'size': 2193, 'cooper': 2194, 'latest': 2195, 'corps': 2196, '1990': 2197, 'blend': 2198, 'rough': 2199, 'warner': 2200, 'contact': 2201, 'settl': 2202, 'contest': 2203, 'ton': 2204, 'citizen': 2205, 'buff': 2206, 'sun': 2207, 'popul': 2208, 'wilson': 2209, 'select': 2210, 'overcom': 2211, 'pitt': 2212, 'environ': 2213, 'alic': 2214, 'rat': 2215, 'mgm': 2216, 'metal': 2217, 'widow': 2218, 'bu': 2219, 'link': 2220, 'lift': 2221, 'ted': 2222, 'revolut': 2223, 'particip': 2224, 'guilti': 2225, 'accompani': 2226, 'afternoon': 2227, 'johnson': 2228, '1960': 2229, 'prostitut': 2230, 'moron': 2231, 'corpor': 2232, 'exagger': 2233, 'corner': 2234, 'matrix': 2235, 'clair': 2236, 'instal': 2237, 'leagu': 2238, 'sincer': 2239, 'friendli': 2240, 'hood': 2241, 'multipl': 2242, 'holm': 2243, 'doom': 2244, 'sunday': 2245, 'junk': 2246, 'irish': 2247, 'advis': 2248, 'hip': 2249, 'blah': 2250, 'examin': 2251, 'aka': 2252, 'string': 2253, 'lugosi': 2254, 'grim': 2255, 'campi': 2256, 'defend': 2257, 'shut': 2258, 'tight': 2259, 'shake': 2260, 'rachel': 2261, 'confid': 2262, 'varieti': 2263, 'pro': 2264, 'icon': 2265, 'attach': 2266, 'directli': 2267, 'denni': 2268, 'jaw': 2269, 'medic': 2270, 'goal': 2271, 'mexican': 2272, 'sullivan': 2273, 'prior': 2274, 'dean': 2275, 'breast': 2276, 'terrorist': 2277, 'truck': 2278, 'legendari': 2279, 'courag': 2280, 'duke': 2281, 'sentenc': 2282, 'sarah': 2283, 'vietnam': 2284, 'bourn': 2285, 'donald': 2286, 'un': 2287, 'proceed': 2288, 'yell': 2289, 'split': 2290, 'entri': 2291, 'nose': 2292, 'behav': 2293, 'hong': 2294, 'swim': 2295, 'gather': 2296, 'forth': 2297, 'stolen': 2298, 'jerk': 2299, 'buri': 2300, 'confess': 2301, 'unconvinc': 2302, 'borrow': 2303, 'everywher': 2304, 'crush': 2305, 'lifetim': 2306, 'concentr': 2307, 'spite': 2308, 'california': 2309, 'lip': 2310, 'turkey': 2311, 'pan': 2312, 'julia': 2313, 'deliveri': 2314, 'reward': 2315, 'quest': 2316, 'flight': 2317, 'hoffman': 2318, 'china': 2319, 'offici': 2320, 'freeman': 2321, 'downright': 2322, 'proud': 2323, 'encourag': 2324, 'sink': 2325, 'lazi': 2326, 'fade': 2327, 'betray': 2328, 'notori': 2329, 'sir': 2330, 'jail': 2331, 'jon': 2332, 'worthwhil': 2333, 'fabul': 2334, 'inept': 2335, 'susan': 2336, 'storm': 2337, 'retard': 2338, 'bag': 2339, 'cousin': 2340, 'imageri': 2341, 'branagh': 2342, 'bell': 2343, 'teeth': 2344, 'lisa': 2345, 'relev': 2346, 'survivor': 2347, 'shower': 2348, 'finger': 2349, 'tremend': 2350, 'facial': 2351, 'trade': 2352, 'shark': 2353, 'stab': 2354, 'quirki': 2355, 'summari': 2356, 'bride': 2357, 'toler': 2358, 'mexico': 2359, 'alright': 2360, 'hugh': 2361, 'pose': 2362, 'bitter': 2363, 'blown': 2364, 'ha': 2365, 'von': 2366, 'hyster': 2367, 'afterward': 2368, 'ron': 2369, 'larri': 2370, 'christ': 2371, 'ned': 2372, 'address': 2373, 'cruel': 2374, 'scheme': 2375, 'bone': 2376, 'screw': 2377, 'distinct': 2378, 'beg': 2379, 'feed': 2380, 'thumb': 2381, 'tour': 2382, 'traci': 2383, 'swear': 2384, 'snake': 2385, 'pursu': 2386, 'photo': 2387, 'occas': 2388, 'chair': 2389, 'mechan': 2390, 'stomach': 2391, 'raw': 2392, 'obscur': 2393, 'chain': 2394, 'render': 2395, 'necessarili': 2396, 'resist': 2397, 'holiday': 2398, 'gruesom': 2399, 'southern': 2400, 'hardi': 2401, 'heavili': 2402, 'sidney': 2403, 'cabin': 2404, 'argument': 2405, 'racist': 2406, 'understood': 2407, 'satan': 2408, 'philip': 2409, 'india': 2410, 'indulg': 2411, 'belov': 2412, 'outfit': 2413, 'obnoxi': 2414, 'stalk': 2415, 'midnight': 2416, 'lay': 2417, 'tongu': 2418, 'integr': 2419, 'fourth': 2420, 'forgot': 2421, 'pregnant': 2422, 'restor': 2423, 'ticket': 2424, 'slapstick': 2425, 'carol': 2426, 'garden': 2427, 'magazin': 2428, '17': 2429, 'deeper': 2430, 'inhabit': 2431, 'incid': 2432, 'devot': 2433, 'shoe': 2434, 'lincoln': 2435, 'brad': 2436, 'sandler': 2437, 'benefit': 2438, 'disbelief': 2439, 'elizabeth': 2440, 'lili': 2441, 'anticip': 2442, 'divorc': 2443, 'underground': 2444, 'guarante': 2445, 'maria': 2446, 'amazingli': 2447, 'slave': 2448, 'greater': 2449, 'creation': 2450, 'explod': 2451, 'princip': 2452, 'bbc': 2453, 'cring': 2454, 'mildli': 2455, 'capit': 2456, 'halfway': 2457, 'lesli': 2458, 'funnier': 2459, 'extraordinari': 2460, 'introduct': 2461, 'overwhelm': 2462, 'advantag': 2463, 'transfer': 2464, 'punish': 2465, 'enhanc': 2466, 'tap': 2467, 'wreck': 2468, 'extent': 2469, 'text': 2470, 'error': 2471, 'lo': 2472, 'plant': 2473, 'east': 2474, 'jessica': 2475, 'preview': 2476, 'horrif': 2477, 'dynam': 2478, 'lane': 2479, 'deliber': 2480, 'basi': 2481, 'vacat': 2482, 'vincent': 2483, 'homosexu': 2484, '2000': 2485, 'miscast': 2486, 'appli': 2487, 'sophist': 2488, 'miller': 2489, 'ensu': 2490, 'via': 2491, 'steel': 2492, 'extend': 2493, 'spoken': 2494, 'sleazi': 2495, 'reed': 2496, 'mansion': 2497, 'measur': 2498, 'elev': 2499, 'uncomfort': 2500, 'bollywood': 2501, 'overact': 2502, 'fix': 2503, 'blair': 2504, 'goofi': 2505, 'hippi': 2506, 'conceiv': 2507, 'assign': 2508, 'daili': 2509, 'melt': 2510, 'beer': 2511, 'mous': 2512, 'savag': 2513, 'stanley': 2514, 'dentist': 2515, 'cathol': 2516, 'alter': 2517, 'breathtak': 2518, 'everyday': 2519, 'inspector': 2520, 'carpent': 2521, 'oppos': 2522, 'sacrific': 2523, 'succe': 2524, 'nowaday': 2525, 'properli': 2526, 'burt': 2527, 'subsequ': 2528, 'laura': 2529, 'circl': 2530, 'massacr': 2531, 'neck': 2532, 'block': 2533, 'lesser': 2534, 'pool': 2535, 'access': 2536, 'mob': 2537, 'fay': 2538, 'seagal': 2539, 'fallen': 2540, 'concert': 2541, 'portrait': 2542, 'grey': 2543, 'christi': 2544, 'usa': 2545, 'isol': 2546, 'sinist': 2547, 'jewish': 2548, 'relax': 2549, 'chees': 2550, 'react': 2551, 'jake': 2552, 'competit': 2553, 'ironi': 2554, 'nonetheless': 2555, 'creep': 2556, 'spiritu': 2557, 'chop': 2558, 'immens': 2559, 'nine': 2560, 'stink': 2561, 'suitabl': 2562, '2006': 2563, 'appal': 2564, 'lyric': 2565, 'spring': 2566, 'rage': 2567, 'franchis': 2568, 'sold': 2569, 'reduc': 2570, 'nut': 2571, 'navi': 2572, 'showcas': 2573, 'needless': 2574, 'luci': 2575, 'user': 2576, 'shirt': 2577, 'retir': 2578, 'adopt': 2579, 'asham': 2580, 'per': 2581, 'zone': 2582, 'uninspir': 2583, 'stanwyck': 2584, 'bath': 2585, 'jay': 2586, 'digit': 2587, 'nurs': 2588, 'bulli': 2589, 'sutherland': 2590, 'amongst': 2591, 'laid': 2592, '1940': 2593, 'illustr': 2594, 'upper': 2595, 'broadcast': 2596, '2001': 2597, 'oddli': 2598, 'fulfil': 2599, 'baker': 2600, 'brando': 2601, 'stylish': 2602, 'throat': 2603, 'aspir': 2604, 'disguis': 2605, 'thief': 2606, 'em': 2607, '18': 2608, 'pride': 2609, 'pound': 2610, 'endear': 2611, 'wwii': 2612, 'wanna': 2613, 'nobl': 2614, 'impli': 2615, 'neighborhood': 2616, 'albeit': 2617, 'distribut': 2618, 'dawn': 2619, 'shift': 2620, 'tens': 2621, 'shoulder': 2622, 'rochest': 2623, '16': 2624, 'coher': 2625, 'bo': 2626, 'cinematograph': 2627, 'dinner': 2628, 'prop': 2629, 'bett': 2630, 'diseas': 2631, 'silenc': 2632, 'poignant': 2633, 'snow': 2634, 'function': 2635, 'matthau': 2636, 'forti': 2637, 'contract': 2638, 'wash': 2639, 'knife': 2640, 'surf': 2641, 'rebel': 2642, 'shout': 2643, 'eeri': 2644, 'mindless': 2645, 'instinct': 2646, 'chuck': 2647, 'duti': 2648, 'cancel': 2649, 'silver': 2650, 'proof': 2651, 'heat': 2652, 'widmark': 2653, 'henc': 2654, 'internet': 2655, 'elvira': 2656, 'horrend': 2657, 'reunion': 2658, 'height': 2659, 'cannib': 2660, 'derek': 2661, 'mill': 2662, 'glori': 2663, 'alik': 2664, 'neat': 2665, 'premier': 2666, 'innov': 2667, 'incoher': 2668, 'musician': 2669, 'torn': 2670, 'absorb': 2671, 'repetit': 2672, 'etern': 2673, 'spielberg': 2674, 'pie': 2675, 'elvi': 2676, 'greatli': 2677, 'infam': 2678, 'horrifi': 2679, 'itali': 2680, 'trite': 2681, 'burton': 2682, 'homag': 2683, 'lovabl': 2684, 'nelson': 2685, 'redempt': 2686, 'blank': 2687, 'announc': 2688, 'wealthi': 2689, 'fbi': 2690, 'britain': 2691, 'precis': 2692, 'bang': 2693, 'diamond': 2694, 'crisi': 2695, 'racism': 2696, 'flop': 2697, 'happili': 2698, 'helen': 2699, 'chaplin': 2700, 'parallel': 2701, 'dedic': 2702, 'resolut': 2703, 'hammer': 2704, 'streisand': 2705, 'pat': 2706, 'wilder': 2707, 'ensembl': 2708, 'carter': 2709, 'conclud': 2710, 'broke': 2711, 'disagre': 2712, 'cube': 2713, 'mar': 2714, 'triumph': 2715, 'oil': 2716, 'plastic': 2717, 'factori': 2718, 'st': 2719, 'row': 2720, 'weight': 2721, 'bush': 2722, 'vega': 2723, 'march': 2724, 'fighter': 2725, 'rocket': 2726, 'chuckl': 2727, 'climb': 2728, 'own': 2729, 'dump': 2730, 'wherea': 2731, 'thug': 2732, 'meaning': 2733, 'dane': 2734, 'spare': 2735, 'enorm': 2736, 'luca': 2737, 'sensibl': 2738, 'boot': 2739, 'mst3k': 2740, 'unforgett': 2741, 'lust': 2742, 'kurt': 2743, 'adequ': 2744, 'rap': 2745, 'threat': 2746, 'stress': 2747, 'dear': 2748, 'brand': 2749, 'difficulti': 2750, 'arnold': 2751, 'butt': 2752, 'caricatur': 2753, 'karloff': 2754, 'fifti': 2755, 'engin': 2756, 'bobbi': 2757, 'journalist': 2758, 'ego': 2759, 'ralph': 2760, 'elabor': 2761, 'fest': 2762, 'arrog': 2763, 'secretari': 2764, 'hamlet': 2765, 'flynn': 2766, 'polish': 2767, 'homeless': 2768, 'barri': 2769, 'swing': 2770, 'unbear': 2771, 'induc': 2772, 'tool': 2773, 'conspiraci': 2774, 'fanci': 2775, 'grate': 2776, 'arrang': 2777, 'simpson': 2778, 'float': 2779, 'resort': 2780, 'puppet': 2781, 'spike': 2782, 'guilt': 2783, 'basement': 2784, 'exercis': 2785, 'pig': 2786, 'choreograph': 2787, 'phillip': 2788, 'cruis': 2789, 'muppet': 2790, 'tribut': 2791, 'boll': 2792, 'file': 2793, 'document': 2794, 'tower': 2795, 'fianc': 2796, 'ham': 2797, 'editor': 2798, 'item': 2799, 'ward': 2800, 'medium': 2801, 'slip': 2802, 'babe': 2803, 'layer': 2804, '24': 2805, 'korean': 2806, 'scarecrow': 2807, 'puzzl': 2808, 'toilet': 2809, 'stan': 2810, 'catherin': 2811, 'transit': 2812, 'superfici': 2813, 'librari': 2814, 'spark': 2815, 'larger': 2816, 'portion': 2817, 'orient': 2818, 'philosoph': 2819, 'assur': 2820, 'slaughter': 2821, 'territori': 2822, 'inexplic': 2823, 'doc': 2824, 'persona': 2825, 'minim': 2826, 'glover': 2827, 'denzel': 2828, 'dorothi': 2829, 'financi': 2830, 'boredom': 2831, 'shi': 2832, 'pg': 2833, 'owe': 2834, 'curti': 2835, 'ban': 2836, 'wolf': 2837, 'sneak': 2838, 'walken': 2839, 'jet': 2840, 'jeremi': 2841, 'hudson': 2842, 'ambigu': 2843, 'backdrop': 2844, 'profound': 2845, 'cusack': 2846, 'multi': 2847, 'metaphor': 2848, 'whale': 2849, 'eleph': 2850, '2005': 2851, 'ultra': 2852, 'union': 2853, 'stiff': 2854, 'elsewher': 2855, 'hack': 2856, 'birthday': 2857, 'gadget': 2858, 'rave': 2859, 'viru': 2860, 'implaus': 2861, 'notion': 2862, 'reader': 2863, 'lloyd': 2864, 'slight': 2865, 'squar': 2866, 'distanc': 2867, 'pad': 2868, 'newspap': 2869, 'disc': 2870, 'hawk': 2871, 'deriv': 2872, 'poison': 2873, '1st': 2874, 'eva': 2875, 'afford': 2876, 'canada': 2877, 'superhero': 2878, 'bibl': 2879, 'urg': 2880, 'eastwood': 2881, 'essenc': 2882, 'charisma': 2883, 'cure': 2884, 'health': 2885, 'huh': 2886, 'restaur': 2887, 'montag': 2888, 'drown': 2889, 'sadist': 2890, 'spread': 2891, 'button': 2892, 'skit': 2893, 'heston': 2894, 'fetch': 2895, 'dealt': 2896, 'invest': 2897, 'godfath': 2898, 'peak': 2899, 'gradual': 2900, 'scoobi': 2901, 'lab': 2902, 'maniac': 2903, 'estat': 2904, 'muslim': 2905, 'companion': 2906, 'countless': 2907, 'alli': 2908, 'gothic': 2909, 'subtleti': 2910, 'kane': 2911, 'cup': 2912, 'servant': 2913, 'tea': 2914, 'ritter': 2915, 'miik': 2916, 'electr': 2917, 'charismat': 2918, 'heroic': 2919, 'elect': 2920, 'briefli': 2921, 'iii': 2922, 'salli': 2923, 'bud': 2924, 'resourc': 2925, 'toss': 2926, 'nuanc': 2927, 'grandmoth': 2928, 'tender': 2929, 'reel': 2930, 'admittedli': 2931, 'cole': 2932, 'neil': 2933, 'wannab': 2934, 'ingredi': 2935, 'label': 2936, 'mafia': 2937, 'pit': 2938, 'reev': 2939, 'dawson': 2940, 'gate': 2941, 'stood': 2942, 'punk': 2943, 'pauli': 2944, 'mild': 2945, 'stronger': 2946, 'poverti': 2947, 'kubrick': 2948, 'shall': 2949, 'carrey': 2950, 'assault': 2951, 'outcom': 2952, 'useless': 2953, 'ian': 2954, 'smooth': 2955, 'astair': 2956, 'tag': 2957, 'fond': 2958, 'cox': 2959, 'cardboard': 2960, 'burst': 2961, 'bakshi': 2962, 'easier': 2963, 'updat': 2964, 'smash': 2965, 'terri': 2966, 'vari': 2967, 'vulner': 2968, 'coincid': 2969, '2002': 2970, 'fist': 2971, 'samurai': 2972, 'divers': 2973, 'resolv': 2974, 'qualifi': 2975, 'sketch': 2976, 'melodramat': 2977, 'exchang': 2978, 'rex': 2979, 'increasingli': 2980, 'insert': 2981, 'be': 2982, 'luckili': 2983, 'suspend': 2984, 'blast': 2985, 'reynold': 2986, 'scratch': 2987, 'brillianc': 2988, 'templ': 2989, 'conveni': 2990, 'tame': 2991, 'hamilton': 2992, 'jami': 2993, 'matthew': 2994, 'farm': 2995, 'strictli': 2996, 'ambiti': 2997, 'seventi': 2998, 'meat': 2999, 'nuclear': 3000, 'coach': 3001, 'gotta': 3002, 'soprano': 3003, 'pin': 3004, 'fisher': 3005, 'walker': 3006, 'butcher': 3007, 'worthless': 3008, 'revers': 3009, 'recreat': 3010, 'eccentr': 3011, 'timeless': 3012, 'monk': 3013, 'struck': 3014, 'spooki': 3015, 'ninja': 3016, 'convolut': 3017, 'instantli': 3018, 'kudo': 3019, 'discoveri': 3020, 'cave': 3021, 'closet': 3022, 'brosnan': 3023, 'clock': 3024, 'joey': 3025, 'empir': 3026, 'grasp': 3027, 'selfish': 3028, 'sidekick': 3029, 'partli': 3030, 'gray': 3031, 'evok': 3032, 'communist': 3033, 'cliff': 3034, 'inconsist': 3035, 'bleak': 3036, 'norman': 3037, 'mitchel': 3038, 'declar': 3039, 'miracl': 3040, 'sloppi': 3041, 'eighti': 3042, 'importantli': 3043, 'pal': 3044, 'clown': 3045, 'seller': 3046, 'fifteen': 3047, 'wipe': 3048, 'debat': 3049, 'superbl': 3050, 'aforement': 3051, 'piano': 3052, 'australia': 3053, 'destin': 3054, 'farc': 3055, 'stoog': 3056, 'flawless': 3057, 'chew': 3058, 'websit': 3059, 'ho': 3060, 'cheek': 3061, 'lifestyl': 3062, 'psychiatrist': 3063, 'enthusiast': 3064, '45': 3065, 'seed': 3066, 'kitchen': 3067, 'slice': 3068, 'emili': 3069, 'anni': 3070, 'regardless': 3071, 'soviet': 3072, 'wick': 3073, 'akshay': 3074, 'incompet': 3075, 'dire': 3076, 'directori': 3077, 'dash': 3078, 'abc': 3079, 'bash': 3080, 'drivel': 3081, 'wrestl': 3082, 'pressur': 3083, 'splatter': 3084, 'increas': 3085, 'beaten': 3086, 'duo': 3087, 'helicopt': 3088, 'seduc': 3089, 'distant': 3090, 'recov': 3091, 'cagney': 3092, 'lou': 3093, 'pleasantli': 3094, 'flower': 3095, 'judi': 3096, 'boil': 3097, 'blob': 3098, 'cameron': 3099, 'curios': 3100, 'chapter': 3101, 'glow': 3102, 'suppli': 3103, 'doo': 3104, 'ken': 3105, 'cia': 3106, 'mann': 3107, 'artifici': 3108, 'jar': 3109, 'prize': 3110, 'dave': 3111, 'psychot': 3112, 'craig': 3113, 'turner': 3114, 'goldberg': 3115, 'web': 3116, 'glenn': 3117, 'splendid': 3118, 'hop': 3119, 'ranger': 3120, 'drunken': 3121, 'favour': 3122, 'ellen': 3123, 'panic': 3124, 'francisco': 3125, 'combat': 3126, 'craven': 3127, 'eleg': 3128, 'perri': 3129, 'laurel': 3130, 'hatr': 3131, 'wizard': 3132, 'greek': 3133, 'graduat': 3134, 'plausibl': 3135, 'slightest': 3136, 'philosophi': 3137, 'alexand': 3138, 'rid': 3139, 'gentl': 3140, 'ruth': 3141, '20th': 3142, 'shortli': 3143, 'falk': 3144, 'fx': 3145, 'flip': 3146, 'gandhi': 3147, 'modesti': 3148, 'min': 3149, 'futurist': 3150, 'manhattan': 3151, 'legal': 3152, 'tall': 3153, 'preciou': 3154, 'fund': 3155, 'unpleas': 3156, 'lend': 3157, 'knight': 3158, 'felix': 3159, 'jealou': 3160, 'we': 3161, 'holi': 3162, 'ocean': 3163, 'harm': 3164, 'dracula': 3165, 'mock': 3166, 'digniti': 3167, 'bless': 3168, 'nod': 3169, 'thread': 3170, 'ami': 3171, 'childish': 3172, 'tank': 3173, 'scientif': 3174, 'explicit': 3175, 'overdon': 3176, 'reviv': 3177, 'forbidden': 3178, 'giallo': 3179, 'awe': 3180, 'awaken': 3181, 'nerv': 3182, 'mel': 3183, 'yesterday': 3184, '2004': 3185, 'repeatedli': 3186, 'broad': 3187, 'torment': 3188, 'eve': 3189, 'fever': 3190, 'margaret': 3191, '99': 3192, 'thick': 3193, 'elderli': 3194, 'pirat': 3195, 'unwatch': 3196, 'verhoeven': 3197, 'romero': 3198, 'absenc': 3199, 'automat': 3200, 'acclaim': 3201, 'lean': 3202, 'custom': 3203, 'royal': 3204, 'politician': 3205, 'bin': 3206, 'roman': 3207, 'timothi': 3208, 'rivet': 3209, 'ah': 3210, 'publish': 3211, 'ambit': 3212, 'launch': 3213, 'kay': 3214, 'griffith': 3215, 'uniform': 3216, 'eas': 3217, 'stiller': 3218, 'gabriel': 3219, 'crook': 3220, 'termin': 3221, 'antic': 3222, 'warren': 3223, 'darker': 3224, 'stinker': 3225, 'phrase': 3226, 'foul': 3227, 'pulp': 3228, 'homicid': 3229, 'purpl': 3230, 'tomato': 3231, 'sunshin': 3232, 'transport': 3233, 'pierc': 3234, 'wallac': 3235, 'bathroom': 3236, 'contrari': 3237, 'album': 3238, 'choreographi': 3239, 'pray': 3240, 'revolutionari': 3241, '2003': 3242, 'eyr': 3243, 'packag': 3244, 'kenneth': 3245, 'juvenil': 3246, 'rambo': 3247, 'li': 3248, 'sixti': 3249, 'awak': 3250, 'evolv': 3251, 'viciou': 3252, 'ought': 3253, 'marin': 3254, 'saint': 3255, 'horrid': 3256, 'brazil': 3257, 'donna': 3258, 'q': 3259, 'hollow': 3260, 'coloni': 3261, 'karen': 3262, 'prom': 3263, 'conserv': 3264, 'mummi': 3265, 'overr': 3266, 'candid': 3267, 'defi': 3268, 'stole': 3269, 'twelv': 3270, 'beatti': 3271, 'ramon': 3272, 'dose': 3273, 'boast': 3274, 'option': 3275, 'ireland': 3276, 'blade': 3277, 'kapoor': 3278, 'nerd': 3279, 'mildr': 3280, 'flame': 3281, 'detract': 3282, 'natali': 3283, 'astonish': 3284, 'kirk': 3285, 'collabor': 3286, 'funer': 3287, 'protest': 3288, 'confirm': 3289, 'global': 3290, 'altman': 3291, 'trio': 3292, 'fulci': 3293, 'jazz': 3294, 'shade': 3295, 'spit': 3296, 'tommi': 3297, 'leap': 3298, 'delici': 3299, 'blake': 3300, 'yellow': 3301, 'nicholson': 3302, 'bottl': 3303, 'racial': 3304, 'mystic': 3305, 'whip': 3306, 'audio': 3307, 'destini': 3308, 'bull': 3309, 'enterpris': 3310, 'threw': 3311, 'altogeth': 3312, 'vivid': 3313, 'enchant': 3314, 'swedish': 3315, 'inherit': 3316, 'harder': 3317, 'reunit': 3318, 'staff': 3319, 'popcorn': 3320, 'pseudo': 3321, 'meaningless': 3322, 'fonda': 3323, 'adolesc': 3324, 'visibl': 3325, 'bedroom': 3326, 'merci': 3327, 'neo': 3328, 'todd': 3329, 'tip': 3330, 'madonna': 3331, 'roommat': 3332, 'lawrenc': 3333, 'leonard': 3334, 'exhibit': 3335, 'ruthless': 3336, 'lemmon': 3337, 'bust': 3338, 'uneven': 3339, 'befriend': 3340, 'voight': 3341, 'wire': 3342, 'await': 3343, 'moodi': 3344, 'synopsi': 3345, 'reserv': 3346, 'fanat': 3347, 'jew': 3348, 'edi': 3349, 'respond': 3350, 'suspici': 3351, 'atlanti': 3352, 'crocodil': 3353, 'decor': 3354, 'kennedi': 3355, 'clumsi': 3356, 'carl': 3357, 'clint': 3358, 'incident': 3359, 'dimens': 3360, 'garner': 3361, 'centr': 3362, 'palma': 3363, 'ventur': 3364, 'holli': 3365, 'rural': 3366, 'unsettl': 3367, 'abysm': 3368, 'bold': 3369, 'bradi': 3370, 'audit': 3371, 'chao': 3372, '2007': 3373, 'voyag': 3374, 'bargain': 3375, 'trail': 3376, 'ant': 3377, 'characterist': 3378, 'cuba': 3379, 'cd': 3380, 'imperson': 3381, 'wealth': 3382, 'humili': 3383, 'troop': 3384, 'timon': 3385, 'versu': 3386, 'mall': 3387, '2nd': 3388, 'nearbi': 3389, 'lit': 3390, 'elimin': 3391, 'tiger': 3392, 'poetic': 3393, 'daddi': 3394, 'cari': 3395, 'hart': 3396, 'neglect': 3397, 'immigr': 3398, 'echo': 3399, 'acknowledg': 3400, 'repuls': 3401, 'prejudic': 3402, 'solo': 3403, 'celluloid': 3404, 'collaps': 3405, 'paus': 3406, 'mistaken': 3407, 'homer': 3408, 'mickey': 3409, 'infect': 3410, 'marshal': 3411, 'pun': 3412, 'jeffrey': 3413, 'saga': 3414, 'domest': 3415, 'interrupt': 3416, 'undoubtedli': 3417, 'gear': 3418, 'assembl': 3419, 'tribe': 3420, 'ginger': 3421, 'coat': 3422, 'promin': 3423, 'harvey': 3424, 'pant': 3425, '1996': 3426, 'sore': 3427, 'chest': 3428, 'apolog': 3429, 'equip': 3430, 'leon': 3431, 'inan': 3432, 'coffe': 3433, 'hbo': 3434, 'milk': 3435, 'cake': 3436, 'olivi': 3437, 'inappropri': 3438, 'devast': 3439, 'colonel': 3440, 'colleagu': 3441, 'highest': 3442, 'instant': 3443, 'vulgar': 3444, 'maggi': 3445, 'pen': 3446, 'humbl': 3447, 'primari': 3448, 'embrac': 3449, 'retain': 3450, 'jenni': 3451, 'institut': 3452, 'trace': 3453, 'airplan': 3454, 'pot': 3455, 'exot': 3456, 'florida': 3457, 'consum': 3458, 'furthermor': 3459, 'aveng': 3460, 'polanski': 3461, 'brooklyn': 3462, 'solut': 3463, '1999': 3464, 'principl': 3465, 'linda': 3466, 'ya': 3467, 'dian': 3468, 'cope': 3469, 'strain': 3470, 'poke': 3471, 'bowl': 3472, 'rick': 3473, 'wive': 3474, '3rd': 3475, 'dutch': 3476, 'descend': 3477, 'gender': 3478, 'godzilla': 3479, 'outer': 3480, 'sale': 3481, 'illog': 3482, 'smaller': 3483, 'seduct': 3484, 'disabl': 3485, 'lol': 3486, 'predecessor': 3487, 'glamor': 3488, 'devoid': 3489, 'dud': 3490, 'scope': 3491, 'vast': 3492, 'yard': 3493, 'inferior': 3494, 'hal': 3495, 'gundam': 3496, 'primarili': 3497, 'secondli': 3498, 'gloriou': 3499, 'beneath': 3500, 'dive': 3501, 'mixtur': 3502, 'cue': 3503, 'rabbit': 3504, 'bubbl': 3505, 'blatant': 3506, 'talki': 3507, 'disjoint': 3508, 'arab': 3509, 'museum': 3510, 'myer': 3511, 'simplist': 3512, 'pearl': 3513, 'alert': 3514, 'invas': 3515, 'casual': 3516, 'domino': 3517, 'trademark': 3518, 'hideou': 3519, 'shelf': 3520, 'countrysid': 3521, 'z': 3522, 'april': 3523, 'et': 3524, 'alfr': 3525, 'aggress': 3526, 'breed': 3527, 'streep': 3528, 'senseless': 3529, 'shirley': 3530, 'grinch': 3531, 'garbo': 3532, 'applaud': 3533, 'experiment': 3534, 'mail': 3535, 'acid': 3536, 'unhappi': 3537, 'sh': 3538, 'mayor': 3539, 'boom': 3540, 'disgrac': 3541, 'stack': 3542, 'obtain': 3543, 'oz': 3544, 'defens': 3545, 'robberi': 3546, 'stir': 3547, 'rendit': 3548, 'loyal': 3549, 'robinson': 3550, 'maci': 3551, 'hopeless': 3552, 'khan': 3553, 'vanish': 3554, 'stellar': 3555, 'hardcor': 3556, 'illeg': 3557, 'uwe': 3558, 'slide': 3559, 'incomprehens': 3560, 'counter': 3561, 'diana': 3562, 'span': 3563, 'blew': 3564, 'recruit': 3565, 'berlin': 3566, 'wont': 3567, 'amanda': 3568, 'fri': 3569, 'emphasi': 3570, 'scroog': 3571, 'topless': 3572, 'hartley': 3573, 'psychic': 3574, 'grandfath': 3575, 'spider': 3576, 'tempt': 3577, 'declin': 3578, 'soccer': 3579, 'dismiss': 3580, 'rifl': 3581, 'craze': 3582, 'dicken': 3583, 'tenant': 3584, 'revolt': 3585, 'intim': 3586, 'faster': 3587, 'ration': 3588, 'goer': 3589, 'woo': 3590, 'sympath': 3591, 'riot': 3592, 'wet': 3593, 'shaw': 3594, 'sibl': 3595, 'parad': 3596, 'lumet': 3597, 'shed': 3598, 'trashi': 3599, 'bitch': 3600, 'ethnic': 3601, 'porno': 3602, 'resurrect': 3603, 'justin': 3604, 'niro': 3605, '00': 3606, 'wheel': 3607, 'immort': 3608, 'patriot': 3609, 'nephew': 3610, 'eager': 3611, 'ensur': 3612, 'wendi': 3613, 'feminist': 3614, 'enlighten': 3615, 'steam': 3616, 'honesti': 3617, 'rider': 3618, 'hopper': 3619, 'unreal': 3620, 'region': 3621, 'commend': 3622, 'slick': 3623, 'hesit': 3624, 'worm': 3625, 'ballet': 3626, 'mario': 3627, 'andr': 3628, 'farmer': 3629, 'weakest': 3630, 'choru': 3631, 'lena': 3632, 'biographi': 3633, 'partial': 3634, 'jonathan': 3635, 'gap': 3636, 'dealer': 3637, 'util': 3638, 'skull': 3639, 'vice': 3640, 'blunt': 3641, 'confin': 3642, 'composit': 3643, 'mutant': 3644, 'snap': 3645, 'sappi': 3646, 'charlott': 3647, 'leo': 3648, 'properti': 3649, 'prequel': 3650, 'victori': 3651, 'nostalg': 3652, 'repress': 3653, 'morri': 3654, 'similarli': 3655, 'owen': 3656, 'kingdom': 3657, 'wore': 3658, 'safeti': 3659, 'franco': 3660, 'hung': 3661, 'sandra': 3662, 'psychopath': 3663, 'macarthur': 3664, 'miseri': 3665, 'farrel': 3666, 'dust': 3667, 'del': 3668, 'drain': 3669, 'nervou': 3670, 'valuabl': 3671, 'thru': 3672, 'latin': 3673, 'rambl': 3674, 'rope': 3675, 'kyle': 3676, 'snl': 3677, 'heartbreak': 3678, 'dalton': 3679, 'repli': 3680, 'montana': 3681, 'bumbl': 3682, 'tad': 3683, 'tail': 3684, 'recycl': 3685, 'drum': 3686, 'cg': 3687, 'campbel': 3688, 'compass': 3689, 'bow': 3690, 'bergman': 3691, 'speci': 3692, 'acquir': 3693, '1972': 3694, 'despair': 3695, 'exit': 3696, 'pattern': 3697, 'compens': 3698, 'whoopi': 3699, 'emperor': 3700, 'strand': 3701, 'hyde': 3702, 'deed': 3703, 'rocki': 3704, 'bonu': 3705, 'contempl': 3706, 'oppress': 3707, 'percept': 3708, 'orson': 3709, 'pour': 3710, 'gal': 3711, 'wacki': 3712, 'radic': 3713, 'airport': 3714, 'slug': 3715, 'rotten': 3716, 'romp': 3717, 'da': 3718, 'gimmick': 3719, 'chess': 3720, 'roth': 3721, 'rapist': 3722, 'mistress': 3723, '35': 3724, 'bleed': 3725, 'martian': 3726, 'tonight': 3727, 'downhil': 3728, 'olli': 3729, 'carradin': 3730, 'attorney': 3731, 'heal': 3732, 'pursuit': 3733, 'taught': 3734, '1983': 3735, 'shelley': 3736, 'melodi': 3737, 'paltrow': 3738, 'arguabl': 3739, 'dazzl': 3740, 'pervert': 3741, 'tooth': 3742, 'mislead': 3743, 'unpredict': 3744, 'slash': 3745, 'banal': 3746, 'pervers': 3747, 'edgar': 3748, 'belt': 3749, 'stilt': 3750, 'preach': 3751, 'programm': 3752, 'tackl': 3753, 'champion': 3754, 'arc': 3755, 'poem': 3756, 'duval': 3757, 'sensat': 3758, 'virginia': 3759, 'cleverli': 3760, 'vengeanc': 3761, 'vocal': 3762, 'orang': 3763, 'plight': 3764, 'bela': 3765, 'closest': 3766, 'mesmer': 3767, 'franki': 3768, 'employe': 3769, 'raymond': 3770, 'graham': 3771, 'uplift': 3772, 'gambl': 3773, 'conneri': 3774, 'tiresom': 3775, 'maid': 3776, 'passeng': 3777, 'chicken': 3778, 'rubi': 3779, 'dixon': 3780, 'marti': 3781, 'gerard': 3782, '1968': 3783, 'monologu': 3784, 'secretli': 3785, 'engross': 3786, 'inject': 3787, 'clone': 3788, 'quarter': 3789, 'climact': 3790, 'habit': 3791, 'amitabh': 3792, 'profan': 3793, 'tube': 3794, 'paranoia': 3795, 'calm': 3796, 'mute': 3797, 'convincingli': 3798, 'whine': 3799, 'extens': 3800, 'yawn': 3801, 'abraham': 3802, 'bay': 3803, 'volum': 3804, 'giggl': 3805, 'numb': 3806, 'suffic': 3807, 'scottish': 3808, 'sirk': 3809, 'crystal': 3810, 'lundgren': 3811, 'outing': 3812, 'swallow': 3813, 'iran': 3814, 'pokemon': 3815, 'franci': 3816, 'backward': 3817, 'trend': 3818, 'profess': 3819, 'poetri': 3820, 'spock': 3821, 'chicago': 3822, 'im': 3823, 'richardson': 3824, 'dispos': 3825, 'plod': 3826, 'grotesqu': 3827, 'expand': 3828, 'abort': 3829, 'frankenstein': 3830, 'septemb': 3831, 'lowest': 3832, 'ethan': 3833, 'underst': 3834, 'surpass': 3835, 'bend': 3836, 'junior': 3837, 'linger': 3838, 'austen': 3839, 'fed': 3840, 'taxi': 3841, 'meander': 3842, 'nichola': 3843, 'earl': 3844, 'der': 3845, 'compliment': 3846, 'muddl': 3847, 'catchi': 3848, 'literatur': 3849, 'eugen': 3850, 'waitress': 3851, 'econom': 3852, 'household': 3853, 'spoke': 3854, 'nostalgia': 3855, 'dysfunct': 3856, 'instrument': 3857, 'myth': 3858, 'stallon': 3859, 'lure': 3860, 'mundan': 3861, 'rubber': 3862, 'hum': 3863, 'rant': 3864, 'descent': 3865, 'sue': 3866, 'tourist': 3867, 'greedi': 3868, 'simplic': 3869, 'cannon': 3870, 'furi': 3871, 'recognit': 3872, 'louis': 3873, 'randi': 3874, 'dement': 3875, 'damon': 3876, 'crucial': 3877, 'cent': 3878, 'bacal': 3879, 'stale': 3880, 'firstli': 3881, 'phoni': 3882, 'mortal': 3883, 'omen': 3884, 'equival': 3885, 'deaf': 3886, 'recognis': 3887, 'eaten': 3888, 'phantom': 3889, 'mankind': 3890, 'irrelev': 3891, 'alongsid': 3892, 'hello': 3893, 'lang': 3894, 'map': 3895, 'occupi': 3896, 'molli': 3897, 'dictat': 3898, 'coast': 3899, 'carel': 3900, 'flee': 3901, 'june': 3902, 'sissi': 3903, 'insur': 3904, 'duck': 3905, 'dreari': 3906, 'grayson': 3907, 'reign': 3908, 'damm': 3909, 'bump': 3910, 'loyalti': 3911, 'likewis': 3912, 'bike': 3913, 'rooney': 3914, 'rude': 3915, 'onlin': 3916, 'daisi': 3917, 'freez': 3918, 'drake': 3919, 'blackmail': 3920, 'distinguish': 3921, 'lengthi': 3922, 'twilight': 3923, 'heel': 3924, 'biko': 3925, 'cyborg': 3926, 'buffalo': 3927, 'wisdom': 3928, 'labor': 3929, 'newli': 3930, '1973': 3931, 'ashley': 3932, 'antwon': 3933, 'interior': 3934, 'baddi': 3935, 'pink': 3936, 'incorpor': 3937, 'approv': 3938, 'startl': 3939, 'chronicl': 3940, 'basketbal': 3941, 'sailor': 3942, 'boxer': 3943, 'vein': 3944, 'emphas': 3945, 'barrymor': 3946, 'inher': 3947, 'worn': 3948, 'unorigin': 3949, 'provoc': 3950, 'proce': 3951, 'exposur': 3952, 'ridden': 3953, 'tunnel': 3954, 'butler': 3955, 'analysi': 3956, 'attribut': 3957, 'prey': 3958, 'nineti': 3959, 'keith': 3960, 'unrel': 3961, 'undeni': 3962, 'julian': 3963, 'mormon': 3964, 'othello': 3965, 'predat': 3966, 'fleet': 3967, 'belushi': 3968, 'indiffer': 3969, 'stalker': 3970, 'bunni': 3971, 'millionair': 3972, 'er': 3973, 'barrel': 3974, 'mighti': 3975, 'degrad': 3976, 'meg': 3977, 'substitut': 3978, 'walsh': 3979, 'condemn': 3980, 'hypnot': 3981, 'underli': 3982, 'nicol': 3983, 'robbin': 3984, 'elm': 3985, 'improvis': 3986, 'meyer': 3987, 'carla': 3988, 'drift': 3989, 'simmon': 3990, 'roof': 3991, 'palac': 3992, 'firm': 3993, 'nyc': 3994, 'agenda': 3995, 'shove': 3996, 'vital': 3997, 'dolph': 3998, 'alison': 3999, 'hay': 4000, 'rukh': 4001, 'disord': 4002, 'alarm': 4003, 'enthusiasm': 4004, 'lampoon': 4005, 'edgi': 4006, 'marion': 4007, 'mtv': 4008, 'unawar': 4009, 'errol': 4010, 'exquisit': 4011, '3d': 4012, 'warmth': 4013, 'priceless': 4014, 'watson': 4015, 'greed': 4016, 'reid': 4017, 'novak': 4018, 'distort': 4019, 'iraq': 4020, 'simultan': 4021, 'ponder': 4022, '13th': 4023, 'angela': 4024, 'pamela': 4025, 'coup': 4026, 'testament': 4027, 'minimum': 4028, 'thompson': 4029, 'sergeant': 4030, 'randomli': 4031, 'beatl': 4032, 'campaign': 4033, 'cassidi': 4034, 'glanc': 4035, 'peck': 4036, '1933': 4037, 'petti': 4038, 'profit': 4039, 'drip': 4040, 'showdown': 4041, 'preserv': 4042, 'unleash': 4043, 'israel': 4044, 'crown': 4045, 'gestur': 4046, 'session': 4047, 'peril': 4048, 'eastern': 4049, 'orlean': 4050, 'nun': 4051, 'what': 4052, 'valentin': 4053, 'championship': 4054, 'spain': 4055, 'zizek': 4056, 'stake': 4057, 'realm': 4058, 'empathi': 4059, 'mon': 4060, 'climat': 4061, 'quinn': 4062, 'unimagin': 4063, 'contradict': 4064, 'valley': 4065, 'brenda': 4066, 'crawl': 4067, 'kurosawa': 4068, '1984': 4069, 'wig': 4070, 'gentleman': 4071, 'restrain': 4072, 'rout': 4073, 'miyazaki': 4074, 'shootout': 4075, 'jan': 4076, 'exposit': 4077, 'scotland': 4078, 'regist': 4079, 'represent': 4080, 'travesti': 4081, 'stroke': 4082, 'bro': 4083, 'perpetu': 4084, 'crow': 4085, 'cream': 4086, 'fido': 4087, 'reson': 4088, 'calib': 4089, 'buster': 4090, 'cooki': 4091, 'sabrina': 4092, 'han': 4093, 'din': 4094, '1987': 4095, 'demis': 4096, 'geek': 4097, 'absent': 4098, 'distress': 4099, 'dana': 4100, 'soderbergh': 4101, 'darren': 4102, 'painter': 4103, 'delic': 4104, 'warrant': 4105, 'unseen': 4106, 'derang': 4107, 'tacki': 4108, 'shoddi': 4109, 'traumat': 4110, 'pole': 4111, 'baldwin': 4112, '1997': 4113, 'businessman': 4114, 'censor': 4115, 'femm': 4116, 'monoton': 4117, 'pretens': 4118, 'wax': 4119, 'crawford': 4120, 'compromis': 4121, 'perceiv': 4122, 'shaki': 4123, 'stargat': 4124, 'spacey': 4125, 'meryl': 4126, 'josh': 4127, 'cloud': 4128, 'abomin': 4129, 'passabl': 4130, 'unsatisfi': 4131, 'sucker': 4132, 'ustinov': 4133, 'ross': 4134, 'fuller': 4135, 'sammi': 4136, 'mclaglen': 4137, 'greg': 4138, 'expedit': 4139, 'tarantino': 4140, 'wholli': 4141, 'judgment': 4142, 'deceas': 4143, 'accuraci': 4144, 'unravel': 4145, 'antonioni': 4146, 'click': 4147, 'valid': 4148, 'tech': 4149, 'fog': 4150, 'verbal': 4151, 'anchor': 4152, 'norm': 4153, 'seal': 4154, '1993': 4155, 'furiou': 4156, 'polici': 4157, 'uncov': 4158, 'reluct': 4159, 'primit': 4160, 'jewel': 4161, 'austin': 4162, 'clash': 4163, 'nathan': 4164, 'deniro': 4165, 'kumar': 4166, 'correctli': 4167, 'exclus': 4168, 'fenc': 4169, 'dee': 4170, 'sid': 4171, 'patienc': 4172, 'roller': 4173, 'wretch': 4174, 'dreck': 4175, 'shanghai': 4176, 'crippl': 4177, 'trait': 4178, 'alec': 4179, '2008': 4180, 'fought': 4181, 'sunni': 4182, 'conduct': 4183, 'enforc': 4184, 'debt': 4185, 'murray': 4186, 'mode': 4187, 'sustain': 4188, 'nicola': 4189, '1995': 4190, 'malon': 4191, 'ritual': 4192, 'fabric': 4193, '1971': 4194, 'sheet': 4195, 'clerk': 4196, 'unfair': 4197, 'behold': 4198, 'temper': 4199, 'logan': 4200, 'seldom': 4201, 'wang': 4202, '3000': 4203, 'vanc': 4204, 'tax': 4205, 'joel': 4206, 'pocket': 4207, 'darn': 4208, 'slam': 4209, 'bake': 4210, 'sand': 4211, 'fart': 4212, 'hallucin': 4213, 'isabel': 4214, 'grief': 4215, 'rita': 4216, 'canyon': 4217, 'stuart': 4218, 'legaci': 4219, 'bias': 4220, 'outlin': 4221, 'runner': 4222, 'clau': 4223, 'squad': 4224, 'robber': 4225, 'critiqu': 4226, 'shell': 4227, 'scriptwrit': 4228, 'phil': 4229, 'tactic': 4230, 'fundament': 4231, 'despis': 4232, 'stark': 4233, 'schedul': 4234, 'divid': 4235, 'guitar': 4236, 'preposter': 4237, 'preston': 4238, 'soup': 4239, 'helpless': 4240, 'bridget': 4241, 'pete': 4242, 'conscious': 4243, 'exhaust': 4244, 'technicolor': 4245, 'sweep': 4246, 'penni': 4247, 'marc': 4248, 'agenc': 4249, 'newman': 4250, 'bloom': 4251, 'rear': 4252, 'alicia': 4253, 'implic': 4254, 'drove': 4255, 'downey': 4256, 'gregori': 4257, 'propos': 4258, 'russia': 4259, 'restrict': 4260, 'lacklust': 4261, 'jacket': 4262, 'cigarett': 4263, 'boyl': 4264, 'passag': 4265, 'inabl': 4266, 'rehash': 4267, 'invad': 4268, 'unexpectedli': 4269, 'delv': 4270, 'jodi': 4271, 'kansa': 4272, 'sniper': 4273, 'connor': 4274, 'alley': 4275, 'liberti': 4276, 'vomit': 4277, 'palanc': 4278, 'flair': 4279, 'sentinel': 4280, 'culmin': 4281, 'consciou': 4282, 'sugar': 4283, '1936': 4284, 'sharon': 4285, 'rampag': 4286, 'karl': 4287, 'kolchak': 4288, 'mccoy': 4289, 'wrench': 4290, 'aesthet': 4291, 'vet': 4292, 'pale': 4293, 'foxx': 4294, 'horn': 4295, 'tripe': 4296, 'yeti': 4297, 'chainsaw': 4298, 'arrow': 4299, 'feat': 4300, 'rehears': 4301, 'awhil': 4302, 'improb': 4303, 'rod': 4304, 'tendenc': 4305, 'asylum': 4306, 'lush': 4307, '22': 4308, 'bacon': 4309, 'cap': 4310, 'behaviour': 4311, 'delet': 4312, 'ladder': 4313, 'loneli': 4314, 'elit': 4315, 'conscienc': 4316, 'suspicion': 4317, 'filler': 4318, '1988': 4319, 'sung': 4320, 'newcom': 4321, 'fright': 4322, 'lurk': 4323, 'spice': 4324, '19th': 4325, 'amazon': 4326, 'weav': 4327, '1920': 4328, 'thunderbird': 4329, 'globe': 4330, '1978': 4331, 'el': 4332, 'rhythm': 4333, 'hackney': 4334, 'wildli': 4335, 'scoop': 4336, 'aristocrat': 4337, 'minu': 4338, 'financ': 4339, 'stream': 4340, 'coaster': 4341, 'tasteless': 4342, 'visitor': 4343, 'paradis': 4344, 'underneath': 4345, 'shortcom': 4346, 'hulk': 4347, 'hungri': 4348, 'wagner': 4349, 'suffici': 4350, 'rumor': 4351, 'tomorrow': 4352, 'basing': 4353, 'prank': 4354, 'paramount': 4355, 'dirt': 4356, 'bread': 4357, 'tierney': 4358, 'rub': 4359, 'minist': 4360, 'immers': 4361, 'leigh': 4362, 'literari': 4363, 'secondari': 4364, 'en': 4365, 'beverli': 4366, 'smell': 4367, 'recogniz': 4368, 'curli': 4369, 'standout': 4370, 'heist': 4371, '1939': 4372, 'ram': 4373, '1989': 4374, 'quietli': 4375, 'penn': 4376, 'abrupt': 4377, 'cancer': 4378, 'paxton': 4379, 'ingeni': 4380, 'springer': 4381, 'lectur': 4382, 'impos': 4383, 'atroc': 4384, 'posey': 4385, 'hopkin': 4386, 'iv': 4387, '75': 4388, 'entranc': 4389, 'brit': 4390, 'choppi': 4391, 'straightforward': 4392, 'worship': 4393, 'counterpart': 4394, 'couch': 4395, 'wwe': 4396, 'chamberlain': 4397, 'teas': 4398, 'inmat': 4399, 'naughti': 4400, 'grudg': 4401, 'chavez': 4402, 'sublim': 4403, 'policeman': 4404, 'variat': 4405, 'nemesi': 4406, 'geni': 4407, 'enthral': 4408, 'duel': 4409, 'missil': 4410, 'moreov': 4411, 'morbid': 4412, 'quaid': 4413, 'bernard': 4414, 'injuri': 4415, 'laurenc': 4416, 'net': 4417, 'attenborough': 4418, 'skeptic': 4419, 'watcher': 4420, 'heartfelt': 4421, 'entitl': 4422, 'misguid': 4423, 'transcend': 4424, 'convert': 4425, 'cattl': 4426, 'nolan': 4427, 'lindsay': 4428, 'yearn': 4429, '1986': 4430, 'clan': 4431, 'esther': 4432, 'ratso': 4433, 'sassi': 4434, 'ace': 4435, 'unexplain': 4436, 'setup': 4437, 'grin': 4438, 'enabl': 4439, 'youngest': 4440, 'spiral': 4441, 'tyler': 4442, 'uncut': 4443, 'graini': 4444, 'buzz': 4445, 'kitti': 4446, 'artsi': 4447, 'hopelessli': 4448, 'rosemari': 4449, 'characteris': 4450, 'egg': 4451, 'mytholog': 4452, 'diari': 4453, 'steadi': 4454, 'obstacl': 4455, 'hk': 4456, 'cruelti': 4457, 'out': 4458, 'brood': 4459, 'bye': 4460, 'moder': 4461, 'facil': 4462, 'reliabl': 4463, 'bean': 4464, 'puppi': 4465, 'poe': 4466, 'kidman': 4467, 'vader': 4468, 'carlito': 4469, '1979': 4470, 'dont': 4471, 'underworld': 4472, 'preming': 4473, 'christin': 4474, 'oblig': 4475, 'heap': 4476, 'baffl': 4477, 'clueless': 4478, 'gina': 4479, 'sweat': 4480, 'decept': 4481, 'bounc': 4482, 'effici': 4483, 'martha': 4484, 'disastr': 4485, 'spontan': 4486, 'acquaint': 4487, 'despic': 4488, 'weather': 4489, 'narrow': 4490, 'hammi': 4491, 'exterior': 4492, 'patricia': 4493, 'bronson': 4494, 'kline': 4495, 'athlet': 4496, 'bewar': 4497, 'fuel': 4498, 'hain': 4499, '1969': 4500, 'gillian': 4501, 'niec': 4502, 'brendan': 4503, 'viewpoint': 4504, 'housewif': 4505, 'scar': 4506, 'dandi': 4507, 'angst': 4508, 'rome': 4509, 'suprem': 4510, 'renaiss': 4511, '19': 4512, 'insipid': 4513, 'loi': 4514, 'uh': 4515, 'mayhem': 4516, 'mermaid': 4517, 'enlist': 4518, 'dilemma': 4519, 'fontain': 4520, 'tick': 4521, 'analyz': 4522, 'outlaw': 4523, '73': 4524, 'injur': 4525, 'preachi': 4526, 'shatter': 4527, 'biker': 4528, 'circu': 4529, 'sooner': 4530, 'sleepwalk': 4531, 'astound': 4532, 'loath': 4533, 'headach': 4534, 'trigger': 4535, 'harmless': 4536, 'candl': 4537, 'lester': 4538, 'taboo': 4539, 'goof': 4540, 'hepburn': 4541, 'virtu': 4542, 'slimi': 4543, 'guin': 4544, 'oldest': 4545, 'dismal': 4546, 'contempt': 4547, 'hostag': 4548, 'gere': 4549, 'hokey': 4550, 'hooker': 4551, 'ebert': 4552, 'whore': 4553, 'amor': 4554, 'foolish': 4555, 'idol': 4556, 'overlong': 4557, 'salt': 4558, 'stimul': 4559, 'steer': 4560, 'phenomenon': 4561, 'macho': 4562, 'camcord': 4563, 'dish': 4564, 'tripl': 4565, 'intric': 4566, 'redund': 4567, 'ariel': 4568, 'claustrophob': 4569, 'boston': 4570, 'filth': 4571, 'fluff': 4572, 'cassavet': 4573, 'bent': 4574, 'corbett': 4575, 'stair': 4576, 'surgeri': 4577, 'glorifi': 4578, 'sox': 4579, 'immatur': 4580, 'zoom': 4581, 'scorses': 4582, 'spade': 4583, 'perman': 4584, 'assert': 4585, 'beard': 4586, 'gasp': 4587, 'mutual': 4588, 'schlock': 4589, 'keen': 4590, 'fascist': 4591, 'harold': 4592, 'naschi': 4593, '1981': 4594, 'joker': 4595, 'antagonist': 4596, 'shield': 4597, 'obligatori': 4598, 'astronaut': 4599, 'transplant': 4600, 'dwarf': 4601, 'rhyme': 4602, 'cow': 4603, 'alvin': 4604, 'flirt': 4605, 'proport': 4606, 'zane': 4607, 'flag': 4608, 'corman': 4609, 'gabl': 4610, 'mount': 4611, 'shred': 4612, 'muscl': 4613, 'flashi': 4614, 'widescreen': 4615, 'messi': 4616, 'strongest': 4617, 'preced': 4618, 'spinal': 4619, 'conquer': 4620, 'cohen': 4621, 'spree': 4622, 'remad': 4623, 'radiat': 4624, 'nolt': 4625, '1976': 4626, 'margin': 4627, 'faint': 4628, 'frantic': 4629, 'trivia': 4630, 'cush': 4631, 'down': 4632, '28': 4633, 'ritchi': 4634, 'departur': 4635, 'repris': 4636, 'hara': 4637, 'claud': 4638, 'someday': 4639, 'discern': 4640, 'scandal': 4641, 'instruct': 4642, 'mol': 4643, 'inflict': 4644, 'www': 4645, 'neurot': 4646, 'boob': 4647, 'off': 4648, 'info': 4649, 'sensual': 4650, 'archiv': 4651, '95': 4652, 'bachelor': 4653, '1945': 4654, 'carey': 4655, 'raj': 4656, 'persuad': 4657, 'fishburn': 4658, 'flock': 4659, 'strive': 4660, 'vaniti': 4661, 'barn': 4662, 'mobil': 4663, 'aborigin': 4664, 'deer': 4665, 'triangl': 4666, 'danish': 4667, 'brush': 4668, 'interestingli': 4669, 'wield': 4670, 'divin': 4671, 'resum': 4672, 'bitten': 4673, 'rot': 4674, 'vibrant': 4675, 'ish': 4676, 'colin': 4677, 'jade': 4678, 'undermin': 4679, 'axe': 4680, 'dame': 4681, 'cycl': 4682, 'proclaim': 4683, 'pacif': 4684, 'kathryn': 4685, 'artwork': 4686, 'dylan': 4687, 'fragil': 4688, 'biblic': 4689, 'harrison': 4690, 'cb': 4691, 'banter': 4692, 'hug': 4693, 'helm': 4694, 'senior': 4695, 'hapless': 4696, 'clad': 4697, 'hilar': 4698, 'pickford': 4699, 'dim': 4700, 'heartwarm': 4701, 'submit': 4702, 'mobster': 4703, 'casino': 4704, 'cliffhang': 4705, 'recit': 4706, 'pixar': 4707, 'luka': 4708, 'frontier': 4709, 'melissa': 4710, 'prophet': 4711, 'miracul': 4712, 'carlo': 4713, 'neill': 4714, 'traffic': 4715, 'cher': 4716, 'loretta': 4717, 'earnest': 4718, 'parson': 4719, 'europa': 4720, 'bate': 4721, 'anton': 4722, 'timberlak': 4723, 'wendigo': 4724, 'breakfast': 4725, 'feast': 4726, 'estrang': 4727, 'flavor': 4728, 'legitim': 4729, 'northern': 4730, 'bondag': 4731, 'mason': 4732, 'lucil': 4733, 'foil': 4734, 'jo': 4735, 'razor': 4736, 'akin': 4737, 'lui': 4738, 'uma': 4739, 'choke': 4740, 'blatantli': 4741, 'holocaust': 4742, 'aris': 4743, 'bikini': 4744, 'vile': 4745, 'seedi': 4746, 'cerebr': 4747, 'static': 4748, 'venom': 4749, 'wardrob': 4750, 'marlon': 4751, 'milo': 4752, 'isra': 4753, 'illus': 4754, 'http': 4755, 'toronto': 4756, 'pc': 4757, 'electron': 4758, 'orphan': 4759, 'vanessa': 4760, 'token': 4761, 'sicken': 4762, 'redneck': 4763, 'jordan': 4764, 'nope': 4765, 'articl': 4766, 'eli': 4767, 'winchest': 4768, 'rooki': 4769, 'trier': 4770, 'alexandr': 4771, 'shepherd': 4772, 'antholog': 4773, 'misfortun': 4774, 'mathieu': 4775, 'swept': 4776, 'huston': 4777, 'frog': 4778, 'knightley': 4779, 'disregard': 4780, 'smack': 4781, 'ideolog': 4782, 'nightclub': 4783, 'outdat': 4784, 'wrestler': 4785, 'affleck': 4786, 'psych': 4787, 'boyer': 4788, 'glare': 4789, 'clinic': 4790, 'highway': 4791, 'shorter': 4792, 'feminin': 4793, 'oppon': 4794, 'cartoonish': 4795, 'fifth': 4796, 'tack': 4797, 'comprehend': 4798, 'turd': 4799, 'charlton': 4800, 'magician': 4801, 'linear': 4802, 'howl': 4803, 'gilbert': 4804, 'dudley': 4805, 'peer': 4806, 'retriev': 4807, 'ceremoni': 4808, 'leather': 4809, 'abund': 4810, 'audrey': 4811, 'deem': 4812, 'styliz': 4813, 'gunga': 4814, 'monument': 4815, 'uniformli': 4816, 'toe': 4817, 'lighter': 4818, 'phenomen': 4819, 'snatch': 4820, 'senat': 4821, 'potter': 4822, 'corn': 4823, 'evolut': 4824, 'tara': 4825, 'bogu': 4826, '1991': 4827, 'client': 4828, 'energet': 4829, '4th': 4830, 'cemeteri': 4831, 'braveheart': 4832, 'spine': 4833, 'chip': 4834, 'summar': 4835, 'spawn': 4836, 'lifeless': 4837, 'compris': 4838, 'boo': 4839, 'cuban': 4840, 'collector': 4841, 'breakdown': 4842, 'mitch': 4843, 'greet': 4844, 'newer': 4845, 'whack': 4846, 'bastard': 4847, 'durat': 4848, 'salman': 4849, 'sleaz': 4850, 'plate': 4851, '1994': 4852, 'einstein': 4853, 'conrad': 4854, 'moe': 4855, 'btw': 4856, 'goldsworthi': 4857, 'deliver': 4858, 'lavish': 4859, 'occup': 4860, 'undead': 4861, 'kent': 4862, 'bulk': 4863, 'spectacl': 4864, 'jare': 4865, 'constitut': 4866, 'neatli': 4867, 'mcqueen': 4868, 'ol': 4869, 'randolph': 4870, 'pronounc': 4871, 'ie': 4872, '1977': 4873, 'cecil': 4874, 'firmli': 4875, 'bori': 4876, 'inaccuraci': 4877, 'jule': 4878, 'embark': 4879, 'eleven': 4880, 'outright': 4881, '1974': 4882, 'signal': 4883, 'evelyn': 4884, 'creek': 4885, 'fluid': 4886, 'luxuri': 4887, 'historian': 4888, 'nina': 4889, 'lex': 4890, 'judd': 4891, 'sorrow': 4892, 'appl': 4893, 'undertak': 4894, 'wtf': 4895, 'belli': 4896, 'replay': 4897, 'kazan': 4898, 'trauma': 4899, 'clara': 4900, 'jam': 4901, 'healthi': 4902, 'jedi': 4903, 'alleg': 4904, 'liu': 4905, 'capot': 4906, 'armstrong': 4907, 'gilliam': 4908, 'id': 4909, 'subtli': 4910, 'paula': 4911, 'pepper': 4912, 'walt': 4913, 'vain': 4914, 'forgiven': 4915, '1985': 4916, 'lanc': 4917, 'palm': 4918, 'miniseri': 4919, 'miami': 4920, 'meal': 4921, 'comprehens': 4922, 'inclus': 4923, 'pioneer': 4924, 'goldblum': 4925, 'fruit': 4926, 'unsuspect': 4927, 'blur': 4928, 'tokyo': 4929, 'galaxi': 4930, 'propheci': 4931, 'decapit': 4932, 'curtain': 4933, 'sacrif': 4934, 'basket': 4935, 'groan': 4936, 'rosario': 4937, 'lauren': 4938, 'aussi': 4939, 'vignett': 4940, 'porter': 4941, 'roar': 4942, 'knee': 4943, 'kiddi': 4944, 'mum': 4945, 'relentless': 4946, 'conan': 4947, 'congratul': 4948, 'genet': 4949, 'antonio': 4950, 'sidewalk': 4951, 'truman': 4952, 'comb': 4953, 'bait': 4954, 'unattract': 4955, 'inaccur': 4956, 'abound': 4957, 'poker': 4958, 'ash': 4959, 'carmen': 4960, 'bsg': 4961, 'spray': 4962, 'cape': 4963, 'reincarn': 4964, 'profil': 4965, 'verg': 4966, 'weari': 4967, 'modest': 4968, 'victorian': 4969, 'hostil': 4970, 'bach': 4971, 'incorrect': 4972, 'evan': 4973, 'motorcycl': 4974, 'turtl': 4975, 'optimist': 4976, 'masterson': 4977, 'drone': 4978, 'bravo': 4979, 'mice': 4980, 'epitom': 4981, '21st': 4982, 'ghetto': 4983, 'sophi': 4984, 'handicap': 4985, 'dubiou': 4986, 'omin': 4987, 'casper': 4988, 'rapidli': 4989, 'playboy': 4990, 'assort': 4991, 'detach': 4992, 'monti': 4993, 'sparkl': 4994, 'scarfac': 4995, 'vastli': 4996, 'weaker': 4997, 'orchestr': 4998, 'cypher': 4999}\n"
     ]
    }
   ],
   "source": [
    "word_dict = build_dict(train_X)\n",
    "print(word_dict)"
   ]
  },
  {
   "cell_type": "markdown",
   "metadata": {},
   "source": [
    "**Question:** What are the five most frequently appearing (tokenized) words in the training set? Does it makes sense that these words appear frequently in the training set?"
   ]
  },
  {
   "cell_type": "markdown",
   "metadata": {},
   "source": [
    "**Answer:** The 5 most frequent words are: \"movi\", \"film\", \"one\", \"like\" and \"time\". And I think it makes sense because they can be used both for positive and negative reviews."
   ]
  },
  {
   "cell_type": "code",
   "execution_count": 14,
   "metadata": {},
   "outputs": [
    {
     "name": "stdout",
     "output_type": "stream",
     "text": [
      "movi\n",
      "film\n",
      "one\n",
      "like\n",
      "time\n"
     ]
    }
   ],
   "source": [
    "# TODO: Use this space to determine the five most frequently appearing words in the training set.\n",
    "for i in range(2, 7):\n",
    "    print(list(word_dict.keys())[list(word_dict.values()).index(i)])"
   ]
  },
  {
   "cell_type": "markdown",
   "metadata": {},
   "source": [
    "### Save `word_dict`\n",
    "\n",
    "Later on when we construct an endpoint which processes a submitted review we will need to make use of the `word_dict` which we have created. As such, we will save it to a file now for future use."
   ]
  },
  {
   "cell_type": "code",
   "execution_count": 15,
   "metadata": {},
   "outputs": [],
   "source": [
    "data_dir = '../data/pytorch' # The folder we will use for storing data\n",
    "if not os.path.exists(data_dir): # Make sure that the folder exists\n",
    "    os.makedirs(data_dir)"
   ]
  },
  {
   "cell_type": "code",
   "execution_count": 16,
   "metadata": {},
   "outputs": [],
   "source": [
    "with open(os.path.join(data_dir, 'word_dict.pkl'), \"wb\") as f:\n",
    "    pickle.dump(word_dict, f)"
   ]
  },
  {
   "cell_type": "markdown",
   "metadata": {},
   "source": [
    "### Transform the reviews\n",
    "\n",
    "Now that we have our word dictionary which allows us to transform the words appearing in the reviews into integers, it is time to make use of it and convert our reviews to their integer sequence representation, making sure to pad or truncate to a fixed length, which in our case is `500`."
   ]
  },
  {
   "cell_type": "code",
   "execution_count": 17,
   "metadata": {},
   "outputs": [],
   "source": [
    "def convert_and_pad(word_dict, sentence, pad=500):\n",
    "    NOWORD = 0 # We will use 0 to represent the 'no word' category\n",
    "    INFREQ = 1 # and we use 1 to represent the infrequent words, i.e., words not appearing in word_dict\n",
    "    \n",
    "    working_sentence = [NOWORD] * pad\n",
    "    \n",
    "    for word_index, word in enumerate(sentence[:pad]):\n",
    "        if word in word_dict:\n",
    "            working_sentence[word_index] = word_dict[word]\n",
    "        else:\n",
    "            working_sentence[word_index] = INFREQ\n",
    "            \n",
    "    return working_sentence, min(len(sentence), pad)\n",
    "\n",
    "def convert_and_pad_data(word_dict, data, pad=500):\n",
    "    result = []\n",
    "    lengths = []\n",
    "    \n",
    "    for sentence in data:\n",
    "        converted, leng = convert_and_pad(word_dict, sentence, pad)\n",
    "        result.append(converted)\n",
    "        lengths.append(leng)\n",
    "        \n",
    "    return np.array(result), np.array(lengths)"
   ]
  },
  {
   "cell_type": "code",
   "execution_count": 18,
   "metadata": {},
   "outputs": [],
   "source": [
    "train_X, train_X_len = convert_and_pad_data(word_dict, train_X)\n",
    "test_X, test_X_len = convert_and_pad_data(word_dict, test_X)"
   ]
  },
  {
   "cell_type": "markdown",
   "metadata": {},
   "source": [
    "As a quick check to make sure that things are working as intended, check to see what one of the reviews in the training set looks like after having been processeed. Does this look reasonable? What is the length of a review in the training set?"
   ]
  },
  {
   "cell_type": "code",
   "execution_count": 19,
   "metadata": {},
   "outputs": [
    {
     "name": "stdout",
     "output_type": "stream",
     "text": [
      "177\n",
      "[3845    1  561  399    3    8    1 1219    1    1  209 1062 4815 2720\n",
      "   68   70   58 2678    1  516 1402  260  182    4   91  841 1658 3961\n",
      "   23 1420  403  868  182    1 2981  317 2679  654  335    1  774 2196\n",
      "  182  866  271    1 3845    1 1747   96  238  705    6 1096  337  206\n",
      "    3  503  182    1  268   55  531  556 1477  274 1953 1086    4 2245\n",
      " 1079 1056   55    1  293  385  951 3439 1727  710  555    3    1    5\n",
      " 3049   14  142  657    1  399  579  979 2051  367 2644 2394 1963 2324\n",
      " 2863 1083 1420  590  666    1   23 1128   22   75  700  266  601  148\n",
      " 3845    1 1070 3401 1192 3237   68   51   36  189    1   15 1198   99\n",
      " 1109  286  768  220 3665    1  182  313  360    1   20  149 4504  725\n",
      "  897 2013  157  321 4860  127  828  185  166  216  555    1  288  445\n",
      "  347  306 1199   16 1051  399  361  595  406  494  370   97 3706  264\n",
      " 1927   27    1  660   49   26   65 1353   85    0    0    0    0    0\n",
      "    0    0    0    0    0    0    0    0    0    0    0    0    0    0\n",
      "    0    0    0    0    0    0    0    0    0    0    0    0    0    0\n",
      "    0    0    0    0    0    0    0    0    0    0    0    0    0    0\n",
      "    0    0    0    0    0    0    0    0    0    0    0    0    0    0\n",
      "    0    0    0    0    0    0    0    0    0    0    0    0    0    0\n",
      "    0    0    0    0    0    0    0    0    0    0    0    0    0    0\n",
      "    0    0    0    0    0    0    0    0    0    0    0    0    0    0\n",
      "    0    0    0    0    0    0    0    0    0    0    0    0    0    0\n",
      "    0    0    0    0    0    0    0    0    0    0    0    0    0    0\n",
      "    0    0    0    0    0    0    0    0    0    0    0    0    0    0\n",
      "    0    0    0    0    0    0    0    0    0    0    0    0    0    0\n",
      "    0    0    0    0    0    0    0    0    0    0    0    0    0    0\n",
      "    0    0    0    0    0    0    0    0    0    0    0    0    0    0\n",
      "    0    0    0    0    0    0    0    0    0    0    0    0    0    0\n",
      "    0    0    0    0    0    0    0    0    0    0    0    0    0    0\n",
      "    0    0    0    0    0    0    0    0    0    0    0    0    0    0\n",
      "    0    0    0    0    0    0    0    0    0    0    0    0    0    0\n",
      "    0    0    0    0    0    0    0    0    0    0    0    0    0    0\n",
      "    0    0    0    0    0    0    0    0    0    0    0    0    0    0\n",
      "    0    0    0    0    0    0    0    0    0    0    0    0    0    0\n",
      "    0    0    0    0    0    0    0    0    0    0    0    0    0    0\n",
      "    0    0    0    0    0    0    0    0    0    0    0    0    0    0\n",
      "    0    0    0    0    0    0    0    0    0    0]\n"
     ]
    }
   ],
   "source": [
    "# Use this cell to examine one of the processed reviews to make sure everything is working as intended.\n",
    "print(train_X_len[0])\n",
    "print(train_X[0])"
   ]
  },
  {
   "cell_type": "markdown",
   "metadata": {},
   "source": [
    "**Question:** In the cells above we use the `preprocess_data` and `convert_and_pad_data` methods to process both the training and testing set. Why or why not might this be a problem?"
   ]
  },
  {
   "cell_type": "markdown",
   "metadata": {},
   "source": [
    "**Answer:** The convert_and_pad_data method rely on the word_dict dictionary, which was created based on the training set. If somehow there was a bias in the division of the datasets, you may end up missing information."
   ]
  },
  {
   "cell_type": "markdown",
   "metadata": {},
   "source": [
    "## Step 3: Upload the data to S3\n",
    "\n",
    "As in the XGBoost notebook, we will need to upload the training dataset to S3 in order for our training code to access it. For now we will save it locally and we will upload to S3 later on.\n",
    "\n",
    "### Save the processed training dataset locally\n",
    "\n",
    "It is important to note the format of the data that we are saving as we will need to know it when we write the training code. In our case, each row of the dataset has the form `label`, `length`, `review[500]` where `review[500]` is a sequence of `500` integers representing the words in the review."
   ]
  },
  {
   "cell_type": "code",
   "execution_count": 20,
   "metadata": {},
   "outputs": [],
   "source": [
    "import pandas as pd\n",
    "    \n",
    "pd.concat([pd.DataFrame(train_y), pd.DataFrame(train_X_len), pd.DataFrame(train_X)], axis=1) \\\n",
    "        .to_csv(os.path.join(data_dir, 'train.csv'), header=False, index=False)"
   ]
  },
  {
   "cell_type": "markdown",
   "metadata": {},
   "source": [
    "### Uploading the training data\n",
    "\n",
    "\n",
    "Next, we need to upload the training data to the SageMaker default S3 bucket so that we can provide access to it while training our model."
   ]
  },
  {
   "cell_type": "code",
   "execution_count": 21,
   "metadata": {},
   "outputs": [],
   "source": [
    "import sagemaker\n",
    "\n",
    "sagemaker_session = sagemaker.Session()\n",
    "\n",
    "bucket = sagemaker_session.default_bucket()\n",
    "prefix = 'sagemaker/sentiment_rnn'\n",
    "\n",
    "role = sagemaker.get_execution_role()"
   ]
  },
  {
   "cell_type": "code",
   "execution_count": 22,
   "metadata": {},
   "outputs": [],
   "source": [
    "input_data = sagemaker_session.upload_data(path=data_dir, bucket=bucket, key_prefix=prefix)"
   ]
  },
  {
   "cell_type": "markdown",
   "metadata": {},
   "source": [
    "**NOTE:** The cell above uploads the entire contents of our data directory. This includes the `word_dict.pkl` file. This is fortunate as we will need this later on when we create an endpoint that accepts an arbitrary review. For now, we will just take note of the fact that it resides in the data directory (and so also in the S3 training bucket) and that we will need to make sure it gets saved in the model directory."
   ]
  },
  {
   "cell_type": "markdown",
   "metadata": {},
   "source": [
    "## Step 4: Build and Train the PyTorch Model\n",
    "\n",
    "In the XGBoost notebook we discussed what a model is in the SageMaker framework. In particular, a model comprises three objects\n",
    "\n",
    " - Model Artifacts,\n",
    " - Training Code, and\n",
    " - Inference Code,\n",
    " \n",
    "each of which interact with one another. In the XGBoost example we used training and inference code that was provided by Amazon. Here we will still be using containers provided by Amazon with the added benefit of being able to include our own custom code.\n",
    "\n",
    "We will start by implementing our own neural network in PyTorch along with a training script. For the purposes of this project we have provided the necessary model object in the `model.py` file, inside of the `train` folder. You can see the provided implementation by running the cell below."
   ]
  },
  {
   "cell_type": "code",
   "execution_count": 23,
   "metadata": {},
   "outputs": [
    {
     "name": "stdout",
     "output_type": "stream",
     "text": [
      "\u001b[34mimport\u001b[39;49;00m \u001b[04m\u001b[36mtorch.nn\u001b[39;49;00m \u001b[34mas\u001b[39;49;00m \u001b[04m\u001b[36mnn\u001b[39;49;00m\r\n",
      "\r\n",
      "\u001b[34mclass\u001b[39;49;00m \u001b[04m\u001b[32mLSTMClassifier\u001b[39;49;00m(nn.Module):\r\n",
      "    \u001b[33m\"\"\"\u001b[39;49;00m\r\n",
      "\u001b[33m    This is the simple RNN model we will be using to perform Sentiment Analysis.\u001b[39;49;00m\r\n",
      "\u001b[33m    \"\"\"\u001b[39;49;00m\r\n",
      "\r\n",
      "    \u001b[34mdef\u001b[39;49;00m \u001b[32m__init__\u001b[39;49;00m(\u001b[36mself\u001b[39;49;00m, embedding_dim, hidden_dim, vocab_size):\r\n",
      "        \u001b[33m\"\"\"\u001b[39;49;00m\r\n",
      "\u001b[33m        Initialize the model by settingg up the various layers.\u001b[39;49;00m\r\n",
      "\u001b[33m        \"\"\"\u001b[39;49;00m\r\n",
      "        \u001b[36msuper\u001b[39;49;00m(LSTMClassifier, \u001b[36mself\u001b[39;49;00m).\u001b[32m__init__\u001b[39;49;00m()\r\n",
      "\r\n",
      "        \u001b[36mself\u001b[39;49;00m.embedding = nn.Embedding(vocab_size, embedding_dim, padding_idx=\u001b[34m0\u001b[39;49;00m)\r\n",
      "        \u001b[36mself\u001b[39;49;00m.lstm = nn.LSTM(embedding_dim, hidden_dim)\r\n",
      "        \u001b[36mself\u001b[39;49;00m.dense = nn.Linear(in_features=hidden_dim, out_features=\u001b[34m1\u001b[39;49;00m)\r\n",
      "        \u001b[36mself\u001b[39;49;00m.sig = nn.Sigmoid()\r\n",
      "        \r\n",
      "        \u001b[36mself\u001b[39;49;00m.word_dict = \u001b[36mNone\u001b[39;49;00m\r\n",
      "\r\n",
      "    \u001b[34mdef\u001b[39;49;00m \u001b[32mforward\u001b[39;49;00m(\u001b[36mself\u001b[39;49;00m, x):\r\n",
      "        \u001b[33m\"\"\"\u001b[39;49;00m\r\n",
      "\u001b[33m        Perform a forward pass of our model on some input.\u001b[39;49;00m\r\n",
      "\u001b[33m        \"\"\"\u001b[39;49;00m\r\n",
      "        x = x.t()\r\n",
      "        lengths = x[\u001b[34m0\u001b[39;49;00m,:]\r\n",
      "        reviews = x[\u001b[34m1\u001b[39;49;00m:,:]\r\n",
      "        embeds = \u001b[36mself\u001b[39;49;00m.embedding(reviews)\r\n",
      "        lstm_out, _ = \u001b[36mself\u001b[39;49;00m.lstm(embeds)\r\n",
      "        out = \u001b[36mself\u001b[39;49;00m.dense(lstm_out)\r\n",
      "        out = out[lengths - \u001b[34m1\u001b[39;49;00m, \u001b[36mrange\u001b[39;49;00m(\u001b[36mlen\u001b[39;49;00m(lengths))]\r\n",
      "        \u001b[34mreturn\u001b[39;49;00m \u001b[36mself\u001b[39;49;00m.sig(out.squeeze())\r\n"
     ]
    }
   ],
   "source": [
    "!pygmentize train/model.py"
   ]
  },
  {
   "cell_type": "markdown",
   "metadata": {},
   "source": [
    "The important takeaway from the implementation provided is that there are three parameters that we may wish to tweak to improve the performance of our model. These are the embedding dimension, the hidden dimension and the size of the vocabulary. We will likely want to make these parameters configurable in the training script so that if we wish to modify them we do not need to modify the script itself. We will see how to do this later on. To start we will write some of the training code in the notebook so that we can more easily diagnose any issues that arise.\n",
    "\n",
    "First we will load a small portion of the training data set to use as a sample. It would be very time consuming to try and train the model completely in the notebook as we do not have access to a gpu and the compute instance that we are using is not particularly powerful. However, we can work on a small bit of the data to get a feel for how our training script is behaving."
   ]
  },
  {
   "cell_type": "code",
   "execution_count": 24,
   "metadata": {},
   "outputs": [],
   "source": [
    "import torch\n",
    "import torch.utils.data\n",
    "\n",
    "# Read in only the first 250 rows\n",
    "train_sample = pd.read_csv(os.path.join(data_dir, 'train.csv'), header=None, names=None, nrows=250)\n",
    "\n",
    "# Turn the input pandas dataframe into tensors\n",
    "train_sample_y = torch.from_numpy(train_sample[[0]].values).float().squeeze()\n",
    "train_sample_X = torch.from_numpy(train_sample.drop([0], axis=1).values).long()\n",
    "\n",
    "# Build the dataset\n",
    "train_sample_ds = torch.utils.data.TensorDataset(train_sample_X, train_sample_y)\n",
    "# Build the dataloader\n",
    "train_sample_dl = torch.utils.data.DataLoader(train_sample_ds, batch_size=50)"
   ]
  },
  {
   "cell_type": "markdown",
   "metadata": {},
   "source": [
    "### (TODO) Writing the training method\n",
    "\n",
    "Next we need to write the training code itself. This should be very similar to training methods that you have written before to train PyTorch models. We will leave any difficult aspects such as model saving / loading and parameter loading until a little later."
   ]
  },
  {
   "cell_type": "code",
   "execution_count": 25,
   "metadata": {},
   "outputs": [],
   "source": [
    "def train(model, train_loader, epochs, optimizer, loss_fn, device):\n",
    "    for epoch in range(1, epochs + 1):\n",
    "        model.train()\n",
    "        total_loss = 0\n",
    "        for batch in train_loader:         \n",
    "            batch_X, batch_y = batch\n",
    "            \n",
    "            batch_X = batch_X.to(device)\n",
    "            batch_y = batch_y.to(device)\n",
    "            \n",
    "            # TODO: Complete this train method to train the model provided.\n",
    "            model.zero_grad()\n",
    "\n",
    "            # obtain the model prediction and calculate the loss\n",
    "            output = model(batch_X)\n",
    "            loss = loss_fn(output, batch_y)\n",
    "            \n",
    "            # perform backpropagation and optimization\n",
    "            loss.backward()\n",
    "            optimizer.step()          \n",
    "            \n",
    "            total_loss += loss.data.item()\n",
    "        print(\"Epoch: {}, BCELoss: {}\".format(epoch, total_loss / len(train_loader)))"
   ]
  },
  {
   "cell_type": "markdown",
   "metadata": {},
   "source": [
    "Supposing we have the training method above, we will test that it is working by writing a bit of code in the notebook that executes our training method on the small sample training set that we loaded earlier. The reason for doing this in the notebook is so that we have an opportunity to fix any errors that arise early when they are easier to diagnose."
   ]
  },
  {
   "cell_type": "code",
   "execution_count": 26,
   "metadata": {},
   "outputs": [
    {
     "name": "stdout",
     "output_type": "stream",
     "text": [
      "Epoch: 1, BCELoss: 0.694876229763031\n",
      "Epoch: 2, BCELoss: 0.6837633609771728\n",
      "Epoch: 3, BCELoss: 0.6745776295661926\n",
      "Epoch: 4, BCELoss: 0.6647602796554566\n",
      "Epoch: 5, BCELoss: 0.6531980156898498\n"
     ]
    }
   ],
   "source": [
    "import torch.optim as optim\n",
    "from train.model import LSTMClassifier\n",
    "\n",
    "device = torch.device(\"cuda\" if torch.cuda.is_available() else \"cpu\")\n",
    "model = LSTMClassifier(32, 100, 5000).to(device)\n",
    "optimizer = optim.Adam(model.parameters())\n",
    "loss_fn = torch.nn.BCELoss()\n",
    "\n",
    "train(model, train_sample_dl, 5, optimizer, loss_fn, device)"
   ]
  },
  {
   "cell_type": "markdown",
   "metadata": {},
   "source": [
    "In order to construct a PyTorch model using SageMaker we must provide SageMaker with a training script. We may optionally include a directory which will be copied to the container and from which our training code will be run. When the training container is executed it will check the uploaded directory (if there is one) for a `requirements.txt` file and install any required Python libraries, after which the training script will be run."
   ]
  },
  {
   "cell_type": "markdown",
   "metadata": {},
   "source": [
    "### (TODO) Training the model\n",
    "\n",
    "When a PyTorch model is constructed in SageMaker, an entry point must be specified. This is the Python file which will be executed when the model is trained. Inside of the `train` directory is a file called `train.py` which has been provided and which contains most of the necessary code to train our model. The only thing that is missing is the implementation of the `train()` method which you wrote earlier in this notebook.\n",
    "\n",
    "**TODO**: Copy the `train()` method written above and paste it into the `train/train.py` file where required.\n",
    "\n",
    "The way that SageMaker passes hyperparameters to the training script is by way of arguments. These arguments can then be parsed and used in the training script. To see how this is done take a look at the provided `train/train.py` file."
   ]
  },
  {
   "cell_type": "code",
   "execution_count": 27,
   "metadata": {},
   "outputs": [],
   "source": [
    "from sagemaker.pytorch import PyTorch\n",
    "\n",
    "estimator = PyTorch(entry_point=\"train.py\",\n",
    "                    source_dir=\"train\",\n",
    "                    role=role,\n",
    "                    framework_version='0.4.0',\n",
    "                    train_instance_count=1,\n",
    "                    train_instance_type='ml.p2.xlarge',\n",
    "                    hyperparameters={\n",
    "                        'epochs': 10,\n",
    "                        'hidden_dim': 200,\n",
    "                    })"
   ]
  },
  {
   "cell_type": "code",
   "execution_count": 28,
   "metadata": {
    "scrolled": true
   },
   "outputs": [
    {
     "name": "stdout",
     "output_type": "stream",
     "text": [
      "2019-05-17 22:19:25 Starting - Starting the training job...\n",
      "2019-05-17 22:19:26 Starting - Launching requested ML instances......\n",
      "2019-05-17 22:20:32 Starting - Preparing the instances for training......\n",
      "2019-05-17 22:21:44 Downloading - Downloading input data\n",
      "2019-05-17 22:21:44 Training - Downloading the training image......\n",
      "2019-05-17 22:22:48 Training - Training image download completed. Training in progress.\n",
      "\u001b[31mbash: cannot set terminal process group (-1): Inappropriate ioctl for device\u001b[0m\n",
      "\u001b[31mbash: no job control in this shell\u001b[0m\n",
      "\u001b[31m2019-05-17 22:22:48,312 sagemaker-containers INFO     Imported framework sagemaker_pytorch_container.training\u001b[0m\n",
      "\u001b[31m2019-05-17 22:22:48,336 sagemaker_pytorch_container.training INFO     Block until all host DNS lookups succeed.\u001b[0m\n",
      "\u001b[31m2019-05-17 22:22:51,344 sagemaker_pytorch_container.training INFO     Invoking user training script.\u001b[0m\n",
      "\u001b[31m2019-05-17 22:22:51,629 sagemaker-containers INFO     Module train does not provide a setup.py. \u001b[0m\n",
      "\u001b[31mGenerating setup.py\u001b[0m\n",
      "\u001b[31m2019-05-17 22:22:51,630 sagemaker-containers INFO     Generating setup.cfg\u001b[0m\n",
      "\u001b[31m2019-05-17 22:22:51,630 sagemaker-containers INFO     Generating MANIFEST.in\u001b[0m\n",
      "\u001b[31m2019-05-17 22:22:51,630 sagemaker-containers INFO     Installing module with the following command:\u001b[0m\n",
      "\u001b[31m/usr/bin/python -m pip install -U . -r requirements.txt\u001b[0m\n",
      "\u001b[31mProcessing /opt/ml/code\u001b[0m\n",
      "\u001b[31mCollecting pandas (from -r requirements.txt (line 1))\u001b[0m\n",
      "\u001b[31m  Downloading https://files.pythonhosted.org/packages/74/24/0cdbf8907e1e3bc5a8da03345c23cbed7044330bb8f73bb12e711a640a00/pandas-0.24.2-cp35-cp35m-manylinux1_x86_64.whl (10.0MB)\u001b[0m\n",
      "\u001b[31mCollecting numpy (from -r requirements.txt (line 2))\n",
      "  Downloading https://files.pythonhosted.org/packages/f6/f3/cc6c6745347c1e997cc3e58390584a250b8e22b6dfc45414a7d69a3df016/numpy-1.16.3-cp35-cp35m-manylinux1_x86_64.whl (17.2MB)\u001b[0m\n",
      "\u001b[31mCollecting nltk (from -r requirements.txt (line 3))\n",
      "  Downloading https://files.pythonhosted.org/packages/73/56/90178929712ce427ebad179f8dc46c8deef4e89d4c853092bee1efd57d05/nltk-3.4.1.zip (3.1MB)\u001b[0m\n",
      "\u001b[31mCollecting beautifulsoup4 (from -r requirements.txt (line 4))\n",
      "  Downloading https://files.pythonhosted.org/packages/1d/5d/3260694a59df0ec52f8b4883f5d23b130bc237602a1411fa670eae12351e/beautifulsoup4-4.7.1-py3-none-any.whl (94kB)\u001b[0m\n",
      "\u001b[31mCollecting html5lib (from -r requirements.txt (line 5))\n",
      "  Downloading https://files.pythonhosted.org/packages/a5/62/bbd2be0e7943ec8504b517e62bab011b4946e1258842bc159e5dfde15b96/html5lib-1.0.1-py2.py3-none-any.whl (117kB)\u001b[0m\n",
      "\u001b[31mRequirement already satisfied, skipping upgrade: python-dateutil>=2.5.0 in /usr/local/lib/python3.5/dist-packages (from pandas->-r requirements.txt (line 1)) (2.7.5)\u001b[0m\n",
      "\u001b[31mCollecting pytz>=2011k (from pandas->-r requirements.txt (line 1))\n",
      "  Downloading https://files.pythonhosted.org/packages/3d/73/fe30c2daaaa0713420d0382b16fbb761409f532c56bdcc514bf7b6262bb6/pytz-2019.1-py2.py3-none-any.whl (510kB)\u001b[0m\n",
      "\u001b[31mRequirement already satisfied, skipping upgrade: six in /usr/local/lib/python3.5/dist-packages (from nltk->-r requirements.txt (line 3)) (1.11.0)\u001b[0m\n",
      "\u001b[31mCollecting soupsieve>=1.2 (from beautifulsoup4->-r requirements.txt (line 4))\n",
      "  Downloading https://files.pythonhosted.org/packages/b9/a5/7ea40d0f8676bde6e464a6435a48bc5db09b1a8f4f06d41dd997b8f3c616/soupsieve-1.9.1-py2.py3-none-any.whl\u001b[0m\n",
      "\u001b[31mCollecting webencodings (from html5lib->-r requirements.txt (line 5))\n",
      "  Downloading https://files.pythonhosted.org/packages/f4/24/2a3e3df732393fed8b3ebf2ec078f05546de641fe1b667ee316ec1dcf3b7/webencodings-0.5.1-py2.py3-none-any.whl\u001b[0m\n",
      "\u001b[31mBuilding wheels for collected packages: nltk, train\n",
      "  Running setup.py bdist_wheel for nltk: started\u001b[0m\n",
      "\u001b[31m  Running setup.py bdist_wheel for nltk: finished with status 'done'\n",
      "  Stored in directory: /root/.cache/pip/wheels/97/8a/10/d646015f33c525688e91986c4544c68019b19a473cb33d3b55\n",
      "  Running setup.py bdist_wheel for train: started\u001b[0m\n",
      "\u001b[31m  Running setup.py bdist_wheel for train: finished with status 'done'\n",
      "  Stored in directory: /tmp/pip-ephem-wheel-cache-v93fi8kq/wheels/35/24/16/37574d11bf9bde50616c67372a334f94fa8356bc7164af8ca3\u001b[0m\n",
      "\u001b[31mSuccessfully built nltk train\u001b[0m\n",
      "\u001b[31mInstalling collected packages: pytz, numpy, pandas, nltk, soupsieve, beautifulsoup4, webencodings, html5lib, train\n",
      "  Found existing installation: numpy 1.15.4\n",
      "    Uninstalling numpy-1.15.4:\u001b[0m\n",
      "\u001b[31m      Successfully uninstalled numpy-1.15.4\u001b[0m\n",
      "\u001b[31mSuccessfully installed beautifulsoup4-4.7.1 html5lib-1.0.1 nltk-3.4.1 numpy-1.16.3 pandas-0.24.2 pytz-2019.1 soupsieve-1.9.1 train-1.0.0 webencodings-0.5.1\u001b[0m\n",
      "\u001b[31mYou are using pip version 18.1, however version 19.1.1 is available.\u001b[0m\n",
      "\u001b[31mYou should consider upgrading via the 'pip install --upgrade pip' command.\u001b[0m\n",
      "\u001b[31m2019-05-17 22:23:04,074 sagemaker-containers INFO     Invoking user script\n",
      "\u001b[0m\n",
      "\u001b[31mTraining Env:\n",
      "\u001b[0m\n",
      "\u001b[31m{\n",
      "    \"input_dir\": \"/opt/ml/input\",\n",
      "    \"num_cpus\": 4,\n",
      "    \"resource_config\": {\n",
      "        \"hosts\": [\n",
      "            \"algo-1\"\n",
      "        ],\n",
      "        \"network_interface_name\": \"ethwe\",\n",
      "        \"current_host\": \"algo-1\"\n",
      "    },\n",
      "    \"module_name\": \"train\",\n",
      "    \"module_dir\": \"s3://sagemaker-us-west-2-015011184190/sagemaker-pytorch-2019-05-17-22-19-23-915/source/sourcedir.tar.gz\",\n",
      "    \"hosts\": [\n",
      "        \"algo-1\"\n",
      "    ],\n",
      "    \"input_data_config\": {\n",
      "        \"training\": {\n",
      "            \"S3DistributionType\": \"FullyReplicated\",\n",
      "            \"RecordWrapperType\": \"None\",\n",
      "            \"TrainingInputMode\": \"File\"\n",
      "        }\n",
      "    },\n",
      "    \"job_name\": \"sagemaker-pytorch-2019-05-17-22-19-23-915\",\n",
      "    \"framework_module\": \"sagemaker_pytorch_container.training:main\",\n",
      "    \"current_host\": \"algo-1\",\n",
      "    \"hyperparameters\": {\n",
      "        \"epochs\": 10,\n",
      "        \"hidden_dim\": 200\n",
      "    },\n",
      "    \"user_entry_point\": \"train.py\",\n",
      "    \"input_config_dir\": \"/opt/ml/input/config\",\n",
      "    \"log_level\": 20,\n",
      "    \"output_dir\": \"/opt/ml/output\",\n",
      "    \"output_data_dir\": \"/opt/ml/output/data\",\n",
      "    \"network_interface_name\": \"ethwe\",\n",
      "    \"model_dir\": \"/opt/ml/model\",\n",
      "    \"channel_input_dirs\": {\n",
      "        \"training\": \"/opt/ml/input/data/training\"\n",
      "    },\n",
      "    \"additional_framework_parameters\": {},\n",
      "    \"num_gpus\": 1,\n",
      "    \"output_intermediate_dir\": \"/opt/ml/output/intermediate\"\u001b[0m\n",
      "\u001b[31m}\n",
      "\u001b[0m\n",
      "\u001b[31mEnvironment variables:\n",
      "\u001b[0m\n",
      "\u001b[31mSM_RESOURCE_CONFIG={\"current_host\":\"algo-1\",\"hosts\":[\"algo-1\"],\"network_interface_name\":\"ethwe\"}\u001b[0m\n",
      "\u001b[31mSM_FRAMEWORK_MODULE=sagemaker_pytorch_container.training:main\u001b[0m\n",
      "\u001b[31mSM_FRAMEWORK_PARAMS={}\u001b[0m\n",
      "\u001b[31mSM_CHANNELS=[\"training\"]\u001b[0m\n",
      "\u001b[31mSM_OUTPUT_DIR=/opt/ml/output\u001b[0m\n",
      "\u001b[31mSM_OUTPUT_INTERMEDIATE_DIR=/opt/ml/output/intermediate\u001b[0m\n",
      "\u001b[31mSM_LOG_LEVEL=20\u001b[0m\n",
      "\u001b[31mSM_CHANNEL_TRAINING=/opt/ml/input/data/training\u001b[0m\n",
      "\u001b[31mSM_INPUT_DIR=/opt/ml/input\u001b[0m\n",
      "\u001b[31mSM_NETWORK_INTERFACE_NAME=ethwe\u001b[0m\n",
      "\u001b[31mSM_NUM_CPUS=4\u001b[0m\n",
      "\u001b[31mSM_NUM_GPUS=1\u001b[0m\n",
      "\u001b[31mSM_HPS={\"epochs\":10,\"hidden_dim\":200}\u001b[0m\n",
      "\u001b[31mSM_HOSTS=[\"algo-1\"]\u001b[0m\n",
      "\u001b[31mSM_MODEL_DIR=/opt/ml/model\u001b[0m\n",
      "\u001b[31mSM_HP_HIDDEN_DIM=200\u001b[0m\n",
      "\u001b[31mSM_CURRENT_HOST=algo-1\u001b[0m\n",
      "\u001b[31mSM_HP_EPOCHS=10\u001b[0m\n",
      "\u001b[31mSM_USER_ARGS=[\"--epochs\",\"10\",\"--hidden_dim\",\"200\"]\u001b[0m\n",
      "\u001b[31mSM_OUTPUT_DATA_DIR=/opt/ml/output/data\u001b[0m\n",
      "\u001b[31mSM_INPUT_DATA_CONFIG={\"training\":{\"RecordWrapperType\":\"None\",\"S3DistributionType\":\"FullyReplicated\",\"TrainingInputMode\":\"File\"}}\u001b[0m\n",
      "\u001b[31mSM_USER_ENTRY_POINT=train.py\u001b[0m\n",
      "\u001b[31mSM_INPUT_CONFIG_DIR=/opt/ml/input/config\u001b[0m\n",
      "\u001b[31mSM_MODULE_DIR=s3://sagemaker-us-west-2-015011184190/sagemaker-pytorch-2019-05-17-22-19-23-915/source/sourcedir.tar.gz\u001b[0m\n",
      "\u001b[31mPYTHONPATH=/usr/local/bin:/usr/lib/python35.zip:/usr/lib/python3.5:/usr/lib/python3.5/plat-x86_64-linux-gnu:/usr/lib/python3.5/lib-dynload:/usr/local/lib/python3.5/dist-packages:/usr/lib/python3/dist-packages\u001b[0m\n",
      "\u001b[31mSM_MODULE_NAME=train\u001b[0m\n",
      "\u001b[31mSM_TRAINING_ENV={\"additional_framework_parameters\":{},\"channel_input_dirs\":{\"training\":\"/opt/ml/input/data/training\"},\"current_host\":\"algo-1\",\"framework_module\":\"sagemaker_pytorch_container.training:main\",\"hosts\":[\"algo-1\"],\"hyperparameters\":{\"epochs\":10,\"hidden_dim\":200},\"input_config_dir\":\"/opt/ml/input/config\",\"input_data_config\":{\"training\":{\"RecordWrapperType\":\"None\",\"S3DistributionType\":\"FullyReplicated\",\"TrainingInputMode\":\"File\"}},\"input_dir\":\"/opt/ml/input\",\"job_name\":\"sagemaker-pytorch-2019-05-17-22-19-23-915\",\"log_level\":20,\"model_dir\":\"/opt/ml/model\",\"module_dir\":\"s3://sagemaker-us-west-2-015011184190/sagemaker-pytorch-2019-05-17-22-19-23-915/source/sourcedir.tar.gz\",\"module_name\":\"train\",\"network_interface_name\":\"ethwe\",\"num_cpus\":4,\"num_gpus\":1,\"output_data_dir\":\"/opt/ml/output/data\",\"output_dir\":\"/opt/ml/output\",\"output_intermediate_dir\":\"/opt/ml/output/intermediate\",\"resource_config\":{\"current_host\":\"algo-1\",\"hosts\":[\"algo-1\"],\"network_interface_name\":\"ethwe\"},\"user_entry_point\":\"train.py\"}\n",
      "\u001b[0m\n",
      "\u001b[31mInvoking script with the following command:\n",
      "\u001b[0m\n",
      "\u001b[31m/usr/bin/python -m train --epochs 10 --hidden_dim 200\n",
      "\n",
      "\u001b[0m\n",
      "\u001b[31mUsing device cuda.\u001b[0m\n",
      "\u001b[31mGet train data loader.\u001b[0m\n"
     ]
    },
    {
     "name": "stdout",
     "output_type": "stream",
     "text": [
      "\u001b[31mModel loaded with embedding_dim 32, hidden_dim 200, vocab_size 5000.\u001b[0m\n",
      "\u001b[31mEpoch: 1, BCELoss: 0.6737929655581104\u001b[0m\n",
      "\u001b[31mEpoch: 2, BCELoss: 0.5902617914336068\u001b[0m\n",
      "\u001b[31mEpoch: 3, BCELoss: 0.49704156907237307\u001b[0m\n",
      "\u001b[31mEpoch: 4, BCELoss: 0.4305852949619293\u001b[0m\n",
      "\u001b[31mEpoch: 5, BCELoss: 0.3889460143994312\u001b[0m\n",
      "\u001b[31mEpoch: 6, BCELoss: 0.3475019810151081\u001b[0m\n",
      "\u001b[31mEpoch: 7, BCELoss: 0.3162523927737255\u001b[0m\n",
      "\u001b[31mEpoch: 8, BCELoss: 0.3079851138956693\u001b[0m\n",
      "\u001b[31mEpoch: 9, BCELoss: 0.2847411434869377\u001b[0m\n",
      "\u001b[31mEpoch: 10, BCELoss: 0.2797966684613909\u001b[0m\n",
      "\u001b[31m2019-05-17 22:26:05,219 sagemaker-containers INFO     Reporting training SUCCESS\u001b[0m\n",
      "\n",
      "2019-05-17 22:26:11 Uploading - Uploading generated training model\n",
      "2019-05-17 22:26:11 Completed - Training job completed\n",
      "Billable seconds: 285\n"
     ]
    }
   ],
   "source": [
    "estimator.fit({'training': input_data})"
   ]
  },
  {
   "cell_type": "markdown",
   "metadata": {},
   "source": [
    "## Step 5: Testing the model\n",
    "\n",
    "As mentioned at the top of this notebook, we will be testing this model by first deploying it and then sending the testing data to the deployed endpoint. We will do this so that we can make sure that the deployed model is working correctly.\n",
    "\n",
    "## Step 6: Deploy the model for testing\n",
    "\n",
    "Now that we have trained our model, we would like to test it to see how it performs. Currently our model takes input of the form `review_length, review[500]` where `review[500]` is a sequence of `500` integers which describe the words present in the review, encoded using `word_dict`. Fortunately for us, SageMaker provides built-in inference code for models with simple inputs such as this.\n",
    "\n",
    "There is one thing that we need to provide, however, and that is a function which loads the saved model. This function must be called `model_fn()` and takes as its only parameter a path to the directory where the model artifacts are stored. This function must also be present in the python file which we specified as the entry point. In our case the model loading function has been provided and so no changes need to be made.\n",
    "\n",
    "**NOTE**: When the built-in inference code is run it must import the `model_fn()` method from the `train.py` file. This is why the training code is wrapped in a main guard ( ie, `if __name__ == '__main__':` )\n",
    "\n",
    "Since we don't need to change anything in the code that was uploaded during training, we can simply deploy the current model as-is.\n",
    "\n",
    "**NOTE:** When deploying a model you are asking SageMaker to launch an compute instance that will wait for data to be sent to it. As a result, this compute instance will continue to run until *you* shut it down. This is important to know since the cost of a deployed endpoint depends on how long it has been running for.\n",
    "\n",
    "In other words **If you are no longer using a deployed endpoint, shut it down!**\n",
    "\n",
    "**TODO:** Deploy the trained model."
   ]
  },
  {
   "cell_type": "code",
   "execution_count": 29,
   "metadata": {},
   "outputs": [
    {
     "name": "stdout",
     "output_type": "stream",
     "text": [
      "---------------------------------------------------------------------------!"
     ]
    }
   ],
   "source": [
    "# TODO: Deploy the trained model\n",
    "predictor = estimator.deploy(initial_instance_count=1, instance_type='ml.m4.xlarge')"
   ]
  },
  {
   "cell_type": "markdown",
   "metadata": {},
   "source": [
    "## Step 7 - Use the model for testing\n",
    "\n",
    "Once deployed, we can read in the test data and send it off to our deployed model to get some results. Once we collect all of the results we can determine how accurate our model is."
   ]
  },
  {
   "cell_type": "code",
   "execution_count": 30,
   "metadata": {},
   "outputs": [],
   "source": [
    "test_X = pd.concat([pd.DataFrame(test_X_len), pd.DataFrame(test_X)], axis=1)\n",
    "# print(test_X)"
   ]
  },
  {
   "cell_type": "code",
   "execution_count": 31,
   "metadata": {},
   "outputs": [],
   "source": [
    "# We split the data into chunks and send each chunk seperately, accumulating the results.\n",
    "\n",
    "def predict(data, rows=512):\n",
    "    split_array = np.array_split(data, int(data.shape[0] / float(rows) + 1))\n",
    "    predictions = np.array([])\n",
    "    for array in split_array:\n",
    "        predictions = np.append(predictions, predictor.predict(array))\n",
    "    \n",
    "    return predictions"
   ]
  },
  {
   "cell_type": "code",
   "execution_count": 32,
   "metadata": {},
   "outputs": [],
   "source": [
    "predictions = predict(test_X.values)\n",
    "predictions = [round(num) for num in predictions]"
   ]
  },
  {
   "cell_type": "code",
   "execution_count": 33,
   "metadata": {},
   "outputs": [
    {
     "data": {
      "text/plain": [
       "0.82236"
      ]
     },
     "execution_count": 33,
     "metadata": {},
     "output_type": "execute_result"
    }
   ],
   "source": [
    "from sklearn.metrics import accuracy_score\n",
    "accuracy_score(test_y, predictions)"
   ]
  },
  {
   "cell_type": "markdown",
   "metadata": {},
   "source": [
    "**Question:** How does this model compare to the XGBoost model you created earlier? Why might these two models perform differently on this dataset? Which do *you* think is better for sentiment analysis?"
   ]
  },
  {
   "cell_type": "markdown",
   "metadata": {},
   "source": [
    "**Answer:** This model has 82% accuracy, while the XGBoost has around 86%. Not only for this result, but also for the simplicity of XGBoost over this, I would go with XGBoost for a problem like sentiment analysis.  "
   ]
  },
  {
   "cell_type": "markdown",
   "metadata": {},
   "source": [
    "### (TODO) More testing\n",
    "\n",
    "We now have a trained model which has been deployed and which we can send processed reviews to and which returns the predicted sentiment. However, ultimately we would like to be able to send our model an unprocessed review. That is, we would like to send the review itself as a string. For example, suppose we wish to send the following review to our model."
   ]
  },
  {
   "cell_type": "code",
   "execution_count": 34,
   "metadata": {},
   "outputs": [],
   "source": [
    "test_review = 'The simplest pleasures in life are the best, and this film is one of them. Combining a rather basic storyline of love and adventure this movie transcends the usual weekend fair with wit and unmitigated charm.'"
   ]
  },
  {
   "cell_type": "markdown",
   "metadata": {},
   "source": [
    "The question we now need to answer is, how do we send this review to our model?\n",
    "\n",
    "Recall in the first section of this notebook we did a bunch of data processing to the IMDb dataset. In particular, we did two specific things to the provided reviews.\n",
    " - Removed any html tags and stemmed the input\n",
    " - Encoded the review as a sequence of integers using `word_dict`\n",
    " \n",
    "In order process the review we will need to repeat these two steps.\n",
    "\n",
    "**TODO**: Using the `review_to_words` and `convert_and_pad` methods from section one, convert `test_review` into a numpy array `test_data` suitable to send to our model. Remember that our model expects input of the form `review_length, review[500]`."
   ]
  },
  {
   "cell_type": "code",
   "execution_count": 35,
   "metadata": {},
   "outputs": [],
   "source": [
    "# TODO: Convert test_review into a form usable by the model and save the results in test_data\n",
    "\n",
    "review_words = review_to_words(test_review)\n",
    "data, test_len = convert_and_pad(word_dict, review_words)\n",
    "test_data = [[test_len] + data]\n",
    "\n",
    "# print(test_data)"
   ]
  },
  {
   "cell_type": "markdown",
   "metadata": {},
   "source": [
    "Now that we have processed the review, we can send the resulting array to our model to predict the sentiment of the review."
   ]
  },
  {
   "cell_type": "code",
   "execution_count": 36,
   "metadata": {},
   "outputs": [
    {
     "data": {
      "text/plain": [
       "array(0.7326809, dtype=float32)"
      ]
     },
     "execution_count": 36,
     "metadata": {},
     "output_type": "execute_result"
    }
   ],
   "source": [
    "predictor.predict(test_data)"
   ]
  },
  {
   "cell_type": "markdown",
   "metadata": {},
   "source": [
    "Since the return value of our model is close to `1`, we can be certain that the review we submitted is positive."
   ]
  },
  {
   "cell_type": "markdown",
   "metadata": {},
   "source": [
    "### Delete the endpoint\n",
    "\n",
    "Of course, just like in the XGBoost notebook, once we've deployed an endpoint it continues to run until we tell it to shut down. Since we are done using our endpoint for now, we can delete it."
   ]
  },
  {
   "cell_type": "code",
   "execution_count": 37,
   "metadata": {},
   "outputs": [],
   "source": [
    "estimator.delete_endpoint()"
   ]
  },
  {
   "cell_type": "markdown",
   "metadata": {},
   "source": [
    "## Step 6 (again) - Deploy the model for the web app\n",
    "\n",
    "Now that we know that our model is working, it's time to create some custom inference code so that we can send the model a review which has not been processed and have it determine the sentiment of the review.\n",
    "\n",
    "As we saw above, by default the estimator which we created, when deployed, will use the entry script and directory which we provided when creating the model. However, since we now wish to accept a string as input and our model expects a processed review, we need to write some custom inference code.\n",
    "\n",
    "We will store the code that we write in the `serve` directory. Provided in this directory is the `model.py` file that we used to construct our model, a `utils.py` file which contains the `review_to_words` and `convert_and_pad` pre-processing functions which we used during the initial data processing, and `predict.py`, the file which will contain our custom inference code. Note also that `requirements.txt` is present which will tell SageMaker what Python libraries are required by our custom inference code.\n",
    "\n",
    "When deploying a PyTorch model in SageMaker, you are expected to provide four functions which the SageMaker inference container will use.\n",
    " - `model_fn`: This function is the same function that we used in the training script and it tells SageMaker how to load our model.\n",
    " - `input_fn`: This function receives the raw serialized input that has been sent to the model's endpoint and its job is to de-serialize and make the input available for the inference code.\n",
    " - `output_fn`: This function takes the output of the inference code and its job is to serialize this output and return it to the caller of the model's endpoint.\n",
    " - `predict_fn`: The heart of the inference script, this is where the actual prediction is done and is the function which you will need to complete.\n",
    "\n",
    "For the simple website that we are constructing during this project, the `input_fn` and `output_fn` methods are relatively straightforward. We only require being able to accept a string as input and we expect to return a single value as output. You might imagine though that in a more complex application the input or output may be image data or some other binary data which would require some effort to serialize.\n",
    "\n",
    "### (TODO) Writing inference code\n",
    "\n",
    "Before writing our custom inference code, we will begin by taking a look at the code which has been provided."
   ]
  },
  {
   "cell_type": "code",
   "execution_count": 38,
   "metadata": {},
   "outputs": [
    {
     "name": "stdout",
     "output_type": "stream",
     "text": [
      "\u001b[34mimport\u001b[39;49;00m \u001b[04m\u001b[36margparse\u001b[39;49;00m\r\n",
      "\u001b[34mimport\u001b[39;49;00m \u001b[04m\u001b[36mjson\u001b[39;49;00m\r\n",
      "\u001b[34mimport\u001b[39;49;00m \u001b[04m\u001b[36mos\u001b[39;49;00m\r\n",
      "\u001b[34mimport\u001b[39;49;00m \u001b[04m\u001b[36mpickle\u001b[39;49;00m\r\n",
      "\u001b[34mimport\u001b[39;49;00m \u001b[04m\u001b[36msys\u001b[39;49;00m\r\n",
      "\u001b[34mimport\u001b[39;49;00m \u001b[04m\u001b[36msagemaker_containers\u001b[39;49;00m\r\n",
      "\u001b[34mimport\u001b[39;49;00m \u001b[04m\u001b[36mpandas\u001b[39;49;00m \u001b[34mas\u001b[39;49;00m \u001b[04m\u001b[36mpd\u001b[39;49;00m\r\n",
      "\u001b[34mimport\u001b[39;49;00m \u001b[04m\u001b[36mnumpy\u001b[39;49;00m \u001b[34mas\u001b[39;49;00m \u001b[04m\u001b[36mnp\u001b[39;49;00m\r\n",
      "\u001b[34mimport\u001b[39;49;00m \u001b[04m\u001b[36mtorch\u001b[39;49;00m\r\n",
      "\u001b[34mimport\u001b[39;49;00m \u001b[04m\u001b[36mtorch.nn\u001b[39;49;00m \u001b[34mas\u001b[39;49;00m \u001b[04m\u001b[36mnn\u001b[39;49;00m\r\n",
      "\u001b[34mimport\u001b[39;49;00m \u001b[04m\u001b[36mtorch.optim\u001b[39;49;00m \u001b[34mas\u001b[39;49;00m \u001b[04m\u001b[36moptim\u001b[39;49;00m\r\n",
      "\u001b[34mimport\u001b[39;49;00m \u001b[04m\u001b[36mtorch.utils.data\u001b[39;49;00m\r\n",
      "\r\n",
      "\u001b[34mfrom\u001b[39;49;00m \u001b[04m\u001b[36mmodel\u001b[39;49;00m \u001b[34mimport\u001b[39;49;00m LSTMClassifier\r\n",
      "\r\n",
      "\u001b[34mfrom\u001b[39;49;00m \u001b[04m\u001b[36mutils\u001b[39;49;00m \u001b[34mimport\u001b[39;49;00m review_to_words, convert_and_pad\r\n",
      "\r\n",
      "\u001b[34mdef\u001b[39;49;00m \u001b[32mmodel_fn\u001b[39;49;00m(model_dir):\r\n",
      "    \u001b[33m\"\"\"Load the PyTorch model from the `model_dir` directory.\"\"\"\u001b[39;49;00m\r\n",
      "    \u001b[34mprint\u001b[39;49;00m(\u001b[33m\"\u001b[39;49;00m\u001b[33mLoading model.\u001b[39;49;00m\u001b[33m\"\u001b[39;49;00m)\r\n",
      "\r\n",
      "    \u001b[37m# First, load the parameters used to create the model.\u001b[39;49;00m\r\n",
      "    model_info = {}\r\n",
      "    model_info_path = os.path.join(model_dir, \u001b[33m'\u001b[39;49;00m\u001b[33mmodel_info.pth\u001b[39;49;00m\u001b[33m'\u001b[39;49;00m)\r\n",
      "    \u001b[34mwith\u001b[39;49;00m \u001b[36mopen\u001b[39;49;00m(model_info_path, \u001b[33m'\u001b[39;49;00m\u001b[33mrb\u001b[39;49;00m\u001b[33m'\u001b[39;49;00m) \u001b[34mas\u001b[39;49;00m f:\r\n",
      "        model_info = torch.load(f)\r\n",
      "\r\n",
      "    \u001b[34mprint\u001b[39;49;00m(\u001b[33m\"\u001b[39;49;00m\u001b[33mmodel_info: {}\u001b[39;49;00m\u001b[33m\"\u001b[39;49;00m.format(model_info))\r\n",
      "\r\n",
      "    \u001b[37m# Determine the device and construct the model.\u001b[39;49;00m\r\n",
      "    device = torch.device(\u001b[33m\"\u001b[39;49;00m\u001b[33mcuda\u001b[39;49;00m\u001b[33m\"\u001b[39;49;00m \u001b[34mif\u001b[39;49;00m torch.cuda.is_available() \u001b[34melse\u001b[39;49;00m \u001b[33m\"\u001b[39;49;00m\u001b[33mcpu\u001b[39;49;00m\u001b[33m\"\u001b[39;49;00m)\r\n",
      "    model = LSTMClassifier(model_info[\u001b[33m'\u001b[39;49;00m\u001b[33membedding_dim\u001b[39;49;00m\u001b[33m'\u001b[39;49;00m], model_info[\u001b[33m'\u001b[39;49;00m\u001b[33mhidden_dim\u001b[39;49;00m\u001b[33m'\u001b[39;49;00m], model_info[\u001b[33m'\u001b[39;49;00m\u001b[33mvocab_size\u001b[39;49;00m\u001b[33m'\u001b[39;49;00m])\r\n",
      "\r\n",
      "    \u001b[37m# Load the store model parameters.\u001b[39;49;00m\r\n",
      "    model_path = os.path.join(model_dir, \u001b[33m'\u001b[39;49;00m\u001b[33mmodel.pth\u001b[39;49;00m\u001b[33m'\u001b[39;49;00m)\r\n",
      "    \u001b[34mwith\u001b[39;49;00m \u001b[36mopen\u001b[39;49;00m(model_path, \u001b[33m'\u001b[39;49;00m\u001b[33mrb\u001b[39;49;00m\u001b[33m'\u001b[39;49;00m) \u001b[34mas\u001b[39;49;00m f:\r\n",
      "        model.load_state_dict(torch.load(f))\r\n",
      "\r\n",
      "    \u001b[37m# Load the saved word_dict.\u001b[39;49;00m\r\n",
      "    word_dict_path = os.path.join(model_dir, \u001b[33m'\u001b[39;49;00m\u001b[33mword_dict.pkl\u001b[39;49;00m\u001b[33m'\u001b[39;49;00m)\r\n",
      "    \u001b[34mwith\u001b[39;49;00m \u001b[36mopen\u001b[39;49;00m(word_dict_path, \u001b[33m'\u001b[39;49;00m\u001b[33mrb\u001b[39;49;00m\u001b[33m'\u001b[39;49;00m) \u001b[34mas\u001b[39;49;00m f:\r\n",
      "        model.word_dict = pickle.load(f)\r\n",
      "\r\n",
      "    model.to(device).eval()\r\n",
      "\r\n",
      "    \u001b[34mprint\u001b[39;49;00m(\u001b[33m\"\u001b[39;49;00m\u001b[33mDone loading model.\u001b[39;49;00m\u001b[33m\"\u001b[39;49;00m)\r\n",
      "    \u001b[34mreturn\u001b[39;49;00m model\r\n",
      "\r\n",
      "\u001b[34mdef\u001b[39;49;00m \u001b[32minput_fn\u001b[39;49;00m(serialized_input_data, content_type):\r\n",
      "    \u001b[34mprint\u001b[39;49;00m(\u001b[33m'\u001b[39;49;00m\u001b[33mDeserializing the input data.\u001b[39;49;00m\u001b[33m'\u001b[39;49;00m)\r\n",
      "    \u001b[34mif\u001b[39;49;00m content_type == \u001b[33m'\u001b[39;49;00m\u001b[33mtext/plain\u001b[39;49;00m\u001b[33m'\u001b[39;49;00m:\r\n",
      "        data = serialized_input_data.decode(\u001b[33m'\u001b[39;49;00m\u001b[33mutf-8\u001b[39;49;00m\u001b[33m'\u001b[39;49;00m)\r\n",
      "        \u001b[34mreturn\u001b[39;49;00m data\r\n",
      "    \u001b[34mraise\u001b[39;49;00m \u001b[36mException\u001b[39;49;00m(\u001b[33m'\u001b[39;49;00m\u001b[33mRequested unsupported ContentType in content_type: \u001b[39;49;00m\u001b[33m'\u001b[39;49;00m + content_type)\r\n",
      "\r\n",
      "\u001b[34mdef\u001b[39;49;00m \u001b[32moutput_fn\u001b[39;49;00m(prediction_output, accept):\r\n",
      "    \u001b[34mprint\u001b[39;49;00m(\u001b[33m'\u001b[39;49;00m\u001b[33mSerializing the generated output.\u001b[39;49;00m\u001b[33m'\u001b[39;49;00m)\r\n",
      "    \u001b[34mreturn\u001b[39;49;00m \u001b[36mstr\u001b[39;49;00m(prediction_output)\r\n",
      "\r\n",
      "\u001b[34mdef\u001b[39;49;00m \u001b[32mpredict_fn\u001b[39;49;00m(input_data, model):\r\n",
      "    \u001b[34mprint\u001b[39;49;00m(\u001b[33m'\u001b[39;49;00m\u001b[33mInferring sentiment of input data.\u001b[39;49;00m\u001b[33m'\u001b[39;49;00m)\r\n",
      "\r\n",
      "    device = torch.device(\u001b[33m\"\u001b[39;49;00m\u001b[33mcuda\u001b[39;49;00m\u001b[33m\"\u001b[39;49;00m \u001b[34mif\u001b[39;49;00m torch.cuda.is_available() \u001b[34melse\u001b[39;49;00m \u001b[33m\"\u001b[39;49;00m\u001b[33mcpu\u001b[39;49;00m\u001b[33m\"\u001b[39;49;00m)\r\n",
      "    \r\n",
      "    \u001b[34mif\u001b[39;49;00m model.word_dict \u001b[35mis\u001b[39;49;00m \u001b[36mNone\u001b[39;49;00m:\r\n",
      "        \u001b[34mraise\u001b[39;49;00m \u001b[36mException\u001b[39;49;00m(\u001b[33m'\u001b[39;49;00m\u001b[33mModel has not been loaded properly, no word_dict.\u001b[39;49;00m\u001b[33m'\u001b[39;49;00m)\r\n",
      "    \r\n",
      "    \u001b[37m# TODO: Process input_data so that it is ready to be sent to our model.\u001b[39;49;00m\r\n",
      "    \u001b[37m#       You should produce two variables:\u001b[39;49;00m\r\n",
      "    \u001b[37m#         data_X   - A sequence of length 500 which represents the converted review\u001b[39;49;00m\r\n",
      "    \u001b[37m#         data_len - The length of the review\u001b[39;49;00m\r\n",
      "\r\n",
      "    review_words = review_to_words(input_data)\r\n",
      "    data_X, data_len = convert_and_pad(model.word_dict, review_words)\r\n",
      "\r\n",
      "    \u001b[37m# Using data_X and data_len we construct an appropriate input tensor. Remember\u001b[39;49;00m\r\n",
      "    \u001b[37m# that our model expects input data of the form 'len, review[500]'.\u001b[39;49;00m\r\n",
      "    data_pack = np.hstack((data_len, data_X))\r\n",
      "    data_pack = data_pack.reshape(\u001b[34m1\u001b[39;49;00m, -\u001b[34m1\u001b[39;49;00m)\r\n",
      "    data = torch.from_numpy(data_pack)\r\n",
      "    data = data.to(device)\r\n",
      "\r\n",
      "    \u001b[37m# Make sure to put the model into evaluation mode\u001b[39;49;00m\r\n",
      "    model.eval()\r\n",
      "\r\n",
      "    \u001b[37m# TODO: Compute the result of applying the model to the input data. The variable `result` should\u001b[39;49;00m\r\n",
      "    \u001b[37m#       be a numpy array which contains a single integer which is either 1 or 0\u001b[39;49;00m\r\n",
      "    \u001b[34mwith\u001b[39;49;00m torch.no_grad():\r\n",
      "        output = model.forward(data)\r\n",
      "        output = output.to(\u001b[33m'\u001b[39;49;00m\u001b[33mcpu\u001b[39;49;00m\u001b[33m'\u001b[39;49;00m)\r\n",
      "        result = np.round(output.numpy())\r\n",
      "        result = \u001b[36mint\u001b[39;49;00m(result)\r\n",
      "\r\n",
      "    \u001b[34mreturn\u001b[39;49;00m result\r\n"
     ]
    }
   ],
   "source": [
    "!pygmentize serve/predict.py"
   ]
  },
  {
   "cell_type": "markdown",
   "metadata": {},
   "source": [
    "As mentioned earlier, the `model_fn` method is the same as the one provided in the training code and the `input_fn` and `output_fn` methods are very simple and your task will be to complete the `predict_fn` method. Make sure that you save the completed file as `predict.py` in the `serve` directory.\n",
    "\n",
    "**TODO**: Complete the `predict_fn()` method in the `serve/predict.py` file."
   ]
  },
  {
   "cell_type": "markdown",
   "metadata": {},
   "source": [
    "### Deploying the model\n",
    "\n",
    "Now that the custom inference code has been written, we will create and deploy our model. To begin with, we need to construct a new PyTorchModel object which points to the model artifacts created during training and also points to the inference code that we wish to use. Then we can call the deploy method to launch the deployment container.\n",
    "\n",
    "**NOTE**: The default behaviour for a deployed PyTorch model is to assume that any input passed to the predictor is a `numpy` array. In our case we want to send a string so we need to construct a simple wrapper around the `RealTimePredictor` class to accomodate simple strings. In a more complicated situation you may want to provide a serialization object, for example if you wanted to sent image data."
   ]
  },
  {
   "cell_type": "code",
   "execution_count": 39,
   "metadata": {},
   "outputs": [
    {
     "name": "stdout",
     "output_type": "stream",
     "text": [
      "---------------------------------------------------------------------------------------!"
     ]
    }
   ],
   "source": [
    "from sagemaker.predictor import RealTimePredictor\n",
    "from sagemaker.pytorch import PyTorchModel\n",
    "\n",
    "class StringPredictor(RealTimePredictor):\n",
    "    def __init__(self, endpoint_name, sagemaker_session):\n",
    "        super(StringPredictor, self).__init__(endpoint_name, sagemaker_session, content_type='text/plain')\n",
    "\n",
    "model = PyTorchModel(model_data=estimator.model_data,\n",
    "                     role = role,\n",
    "                     framework_version='0.4.0',\n",
    "                     entry_point='predict.py',\n",
    "                     source_dir='serve',\n",
    "                     predictor_cls=StringPredictor)\n",
    "predictor = model.deploy(initial_instance_count=1, instance_type='ml.m4.xlarge')"
   ]
  },
  {
   "cell_type": "markdown",
   "metadata": {},
   "source": [
    "### Testing the model\n",
    "\n",
    "Now that we have deployed our model with the custom inference code, we should test to see if everything is working. Here we test our model by loading the first `250` positive and negative reviews and send them to the endpoint, then collect the results. The reason for only sending some of the data is that the amount of time it takes for our model to process the input and then perform inference is quite long and so testing the entire data set would be prohibitive."
   ]
  },
  {
   "cell_type": "code",
   "execution_count": 40,
   "metadata": {},
   "outputs": [],
   "source": [
    "import glob\n",
    "\n",
    "def test_reviews(data_dir='../data/aclImdb', stop=250):\n",
    "    \n",
    "    results = []\n",
    "    ground = []\n",
    "    \n",
    "    # We make sure to test both positive and negative reviews    \n",
    "    for sentiment in ['pos', 'neg']:\n",
    "        \n",
    "        path = os.path.join(data_dir, 'test', sentiment, '*.txt')\n",
    "        files = glob.glob(path)\n",
    "        \n",
    "        files_read = 0\n",
    "        \n",
    "        print('Starting ', sentiment, ' files')\n",
    "        \n",
    "        # Iterate through the files and send them to the predictor\n",
    "        for f in files:\n",
    "            with open(f) as review:\n",
    "                # First, we store the ground truth (was the review positive or negative)\n",
    "                if sentiment == 'pos':\n",
    "                    ground.append(1)\n",
    "                else:\n",
    "                    ground.append(0)\n",
    "                # Read in the review and convert to 'utf-8' for transmission via HTTP\n",
    "                review_input = review.read().encode('utf-8')\n",
    "                # Send the review to the predictor and store the results\n",
    "                results.append(int(predictor.predict(review_input)))\n",
    "                \n",
    "            # Sending reviews to our endpoint one at a time takes a while so we\n",
    "            # only send a small number of reviews\n",
    "            files_read += 1\n",
    "            if files_read == stop:\n",
    "                break\n",
    "            \n",
    "    return ground, results"
   ]
  },
  {
   "cell_type": "code",
   "execution_count": 41,
   "metadata": {},
   "outputs": [
    {
     "name": "stdout",
     "output_type": "stream",
     "text": [
      "Starting  pos  files\n",
      "Starting  neg  files\n"
     ]
    }
   ],
   "source": [
    "ground, results = test_reviews()"
   ]
  },
  {
   "cell_type": "code",
   "execution_count": 42,
   "metadata": {},
   "outputs": [
    {
     "data": {
      "text/plain": [
       "0.82"
      ]
     },
     "execution_count": 42,
     "metadata": {},
     "output_type": "execute_result"
    }
   ],
   "source": [
    "from sklearn.metrics import accuracy_score\n",
    "accuracy_score(ground, results)"
   ]
  },
  {
   "cell_type": "markdown",
   "metadata": {},
   "source": [
    "As an additional test, we can try sending the `test_review` that we looked at earlier."
   ]
  },
  {
   "cell_type": "code",
   "execution_count": 43,
   "metadata": {},
   "outputs": [
    {
     "data": {
      "text/plain": [
       "b'1'"
      ]
     },
     "execution_count": 43,
     "metadata": {},
     "output_type": "execute_result"
    }
   ],
   "source": [
    "predictor.predict(test_review)"
   ]
  },
  {
   "cell_type": "markdown",
   "metadata": {},
   "source": [
    "Now that we know our endpoint is working as expected, we can set up the web page that will interact with it. If you don't have time to finish the project now, make sure to skip down to the end of this notebook and shut down your endpoint. You can deploy it again when you come back."
   ]
  },
  {
   "cell_type": "markdown",
   "metadata": {},
   "source": [
    "## Step 7 (again): Use the model for the web app\n",
    "\n",
    "> **TODO:** This entire section and the next contain tasks for you to complete, mostly using the AWS console.\n",
    "\n",
    "So far we have been accessing our model endpoint by constructing a predictor object which uses the endpoint and then just using the predictor object to perform inference. What if we wanted to create a web app which accessed our model? The way things are set up currently makes that not possible since in order to access a SageMaker endpoint the app would first have to authenticate with AWS using an IAM role which included access to SageMaker endpoints. However, there is an easier way! We just need to use some additional AWS services.\n",
    "\n",
    "<img src=\"Web App Diagram.svg\">\n",
    "\n",
    "The diagram above gives an overview of how the various services will work together. On the far right is the model which we trained above and which is deployed using SageMaker. On the far left is our web app that collects a user's movie review, sends it off and expects a positive or negative sentiment in return.\n",
    "\n",
    "In the middle is where some of the magic happens. We will construct a Lambda function, which you can think of as a straightforward Python function that can be executed whenever a specified event occurs. We will give this function permission to send and recieve data from a SageMaker endpoint.\n",
    "\n",
    "Lastly, the method we will use to execute the Lambda function is a new endpoint that we will create using API Gateway. This endpoint will be a url that listens for data to be sent to it. Once it gets some data it will pass that data on to the Lambda function and then return whatever the Lambda function returns. Essentially it will act as an interface that lets our web app communicate with the Lambda function.\n",
    "\n",
    "### Setting up a Lambda function\n",
    "\n",
    "The first thing we are going to do is set up a Lambda function. This Lambda function will be executed whenever our public API has data sent to it. When it is executed it will receive the data, perform any sort of processing that is required, send the data (the review) to the SageMaker endpoint we've created and then return the result.\n",
    "\n",
    "#### Part A: Create an IAM Role for the Lambda function\n",
    "\n",
    "Since we want the Lambda function to call a SageMaker endpoint, we need to make sure that it has permission to do so. To do this, we will construct a role that we can later give the Lambda function.\n",
    "\n",
    "Using the AWS Console, navigate to the **IAM** page and click on **Roles**. Then, click on **Create role**. Make sure that the **AWS service** is the type of trusted entity selected and choose **Lambda** as the service that will use this role, then click **Next: Permissions**.\n",
    "\n",
    "In the search box type `sagemaker` and select the check box next to the **AmazonSageMakerFullAccess** policy. Then, click on **Next: Review**.\n",
    "\n",
    "Lastly, give this role a name. Make sure you use a name that you will remember later on, for example `LambdaSageMakerRole`. Then, click on **Create role**.\n",
    "\n",
    "#### Part B: Create a Lambda function\n",
    "\n",
    "Now it is time to actually create the Lambda function.\n",
    "\n",
    "Using the AWS Console, navigate to the AWS Lambda page and click on **Create a function**. When you get to the next page, make sure that **Author from scratch** is selected. Now, name your Lambda function, using a name that you will remember later on, for example `sentiment_analysis_func`. Make sure that the **Python 3.6** runtime is selected and then choose the role that you created in the previous part. Then, click on **Create Function**.\n",
    "\n",
    "On the next page you will see some information about the Lambda function you've just created. If you scroll down you should see an editor in which you can write the code that will be executed when your Lambda function is triggered. In our example, we will use the code below. \n",
    "\n",
    "```python\n",
    "# We need to use the low-level library to interact with SageMaker since the SageMaker API\n",
    "# is not available natively through Lambda.\n",
    "import boto3\n",
    "\n",
    "def lambda_handler(event, context):\n",
    "\n",
    "    # The SageMaker runtime is what allows us to invoke the endpoint that we've created.\n",
    "    runtime = boto3.Session().client('sagemaker-runtime')\n",
    "\n",
    "    # Now we use the SageMaker runtime to invoke our endpoint, sending the review we were given\n",
    "    response = runtime.invoke_endpoint(EndpointName = '**ENDPOINT NAME HERE**',    # The name of the endpoint we created\n",
    "                                       ContentType = 'text/plain',                 # The data format that is expected\n",
    "                                       Body = event['body'])                       # The actual review\n",
    "\n",
    "    # The response is an HTTP response whose body contains the result of our inference\n",
    "    result = response['Body'].read().decode('utf-8')\n",
    "\n",
    "    return {\n",
    "        'statusCode' : 200,\n",
    "        'headers' : { 'Content-Type' : 'text/plain', 'Access-Control-Allow-Origin' : '*' },\n",
    "        'body' : result\n",
    "    }\n",
    "```\n",
    "\n",
    "Once you have copy and pasted the code above into the Lambda code editor, replace the `**ENDPOINT NAME HERE**` portion with the name of the endpoint that we deployed earlier. You can determine the name of the endpoint using the code cell below."
   ]
  },
  {
   "cell_type": "code",
   "execution_count": 44,
   "metadata": {},
   "outputs": [
    {
     "data": {
      "text/plain": [
       "'sagemaker-pytorch-2019-05-17-22-43-02-500'"
      ]
     },
     "execution_count": 44,
     "metadata": {},
     "output_type": "execute_result"
    }
   ],
   "source": [
    "predictor.endpoint"
   ]
  },
  {
   "cell_type": "markdown",
   "metadata": {},
   "source": [
    "Once you have added the endpoint name to the Lambda function, click on **Save**. Your Lambda function is now up and running. Next we need to create a way for our web app to execute the Lambda function.\n",
    "\n",
    "### Setting up API Gateway\n",
    "\n",
    "Now that our Lambda function is set up, it is time to create a new API using API Gateway that will trigger the Lambda function we have just created.\n",
    "\n",
    "Using AWS Console, navigate to **Amazon API Gateway** and then click on **Get started**.\n",
    "\n",
    "On the next page, make sure that **New API** is selected and give the new api a name, for example, `sentiment_analysis_api`. Then, click on **Create API**.\n",
    "\n",
    "Now we have created an API, however it doesn't currently do anything. What we want it to do is to trigger the Lambda function that we created earlier.\n",
    "\n",
    "Select the **Actions** dropdown menu and click **Create Method**. A new blank method will be created, select its dropdown menu and select **POST**, then click on the check mark beside it.\n",
    "\n",
    "For the integration point, make sure that **Lambda Function** is selected and click on the **Use Lambda Proxy integration**. This option makes sure that the data that is sent to the API is then sent directly to the Lambda function with no processing. It also means that the return value must be a proper response object as it will also not be processed by API Gateway.\n",
    "\n",
    "Type the name of the Lambda function you created earlier into the **Lambda Function** text entry box and then click on **Save**. Click on **OK** in the pop-up box that then appears, giving permission to API Gateway to invoke the Lambda function you created.\n",
    "\n",
    "The last step in creating the API Gateway is to select the **Actions** dropdown and click on **Deploy API**. You will need to create a new Deployment stage and name it anything you like, for example `prod`.\n",
    "\n",
    "You have now successfully set up a public API to access your SageMaker model. Make sure to copy or write down the URL provided to invoke your newly created public API as this will be needed in the next step. This URL can be found at the top of the page, highlighted in blue next to the text **Invoke URL**."
   ]
  },
  {
   "cell_type": "markdown",
   "metadata": {},
   "source": [
    "## Step 4: Deploying our web app\n",
    "\n",
    "Now that we have a publicly available API, we can start using it in a web app. For our purposes, we have provided a simple static html file which can make use of the public api you created earlier.\n",
    "\n",
    "In the `website` folder there should be a file called `index.html`. Download the file to your computer and open that file up in a text editor of your choice. There should be a line which contains **\\*\\*REPLACE WITH PUBLIC API URL\\*\\***. Replace this string with the url that you wrote down in the last step and then save the file.\n",
    "\n",
    "Now, if you open `index.html` on your local computer, your browser will behave as a local web server and you can use the provided site to interact with your SageMaker model.\n",
    "\n",
    "If you'd like to go further, you can host this html file anywhere you'd like, for example using github or hosting a static site on Amazon's S3. Once you have done this you can share the link with anyone you'd like and have them play with it too!\n",
    "\n",
    "> **Important Note** In order for the web app to communicate with the SageMaker endpoint, the endpoint has to actually be deployed and running. This means that you are paying for it. Make sure that the endpoint is running when you want to use the web app but that you shut it down when you don't need it, otherwise you will end up with a surprisingly large AWS bill.\n",
    "\n",
    "**TODO:** Make sure that you include the edited `index.html` file in your project submission."
   ]
  },
  {
   "cell_type": "markdown",
   "metadata": {},
   "source": [
    "Now that your web app is working, trying playing around with it and see how well it works.\n",
    "\n",
    "**Question**: Give an example of a review that you entered into your web app. What was the predicted sentiment of your example review?"
   ]
  },
  {
   "cell_type": "markdown",
   "metadata": {},
   "source": [
    "**Answer:** I tried different examples, most of them were amazingly accurate. However I found a sentence that misleaded the result: \"Not a good movie\" yield a \"positive\" prediction. I beleive that the word \"not\" isn't easy to proccess in the context."
   ]
  },
  {
   "cell_type": "markdown",
   "metadata": {},
   "source": [
    "### Delete the endpoint\n",
    "\n",
    "Remember to always shut down your endpoint if you are no longer using it. You are charged for the length of time that the endpoint is running so if you forget and leave it on you could end up with an unexpectedly large bill."
   ]
  },
  {
   "cell_type": "code",
   "execution_count": 45,
   "metadata": {},
   "outputs": [],
   "source": [
    "predictor.delete_endpoint()"
   ]
  },
  {
   "cell_type": "code",
   "execution_count": null,
   "metadata": {},
   "outputs": [],
   "source": []
  }
 ],
 "metadata": {
  "kernelspec": {
   "display_name": "conda_pytorch_p36",
   "language": "python",
   "name": "conda_pytorch_p36"
  },
  "language_info": {
   "codemirror_mode": {
    "name": "ipython",
    "version": 3
   },
   "file_extension": ".py",
   "mimetype": "text/x-python",
   "name": "python",
   "nbconvert_exporter": "python",
   "pygments_lexer": "ipython3",
   "version": "3.6.5"
  }
 },
 "nbformat": 4,
 "nbformat_minor": 2
}
