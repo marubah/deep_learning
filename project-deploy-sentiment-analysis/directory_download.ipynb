{
 "cells": [
  {
   "cell_type": "code",
   "execution_count": 1,
   "metadata": {},
   "outputs": [
    {
     "name": "stdout",
     "output_type": "stream",
     "text": [
      "README.md\r\n",
      "SageMaker Project.ipynb\r\n",
      "serve/\r\n",
      "serve/requirements.txt\r\n",
      "serve/model.py\r\n",
      "serve/predict.py\r\n",
      "serve/utils.py\r\n",
      "train/\r\n",
      "train/requirements.txt\r\n",
      "train/model.py\r\n",
      "train/train.py\r\n",
      "train/__pycache__/\r\n",
      "train/__pycache__/model.cpython-36.pyc\r\n",
      "Untitled.ipynb\r\n",
      "Web App Diagram.svg\r\n",
      "website/\r\n",
      "website/index.html\r\n"
     ]
    }
   ],
   "source": [
    "!tar chvfz notebook.tar.gz *"
   ]
  },
  {
   "cell_type": "code",
   "execution_count": null,
   "metadata": {},
   "outputs": [],
   "source": []
  }
 ],
 "metadata": {
  "kernelspec": {
   "display_name": "conda_python3",
   "language": "python",
   "name": "conda_python3"
  },
  "language_info": {
   "codemirror_mode": {
    "name": "ipython",
    "version": 3
   },
   "file_extension": ".py",
   "mimetype": "text/x-python",
   "name": "python",
   "nbconvert_exporter": "python",
   "pygments_lexer": "ipython3",
   "version": "3.6.5"
  }
 },
 "nbformat": 4,
 "nbformat_minor": 2
}
